{
  "cells": [
    {
      "cell_type": "markdown",
      "metadata": {
        "id": "view-in-github",
        "colab_type": "text"
      },
      "source": [
        "<a href=\"https://colab.research.google.com/github/reyhaneghaderi/project/blob/main/Machine_learning.ipynb\" target=\"_parent\"><img src=\"https://colab.research.google.com/assets/colab-badge.svg\" alt=\"Open In Colab\"/></a>"
      ]
    },
    {
      "cell_type": "markdown",
      "source": [
        "Reyhaneh Ghaderi Chermahini\n",
        "\n",
        "student number: 1089173\n",
        "\n",
        "Degree program :stochastic and data science\n",
        "\n",
        "email: reyhaneh.ghadericher@edu.unito.it"
      ],
      "metadata": {
        "id": "ll2-Yt7VVnVA"
      }
    },
    {
      "cell_type": "markdown",
      "source": [
        " **objective one**"
      ],
      "metadata": {
        "id": "YOMbdM95uSYg"
      }
    },
    {
      "cell_type": "markdown",
      "source": [
        "## **part one **\n",
        "\n",
        "\n",
        "*   reading\n",
        "*   cleaning\n",
        "*   merging\n",
        "\n",
        "\n",
        "\n",
        "\n"
      ],
      "metadata": {
        "id": "3w1Wyp2ItksL"
      }
    },
    {
      "cell_type": "code",
      "source": [
        "import pandas as pd\n",
        "Sales = pd.read_csv(\"/content/drive/MyDrive/sales.csv\")\n",
        "Sales"
      ],
      "metadata": {
        "colab": {
          "base_uri": "https://localhost:8080/"
        },
        "id": "rmx3SIYegL1Z",
        "outputId": "7a399f87-91f7-4251-93bc-180c57357e07"
      },
      "execution_count": null,
      "outputs": [
        {
          "output_type": "execute_result",
          "data": {
            "text/plain": [
              "       market_id        date is_open  sales_amount    \n",
              "0           XC14  31/12/2022     YES      55727.34 NaN\n",
              "1           WG25  31/12/2022     YES      12984.10 NaN\n",
              "2           UX72  31/12/2022     YES      13046.56 NaN\n",
              "3           EE84  31/12/2022     YES      60916.76 NaN\n",
              "4           RF54  31/12/2022     YES      12376.42 NaN\n",
              "...          ...         ...     ...           ...  ..\n",
              "523944      ZM74  01/01/2021     YES      21553.84 NaN\n",
              "523945      WW60  01/01/2021     YES      56371.18 NaN\n",
              "523946      LU14  01/01/2021     YES      24107.19 NaN\n",
              "523947      HY57  01/01/2021     YES      12257.38 NaN\n",
              "523948      QD17  01/01/2021     YES      28068.53 NaN\n",
              "\n",
              "[523949 rows x 5 columns]"
            ],
            "text/html": [
              "\n",
              "  <div id=\"df-10451600-604e-4445-b23d-183746e91c9c\" class=\"colab-df-container\">\n",
              "    <div>\n",
              "<style scoped>\n",
              "    .dataframe tbody tr th:only-of-type {\n",
              "        vertical-align: middle;\n",
              "    }\n",
              "\n",
              "    .dataframe tbody tr th {\n",
              "        vertical-align: top;\n",
              "    }\n",
              "\n",
              "    .dataframe thead th {\n",
              "        text-align: right;\n",
              "    }\n",
              "</style>\n",
              "<table border=\"1\" class=\"dataframe\">\n",
              "  <thead>\n",
              "    <tr style=\"text-align: right;\">\n",
              "      <th></th>\n",
              "      <th>market_id</th>\n",
              "      <th>date</th>\n",
              "      <th>is_open</th>\n",
              "      <th>sales_amount</th>\n",
              "      <th></th>\n",
              "    </tr>\n",
              "  </thead>\n",
              "  <tbody>\n",
              "    <tr>\n",
              "      <th>0</th>\n",
              "      <td>XC14</td>\n",
              "      <td>31/12/2022</td>\n",
              "      <td>YES</td>\n",
              "      <td>55727.34</td>\n",
              "      <td>NaN</td>\n",
              "    </tr>\n",
              "    <tr>\n",
              "      <th>1</th>\n",
              "      <td>WG25</td>\n",
              "      <td>31/12/2022</td>\n",
              "      <td>YES</td>\n",
              "      <td>12984.10</td>\n",
              "      <td>NaN</td>\n",
              "    </tr>\n",
              "    <tr>\n",
              "      <th>2</th>\n",
              "      <td>UX72</td>\n",
              "      <td>31/12/2022</td>\n",
              "      <td>YES</td>\n",
              "      <td>13046.56</td>\n",
              "      <td>NaN</td>\n",
              "    </tr>\n",
              "    <tr>\n",
              "      <th>3</th>\n",
              "      <td>EE84</td>\n",
              "      <td>31/12/2022</td>\n",
              "      <td>YES</td>\n",
              "      <td>60916.76</td>\n",
              "      <td>NaN</td>\n",
              "    </tr>\n",
              "    <tr>\n",
              "      <th>4</th>\n",
              "      <td>RF54</td>\n",
              "      <td>31/12/2022</td>\n",
              "      <td>YES</td>\n",
              "      <td>12376.42</td>\n",
              "      <td>NaN</td>\n",
              "    </tr>\n",
              "    <tr>\n",
              "      <th>...</th>\n",
              "      <td>...</td>\n",
              "      <td>...</td>\n",
              "      <td>...</td>\n",
              "      <td>...</td>\n",
              "      <td>...</td>\n",
              "    </tr>\n",
              "    <tr>\n",
              "      <th>523944</th>\n",
              "      <td>ZM74</td>\n",
              "      <td>01/01/2021</td>\n",
              "      <td>YES</td>\n",
              "      <td>21553.84</td>\n",
              "      <td>NaN</td>\n",
              "    </tr>\n",
              "    <tr>\n",
              "      <th>523945</th>\n",
              "      <td>WW60</td>\n",
              "      <td>01/01/2021</td>\n",
              "      <td>YES</td>\n",
              "      <td>56371.18</td>\n",
              "      <td>NaN</td>\n",
              "    </tr>\n",
              "    <tr>\n",
              "      <th>523946</th>\n",
              "      <td>LU14</td>\n",
              "      <td>01/01/2021</td>\n",
              "      <td>YES</td>\n",
              "      <td>24107.19</td>\n",
              "      <td>NaN</td>\n",
              "    </tr>\n",
              "    <tr>\n",
              "      <th>523947</th>\n",
              "      <td>HY57</td>\n",
              "      <td>01/01/2021</td>\n",
              "      <td>YES</td>\n",
              "      <td>12257.38</td>\n",
              "      <td>NaN</td>\n",
              "    </tr>\n",
              "    <tr>\n",
              "      <th>523948</th>\n",
              "      <td>QD17</td>\n",
              "      <td>01/01/2021</td>\n",
              "      <td>YES</td>\n",
              "      <td>28068.53</td>\n",
              "      <td>NaN</td>\n",
              "    </tr>\n",
              "  </tbody>\n",
              "</table>\n",
              "<p>523949 rows × 5 columns</p>\n",
              "</div>\n",
              "    <div class=\"colab-df-buttons\">\n",
              "\n",
              "  <div class=\"colab-df-container\">\n",
              "    <button class=\"colab-df-convert\" onclick=\"convertToInteractive('df-10451600-604e-4445-b23d-183746e91c9c')\"\n",
              "            title=\"Convert this dataframe to an interactive table.\"\n",
              "            style=\"display:none;\">\n",
              "\n",
              "  <svg xmlns=\"http://www.w3.org/2000/svg\" height=\"24px\" viewBox=\"0 -960 960 960\">\n",
              "    <path d=\"M120-120v-720h720v720H120Zm60-500h600v-160H180v160Zm220 220h160v-160H400v160Zm0 220h160v-160H400v160ZM180-400h160v-160H180v160Zm440 0h160v-160H620v160ZM180-180h160v-160H180v160Zm440 0h160v-160H620v160Z\"/>\n",
              "  </svg>\n",
              "    </button>\n",
              "\n",
              "  <style>\n",
              "    .colab-df-container {\n",
              "      display:flex;\n",
              "      gap: 12px;\n",
              "    }\n",
              "\n",
              "    .colab-df-convert {\n",
              "      background-color: #E8F0FE;\n",
              "      border: none;\n",
              "      border-radius: 50%;\n",
              "      cursor: pointer;\n",
              "      display: none;\n",
              "      fill: #1967D2;\n",
              "      height: 32px;\n",
              "      padding: 0 0 0 0;\n",
              "      width: 32px;\n",
              "    }\n",
              "\n",
              "    .colab-df-convert:hover {\n",
              "      background-color: #E2EBFA;\n",
              "      box-shadow: 0px 1px 2px rgba(60, 64, 67, 0.3), 0px 1px 3px 1px rgba(60, 64, 67, 0.15);\n",
              "      fill: #174EA6;\n",
              "    }\n",
              "\n",
              "    .colab-df-buttons div {\n",
              "      margin-bottom: 4px;\n",
              "    }\n",
              "\n",
              "    [theme=dark] .colab-df-convert {\n",
              "      background-color: #3B4455;\n",
              "      fill: #D2E3FC;\n",
              "    }\n",
              "\n",
              "    [theme=dark] .colab-df-convert:hover {\n",
              "      background-color: #434B5C;\n",
              "      box-shadow: 0px 1px 3px 1px rgba(0, 0, 0, 0.15);\n",
              "      filter: drop-shadow(0px 1px 2px rgba(0, 0, 0, 0.3));\n",
              "      fill: #FFFFFF;\n",
              "    }\n",
              "  </style>\n",
              "\n",
              "    <script>\n",
              "      const buttonEl =\n",
              "        document.querySelector('#df-10451600-604e-4445-b23d-183746e91c9c button.colab-df-convert');\n",
              "      buttonEl.style.display =\n",
              "        google.colab.kernel.accessAllowed ? 'block' : 'none';\n",
              "\n",
              "      async function convertToInteractive(key) {\n",
              "        const element = document.querySelector('#df-10451600-604e-4445-b23d-183746e91c9c');\n",
              "        const dataTable =\n",
              "          await google.colab.kernel.invokeFunction('convertToInteractive',\n",
              "                                                    [key], {});\n",
              "        if (!dataTable) return;\n",
              "\n",
              "        const docLinkHtml = 'Like what you see? Visit the ' +\n",
              "          '<a target=\"_blank\" href=https://colab.research.google.com/notebooks/data_table.ipynb>data table notebook</a>'\n",
              "          + ' to learn more about interactive tables.';\n",
              "        element.innerHTML = '';\n",
              "        dataTable['output_type'] = 'display_data';\n",
              "        await google.colab.output.renderOutput(dataTable, element);\n",
              "        const docLink = document.createElement('div');\n",
              "        docLink.innerHTML = docLinkHtml;\n",
              "        element.appendChild(docLink);\n",
              "      }\n",
              "    </script>\n",
              "  </div>\n",
              "\n",
              "\n",
              "<div id=\"df-1859fd19-3df1-4539-9268-2ceaaffb2bc9\">\n",
              "  <button class=\"colab-df-quickchart\" onclick=\"quickchart('df-1859fd19-3df1-4539-9268-2ceaaffb2bc9')\"\n",
              "            title=\"Suggest charts\"\n",
              "            style=\"display:none;\">\n",
              "\n",
              "<svg xmlns=\"http://www.w3.org/2000/svg\" height=\"24px\"viewBox=\"0 0 24 24\"\n",
              "     width=\"24px\">\n",
              "    <g>\n",
              "        <path d=\"M19 3H5c-1.1 0-2 .9-2 2v14c0 1.1.9 2 2 2h14c1.1 0 2-.9 2-2V5c0-1.1-.9-2-2-2zM9 17H7v-7h2v7zm4 0h-2V7h2v10zm4 0h-2v-4h2v4z\"/>\n",
              "    </g>\n",
              "</svg>\n",
              "  </button>\n",
              "\n",
              "<style>\n",
              "  .colab-df-quickchart {\n",
              "      --bg-color: #E8F0FE;\n",
              "      --fill-color: #1967D2;\n",
              "      --hover-bg-color: #E2EBFA;\n",
              "      --hover-fill-color: #174EA6;\n",
              "      --disabled-fill-color: #AAA;\n",
              "      --disabled-bg-color: #DDD;\n",
              "  }\n",
              "\n",
              "  [theme=dark] .colab-df-quickchart {\n",
              "      --bg-color: #3B4455;\n",
              "      --fill-color: #D2E3FC;\n",
              "      --hover-bg-color: #434B5C;\n",
              "      --hover-fill-color: #FFFFFF;\n",
              "      --disabled-bg-color: #3B4455;\n",
              "      --disabled-fill-color: #666;\n",
              "  }\n",
              "\n",
              "  .colab-df-quickchart {\n",
              "    background-color: var(--bg-color);\n",
              "    border: none;\n",
              "    border-radius: 50%;\n",
              "    cursor: pointer;\n",
              "    display: none;\n",
              "    fill: var(--fill-color);\n",
              "    height: 32px;\n",
              "    padding: 0;\n",
              "    width: 32px;\n",
              "  }\n",
              "\n",
              "  .colab-df-quickchart:hover {\n",
              "    background-color: var(--hover-bg-color);\n",
              "    box-shadow: 0 1px 2px rgba(60, 64, 67, 0.3), 0 1px 3px 1px rgba(60, 64, 67, 0.15);\n",
              "    fill: var(--button-hover-fill-color);\n",
              "  }\n",
              "\n",
              "  .colab-df-quickchart-complete:disabled,\n",
              "  .colab-df-quickchart-complete:disabled:hover {\n",
              "    background-color: var(--disabled-bg-color);\n",
              "    fill: var(--disabled-fill-color);\n",
              "    box-shadow: none;\n",
              "  }\n",
              "\n",
              "  .colab-df-spinner {\n",
              "    border: 2px solid var(--fill-color);\n",
              "    border-color: transparent;\n",
              "    border-bottom-color: var(--fill-color);\n",
              "    animation:\n",
              "      spin 1s steps(1) infinite;\n",
              "  }\n",
              "\n",
              "  @keyframes spin {\n",
              "    0% {\n",
              "      border-color: transparent;\n",
              "      border-bottom-color: var(--fill-color);\n",
              "      border-left-color: var(--fill-color);\n",
              "    }\n",
              "    20% {\n",
              "      border-color: transparent;\n",
              "      border-left-color: var(--fill-color);\n",
              "      border-top-color: var(--fill-color);\n",
              "    }\n",
              "    30% {\n",
              "      border-color: transparent;\n",
              "      border-left-color: var(--fill-color);\n",
              "      border-top-color: var(--fill-color);\n",
              "      border-right-color: var(--fill-color);\n",
              "    }\n",
              "    40% {\n",
              "      border-color: transparent;\n",
              "      border-right-color: var(--fill-color);\n",
              "      border-top-color: var(--fill-color);\n",
              "    }\n",
              "    60% {\n",
              "      border-color: transparent;\n",
              "      border-right-color: var(--fill-color);\n",
              "    }\n",
              "    80% {\n",
              "      border-color: transparent;\n",
              "      border-right-color: var(--fill-color);\n",
              "      border-bottom-color: var(--fill-color);\n",
              "    }\n",
              "    90% {\n",
              "      border-color: transparent;\n",
              "      border-bottom-color: var(--fill-color);\n",
              "    }\n",
              "  }\n",
              "</style>\n",
              "\n",
              "  <script>\n",
              "    async function quickchart(key) {\n",
              "      const quickchartButtonEl =\n",
              "        document.querySelector('#' + key + ' button');\n",
              "      quickchartButtonEl.disabled = true;  // To prevent multiple clicks.\n",
              "      quickchartButtonEl.classList.add('colab-df-spinner');\n",
              "      try {\n",
              "        const charts = await google.colab.kernel.invokeFunction(\n",
              "            'suggestCharts', [key], {});\n",
              "      } catch (error) {\n",
              "        console.error('Error during call to suggestCharts:', error);\n",
              "      }\n",
              "      quickchartButtonEl.classList.remove('colab-df-spinner');\n",
              "      quickchartButtonEl.classList.add('colab-df-quickchart-complete');\n",
              "    }\n",
              "    (() => {\n",
              "      let quickchartButtonEl =\n",
              "        document.querySelector('#df-1859fd19-3df1-4539-9268-2ceaaffb2bc9 button');\n",
              "      quickchartButtonEl.style.display =\n",
              "        google.colab.kernel.accessAllowed ? 'block' : 'none';\n",
              "    })();\n",
              "  </script>\n",
              "</div>\n",
              "    </div>\n",
              "  </div>\n"
            ]
          },
          "metadata": {},
          "execution_count": 3
        }
      ]
    },
    {
      "cell_type": "markdown",
      "source": [
        "It has extra column with Nan we remove it."
      ],
      "metadata": {
        "id": "jFTN238N0Sz1"
      }
    },
    {
      "cell_type": "code",
      "source": [
        "import pandas as pd\n",
        "Sales = pd.read_csv(\"/content/drive/MyDrive/sales.csv\", index_col=None, usecols=[0, 1, 2, 3])\n",
        "Sales"
      ],
      "metadata": {
        "colab": {
          "base_uri": "https://localhost:8080/"
        },
        "outputId": "d5083270-a867-4e7b-f4bb-c53e364d68ed",
        "id": "-DtoL5hdfj43"
      },
      "execution_count": null,
      "outputs": [
        {
          "output_type": "execute_result",
          "data": {
            "text/plain": [
              "       market_id        date is_open  sales_amount\n",
              "0           XC14  31/12/2022     YES      55727.34\n",
              "1           WG25  31/12/2022     YES      12984.10\n",
              "2           UX72  31/12/2022     YES      13046.56\n",
              "3           EE84  31/12/2022     YES      60916.76\n",
              "4           RF54  31/12/2022     YES      12376.42\n",
              "...          ...         ...     ...           ...\n",
              "523944      ZM74  01/01/2021     YES      21553.84\n",
              "523945      WW60  01/01/2021     YES      56371.18\n",
              "523946      LU14  01/01/2021     YES      24107.19\n",
              "523947      HY57  01/01/2021     YES      12257.38\n",
              "523948      QD17  01/01/2021     YES      28068.53\n",
              "\n",
              "[523949 rows x 4 columns]"
            ],
            "text/html": [
              "\n",
              "  <div id=\"df-1479956e-184c-40b2-8650-9c06cc71e831\" class=\"colab-df-container\">\n",
              "    <div>\n",
              "<style scoped>\n",
              "    .dataframe tbody tr th:only-of-type {\n",
              "        vertical-align: middle;\n",
              "    }\n",
              "\n",
              "    .dataframe tbody tr th {\n",
              "        vertical-align: top;\n",
              "    }\n",
              "\n",
              "    .dataframe thead th {\n",
              "        text-align: right;\n",
              "    }\n",
              "</style>\n",
              "<table border=\"1\" class=\"dataframe\">\n",
              "  <thead>\n",
              "    <tr style=\"text-align: right;\">\n",
              "      <th></th>\n",
              "      <th>market_id</th>\n",
              "      <th>date</th>\n",
              "      <th>is_open</th>\n",
              "      <th>sales_amount</th>\n",
              "    </tr>\n",
              "  </thead>\n",
              "  <tbody>\n",
              "    <tr>\n",
              "      <th>0</th>\n",
              "      <td>XC14</td>\n",
              "      <td>31/12/2022</td>\n",
              "      <td>YES</td>\n",
              "      <td>55727.34</td>\n",
              "    </tr>\n",
              "    <tr>\n",
              "      <th>1</th>\n",
              "      <td>WG25</td>\n",
              "      <td>31/12/2022</td>\n",
              "      <td>YES</td>\n",
              "      <td>12984.10</td>\n",
              "    </tr>\n",
              "    <tr>\n",
              "      <th>2</th>\n",
              "      <td>UX72</td>\n",
              "      <td>31/12/2022</td>\n",
              "      <td>YES</td>\n",
              "      <td>13046.56</td>\n",
              "    </tr>\n",
              "    <tr>\n",
              "      <th>3</th>\n",
              "      <td>EE84</td>\n",
              "      <td>31/12/2022</td>\n",
              "      <td>YES</td>\n",
              "      <td>60916.76</td>\n",
              "    </tr>\n",
              "    <tr>\n",
              "      <th>4</th>\n",
              "      <td>RF54</td>\n",
              "      <td>31/12/2022</td>\n",
              "      <td>YES</td>\n",
              "      <td>12376.42</td>\n",
              "    </tr>\n",
              "    <tr>\n",
              "      <th>...</th>\n",
              "      <td>...</td>\n",
              "      <td>...</td>\n",
              "      <td>...</td>\n",
              "      <td>...</td>\n",
              "    </tr>\n",
              "    <tr>\n",
              "      <th>523944</th>\n",
              "      <td>ZM74</td>\n",
              "      <td>01/01/2021</td>\n",
              "      <td>YES</td>\n",
              "      <td>21553.84</td>\n",
              "    </tr>\n",
              "    <tr>\n",
              "      <th>523945</th>\n",
              "      <td>WW60</td>\n",
              "      <td>01/01/2021</td>\n",
              "      <td>YES</td>\n",
              "      <td>56371.18</td>\n",
              "    </tr>\n",
              "    <tr>\n",
              "      <th>523946</th>\n",
              "      <td>LU14</td>\n",
              "      <td>01/01/2021</td>\n",
              "      <td>YES</td>\n",
              "      <td>24107.19</td>\n",
              "    </tr>\n",
              "    <tr>\n",
              "      <th>523947</th>\n",
              "      <td>HY57</td>\n",
              "      <td>01/01/2021</td>\n",
              "      <td>YES</td>\n",
              "      <td>12257.38</td>\n",
              "    </tr>\n",
              "    <tr>\n",
              "      <th>523948</th>\n",
              "      <td>QD17</td>\n",
              "      <td>01/01/2021</td>\n",
              "      <td>YES</td>\n",
              "      <td>28068.53</td>\n",
              "    </tr>\n",
              "  </tbody>\n",
              "</table>\n",
              "<p>523949 rows × 4 columns</p>\n",
              "</div>\n",
              "    <div class=\"colab-df-buttons\">\n",
              "\n",
              "  <div class=\"colab-df-container\">\n",
              "    <button class=\"colab-df-convert\" onclick=\"convertToInteractive('df-1479956e-184c-40b2-8650-9c06cc71e831')\"\n",
              "            title=\"Convert this dataframe to an interactive table.\"\n",
              "            style=\"display:none;\">\n",
              "\n",
              "  <svg xmlns=\"http://www.w3.org/2000/svg\" height=\"24px\" viewBox=\"0 -960 960 960\">\n",
              "    <path d=\"M120-120v-720h720v720H120Zm60-500h600v-160H180v160Zm220 220h160v-160H400v160Zm0 220h160v-160H400v160ZM180-400h160v-160H180v160Zm440 0h160v-160H620v160ZM180-180h160v-160H180v160Zm440 0h160v-160H620v160Z\"/>\n",
              "  </svg>\n",
              "    </button>\n",
              "\n",
              "  <style>\n",
              "    .colab-df-container {\n",
              "      display:flex;\n",
              "      gap: 12px;\n",
              "    }\n",
              "\n",
              "    .colab-df-convert {\n",
              "      background-color: #E8F0FE;\n",
              "      border: none;\n",
              "      border-radius: 50%;\n",
              "      cursor: pointer;\n",
              "      display: none;\n",
              "      fill: #1967D2;\n",
              "      height: 32px;\n",
              "      padding: 0 0 0 0;\n",
              "      width: 32px;\n",
              "    }\n",
              "\n",
              "    .colab-df-convert:hover {\n",
              "      background-color: #E2EBFA;\n",
              "      box-shadow: 0px 1px 2px rgba(60, 64, 67, 0.3), 0px 1px 3px 1px rgba(60, 64, 67, 0.15);\n",
              "      fill: #174EA6;\n",
              "    }\n",
              "\n",
              "    .colab-df-buttons div {\n",
              "      margin-bottom: 4px;\n",
              "    }\n",
              "\n",
              "    [theme=dark] .colab-df-convert {\n",
              "      background-color: #3B4455;\n",
              "      fill: #D2E3FC;\n",
              "    }\n",
              "\n",
              "    [theme=dark] .colab-df-convert:hover {\n",
              "      background-color: #434B5C;\n",
              "      box-shadow: 0px 1px 3px 1px rgba(0, 0, 0, 0.15);\n",
              "      filter: drop-shadow(0px 1px 2px rgba(0, 0, 0, 0.3));\n",
              "      fill: #FFFFFF;\n",
              "    }\n",
              "  </style>\n",
              "\n",
              "    <script>\n",
              "      const buttonEl =\n",
              "        document.querySelector('#df-1479956e-184c-40b2-8650-9c06cc71e831 button.colab-df-convert');\n",
              "      buttonEl.style.display =\n",
              "        google.colab.kernel.accessAllowed ? 'block' : 'none';\n",
              "\n",
              "      async function convertToInteractive(key) {\n",
              "        const element = document.querySelector('#df-1479956e-184c-40b2-8650-9c06cc71e831');\n",
              "        const dataTable =\n",
              "          await google.colab.kernel.invokeFunction('convertToInteractive',\n",
              "                                                    [key], {});\n",
              "        if (!dataTable) return;\n",
              "\n",
              "        const docLinkHtml = 'Like what you see? Visit the ' +\n",
              "          '<a target=\"_blank\" href=https://colab.research.google.com/notebooks/data_table.ipynb>data table notebook</a>'\n",
              "          + ' to learn more about interactive tables.';\n",
              "        element.innerHTML = '';\n",
              "        dataTable['output_type'] = 'display_data';\n",
              "        await google.colab.output.renderOutput(dataTable, element);\n",
              "        const docLink = document.createElement('div');\n",
              "        docLink.innerHTML = docLinkHtml;\n",
              "        element.appendChild(docLink);\n",
              "      }\n",
              "    </script>\n",
              "  </div>\n",
              "\n",
              "\n",
              "<div id=\"df-4ee0d69a-8f8e-411f-bef1-b8e702e5d797\">\n",
              "  <button class=\"colab-df-quickchart\" onclick=\"quickchart('df-4ee0d69a-8f8e-411f-bef1-b8e702e5d797')\"\n",
              "            title=\"Suggest charts\"\n",
              "            style=\"display:none;\">\n",
              "\n",
              "<svg xmlns=\"http://www.w3.org/2000/svg\" height=\"24px\"viewBox=\"0 0 24 24\"\n",
              "     width=\"24px\">\n",
              "    <g>\n",
              "        <path d=\"M19 3H5c-1.1 0-2 .9-2 2v14c0 1.1.9 2 2 2h14c1.1 0 2-.9 2-2V5c0-1.1-.9-2-2-2zM9 17H7v-7h2v7zm4 0h-2V7h2v10zm4 0h-2v-4h2v4z\"/>\n",
              "    </g>\n",
              "</svg>\n",
              "  </button>\n",
              "\n",
              "<style>\n",
              "  .colab-df-quickchart {\n",
              "      --bg-color: #E8F0FE;\n",
              "      --fill-color: #1967D2;\n",
              "      --hover-bg-color: #E2EBFA;\n",
              "      --hover-fill-color: #174EA6;\n",
              "      --disabled-fill-color: #AAA;\n",
              "      --disabled-bg-color: #DDD;\n",
              "  }\n",
              "\n",
              "  [theme=dark] .colab-df-quickchart {\n",
              "      --bg-color: #3B4455;\n",
              "      --fill-color: #D2E3FC;\n",
              "      --hover-bg-color: #434B5C;\n",
              "      --hover-fill-color: #FFFFFF;\n",
              "      --disabled-bg-color: #3B4455;\n",
              "      --disabled-fill-color: #666;\n",
              "  }\n",
              "\n",
              "  .colab-df-quickchart {\n",
              "    background-color: var(--bg-color);\n",
              "    border: none;\n",
              "    border-radius: 50%;\n",
              "    cursor: pointer;\n",
              "    display: none;\n",
              "    fill: var(--fill-color);\n",
              "    height: 32px;\n",
              "    padding: 0;\n",
              "    width: 32px;\n",
              "  }\n",
              "\n",
              "  .colab-df-quickchart:hover {\n",
              "    background-color: var(--hover-bg-color);\n",
              "    box-shadow: 0 1px 2px rgba(60, 64, 67, 0.3), 0 1px 3px 1px rgba(60, 64, 67, 0.15);\n",
              "    fill: var(--button-hover-fill-color);\n",
              "  }\n",
              "\n",
              "  .colab-df-quickchart-complete:disabled,\n",
              "  .colab-df-quickchart-complete:disabled:hover {\n",
              "    background-color: var(--disabled-bg-color);\n",
              "    fill: var(--disabled-fill-color);\n",
              "    box-shadow: none;\n",
              "  }\n",
              "\n",
              "  .colab-df-spinner {\n",
              "    border: 2px solid var(--fill-color);\n",
              "    border-color: transparent;\n",
              "    border-bottom-color: var(--fill-color);\n",
              "    animation:\n",
              "      spin 1s steps(1) infinite;\n",
              "  }\n",
              "\n",
              "  @keyframes spin {\n",
              "    0% {\n",
              "      border-color: transparent;\n",
              "      border-bottom-color: var(--fill-color);\n",
              "      border-left-color: var(--fill-color);\n",
              "    }\n",
              "    20% {\n",
              "      border-color: transparent;\n",
              "      border-left-color: var(--fill-color);\n",
              "      border-top-color: var(--fill-color);\n",
              "    }\n",
              "    30% {\n",
              "      border-color: transparent;\n",
              "      border-left-color: var(--fill-color);\n",
              "      border-top-color: var(--fill-color);\n",
              "      border-right-color: var(--fill-color);\n",
              "    }\n",
              "    40% {\n",
              "      border-color: transparent;\n",
              "      border-right-color: var(--fill-color);\n",
              "      border-top-color: var(--fill-color);\n",
              "    }\n",
              "    60% {\n",
              "      border-color: transparent;\n",
              "      border-right-color: var(--fill-color);\n",
              "    }\n",
              "    80% {\n",
              "      border-color: transparent;\n",
              "      border-right-color: var(--fill-color);\n",
              "      border-bottom-color: var(--fill-color);\n",
              "    }\n",
              "    90% {\n",
              "      border-color: transparent;\n",
              "      border-bottom-color: var(--fill-color);\n",
              "    }\n",
              "  }\n",
              "</style>\n",
              "\n",
              "  <script>\n",
              "    async function quickchart(key) {\n",
              "      const quickchartButtonEl =\n",
              "        document.querySelector('#' + key + ' button');\n",
              "      quickchartButtonEl.disabled = true;  // To prevent multiple clicks.\n",
              "      quickchartButtonEl.classList.add('colab-df-spinner');\n",
              "      try {\n",
              "        const charts = await google.colab.kernel.invokeFunction(\n",
              "            'suggestCharts', [key], {});\n",
              "      } catch (error) {\n",
              "        console.error('Error during call to suggestCharts:', error);\n",
              "      }\n",
              "      quickchartButtonEl.classList.remove('colab-df-spinner');\n",
              "      quickchartButtonEl.classList.add('colab-df-quickchart-complete');\n",
              "    }\n",
              "    (() => {\n",
              "      let quickchartButtonEl =\n",
              "        document.querySelector('#df-4ee0d69a-8f8e-411f-bef1-b8e702e5d797 button');\n",
              "      quickchartButtonEl.style.display =\n",
              "        google.colab.kernel.accessAllowed ? 'block' : 'none';\n",
              "    })();\n",
              "  </script>\n",
              "</div>\n",
              "    </div>\n",
              "  </div>\n"
            ]
          },
          "metadata": {},
          "execution_count": 4
        }
      ]
    },
    {
      "cell_type": "markdown",
      "source": [
        "Each row corresponds to informaton of  **market**\n",
        "\n",
        "The dataset contains 4 columns (aka attributes), here the descriptions:\n",
        "1. **market_id** - Each market has a unique id.(int)\n",
        "2. **date** - the date range for a market.(DD/MM/YY)\n",
        "3. **is_open**  it shows the market is open.If it close in a day the sale will be zero that day(string).\n",
        "4. **sales_amount** - the amount of a sale for each day- the refunds do not consider.(float)\n"
      ],
      "metadata": {
        "id": "fzSupa2f1AcZ"
      }
    },
    {
      "cell_type": "code",
      "source": [
        "# check for Nan for sales table\n",
        "import pandas as pd\n",
        "Sales = pd.read_csv(\"/content/drive/MyDrive/sales.csv\", index_col=None, usecols=[0, 1, 2, 3])\n",
        "nan_counts = Sales.isnull().sum()\n",
        "print(\"NaN counts for each column:\")\n",
        "print(nan_counts)"
      ],
      "metadata": {
        "colab": {
          "base_uri": "https://localhost:8080/"
        },
        "id": "vBAhjdqkgfQk",
        "outputId": "777e1a9c-9dd1-414f-adca-ed831c8fc9aa"
      },
      "execution_count": null,
      "outputs": [
        {
          "output_type": "stream",
          "name": "stdout",
          "text": [
            "NaN counts for each column:\n",
            "market_id        1\n",
            "date             1\n",
            "is_open          1\n",
            "sales_amount    15\n",
            "dtype: int64\n"
          ]
        }
      ]
    },
    {
      "cell_type": "code",
      "source": [
        "import pandas as pd\n",
        "Market1=pd.read_csv(\"/content/drive/MyDrive/market.csv\")\n",
        "Market1"
      ],
      "metadata": {
        "colab": {
          "base_uri": "https://localhost:8080/"
        },
        "id": "6gI8lpUiha8l",
        "outputId": "07df5645-48c9-49bc-b085-a13884377fee"
      },
      "execution_count": null,
      "outputs": [
        {
          "output_type": "execute_result",
          "data": {
            "text/plain": [
              "       id country  Unnamed: 2 market_type  square_feet  avg_customers  \\\n",
              "0    XC14   SPAIN         NaN       HYPER        11135          773.0   \n",
              "1    WG25  FRANCE         NaN        MINI         1402          252.0   \n",
              "2    UX72  FRANCE         NaN        MINI         1452          265.0   \n",
              "3    EE84   SPAIN         NaN       HYPER        15259          874.0   \n",
              "4    RF54  FRANCE         NaN        MINI         2497          191.0   \n",
              "..    ...     ...         ...         ...          ...            ...   \n",
              "745  ZM74   ITALY         NaN       SUPER         5778          356.0   \n",
              "746  WW60  FRANCE         NaN       HYPER        10923          907.0   \n",
              "747  LU14   ITALY         NaN       SUPER         5742          397.0   \n",
              "748  HY57   ITALY         NaN        MINI         2495          228.0   \n",
              "749  QD17  FRANCE         NaN       SUPER         6806          516.0   \n",
              "\n",
              "     competitor_distance has_promotions  \n",
              "0                    515            YES  \n",
              "1                    522            YES  \n",
              "2                  15939            YES  \n",
              "3                    754            YES  \n",
              "4                  34007            YES  \n",
              "..                   ...            ...  \n",
              "745                 4424            YES  \n",
              "746                41359            YES  \n",
              "747                 2841            YES  \n",
              "748                 3848            YES  \n",
              "749                10468            YES  \n",
              "\n",
              "[750 rows x 8 columns]"
            ],
            "text/html": [
              "\n",
              "  <div id=\"df-3adb8b42-6427-4cbe-bf76-74f22f07f59a\" class=\"colab-df-container\">\n",
              "    <div>\n",
              "<style scoped>\n",
              "    .dataframe tbody tr th:only-of-type {\n",
              "        vertical-align: middle;\n",
              "    }\n",
              "\n",
              "    .dataframe tbody tr th {\n",
              "        vertical-align: top;\n",
              "    }\n",
              "\n",
              "    .dataframe thead th {\n",
              "        text-align: right;\n",
              "    }\n",
              "</style>\n",
              "<table border=\"1\" class=\"dataframe\">\n",
              "  <thead>\n",
              "    <tr style=\"text-align: right;\">\n",
              "      <th></th>\n",
              "      <th>id</th>\n",
              "      <th>country</th>\n",
              "      <th>Unnamed: 2</th>\n",
              "      <th>market_type</th>\n",
              "      <th>square_feet</th>\n",
              "      <th>avg_customers</th>\n",
              "      <th>competitor_distance</th>\n",
              "      <th>has_promotions</th>\n",
              "    </tr>\n",
              "  </thead>\n",
              "  <tbody>\n",
              "    <tr>\n",
              "      <th>0</th>\n",
              "      <td>XC14</td>\n",
              "      <td>SPAIN</td>\n",
              "      <td>NaN</td>\n",
              "      <td>HYPER</td>\n",
              "      <td>11135</td>\n",
              "      <td>773.0</td>\n",
              "      <td>515</td>\n",
              "      <td>YES</td>\n",
              "    </tr>\n",
              "    <tr>\n",
              "      <th>1</th>\n",
              "      <td>WG25</td>\n",
              "      <td>FRANCE</td>\n",
              "      <td>NaN</td>\n",
              "      <td>MINI</td>\n",
              "      <td>1402</td>\n",
              "      <td>252.0</td>\n",
              "      <td>522</td>\n",
              "      <td>YES</td>\n",
              "    </tr>\n",
              "    <tr>\n",
              "      <th>2</th>\n",
              "      <td>UX72</td>\n",
              "      <td>FRANCE</td>\n",
              "      <td>NaN</td>\n",
              "      <td>MINI</td>\n",
              "      <td>1452</td>\n",
              "      <td>265.0</td>\n",
              "      <td>15939</td>\n",
              "      <td>YES</td>\n",
              "    </tr>\n",
              "    <tr>\n",
              "      <th>3</th>\n",
              "      <td>EE84</td>\n",
              "      <td>SPAIN</td>\n",
              "      <td>NaN</td>\n",
              "      <td>HYPER</td>\n",
              "      <td>15259</td>\n",
              "      <td>874.0</td>\n",
              "      <td>754</td>\n",
              "      <td>YES</td>\n",
              "    </tr>\n",
              "    <tr>\n",
              "      <th>4</th>\n",
              "      <td>RF54</td>\n",
              "      <td>FRANCE</td>\n",
              "      <td>NaN</td>\n",
              "      <td>MINI</td>\n",
              "      <td>2497</td>\n",
              "      <td>191.0</td>\n",
              "      <td>34007</td>\n",
              "      <td>YES</td>\n",
              "    </tr>\n",
              "    <tr>\n",
              "      <th>...</th>\n",
              "      <td>...</td>\n",
              "      <td>...</td>\n",
              "      <td>...</td>\n",
              "      <td>...</td>\n",
              "      <td>...</td>\n",
              "      <td>...</td>\n",
              "      <td>...</td>\n",
              "      <td>...</td>\n",
              "    </tr>\n",
              "    <tr>\n",
              "      <th>745</th>\n",
              "      <td>ZM74</td>\n",
              "      <td>ITALY</td>\n",
              "      <td>NaN</td>\n",
              "      <td>SUPER</td>\n",
              "      <td>5778</td>\n",
              "      <td>356.0</td>\n",
              "      <td>4424</td>\n",
              "      <td>YES</td>\n",
              "    </tr>\n",
              "    <tr>\n",
              "      <th>746</th>\n",
              "      <td>WW60</td>\n",
              "      <td>FRANCE</td>\n",
              "      <td>NaN</td>\n",
              "      <td>HYPER</td>\n",
              "      <td>10923</td>\n",
              "      <td>907.0</td>\n",
              "      <td>41359</td>\n",
              "      <td>YES</td>\n",
              "    </tr>\n",
              "    <tr>\n",
              "      <th>747</th>\n",
              "      <td>LU14</td>\n",
              "      <td>ITALY</td>\n",
              "      <td>NaN</td>\n",
              "      <td>SUPER</td>\n",
              "      <td>5742</td>\n",
              "      <td>397.0</td>\n",
              "      <td>2841</td>\n",
              "      <td>YES</td>\n",
              "    </tr>\n",
              "    <tr>\n",
              "      <th>748</th>\n",
              "      <td>HY57</td>\n",
              "      <td>ITALY</td>\n",
              "      <td>NaN</td>\n",
              "      <td>MINI</td>\n",
              "      <td>2495</td>\n",
              "      <td>228.0</td>\n",
              "      <td>3848</td>\n",
              "      <td>YES</td>\n",
              "    </tr>\n",
              "    <tr>\n",
              "      <th>749</th>\n",
              "      <td>QD17</td>\n",
              "      <td>FRANCE</td>\n",
              "      <td>NaN</td>\n",
              "      <td>SUPER</td>\n",
              "      <td>6806</td>\n",
              "      <td>516.0</td>\n",
              "      <td>10468</td>\n",
              "      <td>YES</td>\n",
              "    </tr>\n",
              "  </tbody>\n",
              "</table>\n",
              "<p>750 rows × 8 columns</p>\n",
              "</div>\n",
              "    <div class=\"colab-df-buttons\">\n",
              "\n",
              "  <div class=\"colab-df-container\">\n",
              "    <button class=\"colab-df-convert\" onclick=\"convertToInteractive('df-3adb8b42-6427-4cbe-bf76-74f22f07f59a')\"\n",
              "            title=\"Convert this dataframe to an interactive table.\"\n",
              "            style=\"display:none;\">\n",
              "\n",
              "  <svg xmlns=\"http://www.w3.org/2000/svg\" height=\"24px\" viewBox=\"0 -960 960 960\">\n",
              "    <path d=\"M120-120v-720h720v720H120Zm60-500h600v-160H180v160Zm220 220h160v-160H400v160Zm0 220h160v-160H400v160ZM180-400h160v-160H180v160Zm440 0h160v-160H620v160ZM180-180h160v-160H180v160Zm440 0h160v-160H620v160Z\"/>\n",
              "  </svg>\n",
              "    </button>\n",
              "\n",
              "  <style>\n",
              "    .colab-df-container {\n",
              "      display:flex;\n",
              "      gap: 12px;\n",
              "    }\n",
              "\n",
              "    .colab-df-convert {\n",
              "      background-color: #E8F0FE;\n",
              "      border: none;\n",
              "      border-radius: 50%;\n",
              "      cursor: pointer;\n",
              "      display: none;\n",
              "      fill: #1967D2;\n",
              "      height: 32px;\n",
              "      padding: 0 0 0 0;\n",
              "      width: 32px;\n",
              "    }\n",
              "\n",
              "    .colab-df-convert:hover {\n",
              "      background-color: #E2EBFA;\n",
              "      box-shadow: 0px 1px 2px rgba(60, 64, 67, 0.3), 0px 1px 3px 1px rgba(60, 64, 67, 0.15);\n",
              "      fill: #174EA6;\n",
              "    }\n",
              "\n",
              "    .colab-df-buttons div {\n",
              "      margin-bottom: 4px;\n",
              "    }\n",
              "\n",
              "    [theme=dark] .colab-df-convert {\n",
              "      background-color: #3B4455;\n",
              "      fill: #D2E3FC;\n",
              "    }\n",
              "\n",
              "    [theme=dark] .colab-df-convert:hover {\n",
              "      background-color: #434B5C;\n",
              "      box-shadow: 0px 1px 3px 1px rgba(0, 0, 0, 0.15);\n",
              "      filter: drop-shadow(0px 1px 2px rgba(0, 0, 0, 0.3));\n",
              "      fill: #FFFFFF;\n",
              "    }\n",
              "  </style>\n",
              "\n",
              "    <script>\n",
              "      const buttonEl =\n",
              "        document.querySelector('#df-3adb8b42-6427-4cbe-bf76-74f22f07f59a button.colab-df-convert');\n",
              "      buttonEl.style.display =\n",
              "        google.colab.kernel.accessAllowed ? 'block' : 'none';\n",
              "\n",
              "      async function convertToInteractive(key) {\n",
              "        const element = document.querySelector('#df-3adb8b42-6427-4cbe-bf76-74f22f07f59a');\n",
              "        const dataTable =\n",
              "          await google.colab.kernel.invokeFunction('convertToInteractive',\n",
              "                                                    [key], {});\n",
              "        if (!dataTable) return;\n",
              "\n",
              "        const docLinkHtml = 'Like what you see? Visit the ' +\n",
              "          '<a target=\"_blank\" href=https://colab.research.google.com/notebooks/data_table.ipynb>data table notebook</a>'\n",
              "          + ' to learn more about interactive tables.';\n",
              "        element.innerHTML = '';\n",
              "        dataTable['output_type'] = 'display_data';\n",
              "        await google.colab.output.renderOutput(dataTable, element);\n",
              "        const docLink = document.createElement('div');\n",
              "        docLink.innerHTML = docLinkHtml;\n",
              "        element.appendChild(docLink);\n",
              "      }\n",
              "    </script>\n",
              "  </div>\n",
              "\n",
              "\n",
              "<div id=\"df-36a522eb-8a12-459c-a50d-76b64a0e5854\">\n",
              "  <button class=\"colab-df-quickchart\" onclick=\"quickchart('df-36a522eb-8a12-459c-a50d-76b64a0e5854')\"\n",
              "            title=\"Suggest charts\"\n",
              "            style=\"display:none;\">\n",
              "\n",
              "<svg xmlns=\"http://www.w3.org/2000/svg\" height=\"24px\"viewBox=\"0 0 24 24\"\n",
              "     width=\"24px\">\n",
              "    <g>\n",
              "        <path d=\"M19 3H5c-1.1 0-2 .9-2 2v14c0 1.1.9 2 2 2h14c1.1 0 2-.9 2-2V5c0-1.1-.9-2-2-2zM9 17H7v-7h2v7zm4 0h-2V7h2v10zm4 0h-2v-4h2v4z\"/>\n",
              "    </g>\n",
              "</svg>\n",
              "  </button>\n",
              "\n",
              "<style>\n",
              "  .colab-df-quickchart {\n",
              "      --bg-color: #E8F0FE;\n",
              "      --fill-color: #1967D2;\n",
              "      --hover-bg-color: #E2EBFA;\n",
              "      --hover-fill-color: #174EA6;\n",
              "      --disabled-fill-color: #AAA;\n",
              "      --disabled-bg-color: #DDD;\n",
              "  }\n",
              "\n",
              "  [theme=dark] .colab-df-quickchart {\n",
              "      --bg-color: #3B4455;\n",
              "      --fill-color: #D2E3FC;\n",
              "      --hover-bg-color: #434B5C;\n",
              "      --hover-fill-color: #FFFFFF;\n",
              "      --disabled-bg-color: #3B4455;\n",
              "      --disabled-fill-color: #666;\n",
              "  }\n",
              "\n",
              "  .colab-df-quickchart {\n",
              "    background-color: var(--bg-color);\n",
              "    border: none;\n",
              "    border-radius: 50%;\n",
              "    cursor: pointer;\n",
              "    display: none;\n",
              "    fill: var(--fill-color);\n",
              "    height: 32px;\n",
              "    padding: 0;\n",
              "    width: 32px;\n",
              "  }\n",
              "\n",
              "  .colab-df-quickchart:hover {\n",
              "    background-color: var(--hover-bg-color);\n",
              "    box-shadow: 0 1px 2px rgba(60, 64, 67, 0.3), 0 1px 3px 1px rgba(60, 64, 67, 0.15);\n",
              "    fill: var(--button-hover-fill-color);\n",
              "  }\n",
              "\n",
              "  .colab-df-quickchart-complete:disabled,\n",
              "  .colab-df-quickchart-complete:disabled:hover {\n",
              "    background-color: var(--disabled-bg-color);\n",
              "    fill: var(--disabled-fill-color);\n",
              "    box-shadow: none;\n",
              "  }\n",
              "\n",
              "  .colab-df-spinner {\n",
              "    border: 2px solid var(--fill-color);\n",
              "    border-color: transparent;\n",
              "    border-bottom-color: var(--fill-color);\n",
              "    animation:\n",
              "      spin 1s steps(1) infinite;\n",
              "  }\n",
              "\n",
              "  @keyframes spin {\n",
              "    0% {\n",
              "      border-color: transparent;\n",
              "      border-bottom-color: var(--fill-color);\n",
              "      border-left-color: var(--fill-color);\n",
              "    }\n",
              "    20% {\n",
              "      border-color: transparent;\n",
              "      border-left-color: var(--fill-color);\n",
              "      border-top-color: var(--fill-color);\n",
              "    }\n",
              "    30% {\n",
              "      border-color: transparent;\n",
              "      border-left-color: var(--fill-color);\n",
              "      border-top-color: var(--fill-color);\n",
              "      border-right-color: var(--fill-color);\n",
              "    }\n",
              "    40% {\n",
              "      border-color: transparent;\n",
              "      border-right-color: var(--fill-color);\n",
              "      border-top-color: var(--fill-color);\n",
              "    }\n",
              "    60% {\n",
              "      border-color: transparent;\n",
              "      border-right-color: var(--fill-color);\n",
              "    }\n",
              "    80% {\n",
              "      border-color: transparent;\n",
              "      border-right-color: var(--fill-color);\n",
              "      border-bottom-color: var(--fill-color);\n",
              "    }\n",
              "    90% {\n",
              "      border-color: transparent;\n",
              "      border-bottom-color: var(--fill-color);\n",
              "    }\n",
              "  }\n",
              "</style>\n",
              "\n",
              "  <script>\n",
              "    async function quickchart(key) {\n",
              "      const quickchartButtonEl =\n",
              "        document.querySelector('#' + key + ' button');\n",
              "      quickchartButtonEl.disabled = true;  // To prevent multiple clicks.\n",
              "      quickchartButtonEl.classList.add('colab-df-spinner');\n",
              "      try {\n",
              "        const charts = await google.colab.kernel.invokeFunction(\n",
              "            'suggestCharts', [key], {});\n",
              "      } catch (error) {\n",
              "        console.error('Error during call to suggestCharts:', error);\n",
              "      }\n",
              "      quickchartButtonEl.classList.remove('colab-df-spinner');\n",
              "      quickchartButtonEl.classList.add('colab-df-quickchart-complete');\n",
              "    }\n",
              "    (() => {\n",
              "      let quickchartButtonEl =\n",
              "        document.querySelector('#df-36a522eb-8a12-459c-a50d-76b64a0e5854 button');\n",
              "      quickchartButtonEl.style.display =\n",
              "        google.colab.kernel.accessAllowed ? 'block' : 'none';\n",
              "    })();\n",
              "  </script>\n",
              "</div>\n",
              "    </div>\n",
              "  </div>\n"
            ]
          },
          "metadata": {},
          "execution_count": 6
        }
      ]
    },
    {
      "cell_type": "markdown",
      "source": [
        "The market table has an extra coluom which is named unamed2 .we remove it with this code"
      ],
      "metadata": {
        "id": "IBuv6mbOhlWo"
      }
    },
    {
      "cell_type": "code",
      "source": [
        "import pandas as pd\n",
        "column_to_remove = 'Unnamed: 2'\n",
        "Market2=pd.read_csv(\"/content/drive/MyDrive/market.csv\")\n",
        "\n",
        "# Use the drop method to remove the specified column\n",
        "Market = Market2.drop(column_to_remove, axis=1)\n",
        "Market"
      ],
      "metadata": {
        "colab": {
          "base_uri": "https://localhost:8080/"
        },
        "id": "RGDqOUUyg8Iv",
        "outputId": "1e8bffe1-bc82-4ab4-f1ef-e7b4b9e744ae"
      },
      "execution_count": null,
      "outputs": [
        {
          "output_type": "execute_result",
          "data": {
            "text/plain": [
              "       id country market_type  square_feet  avg_customers  \\\n",
              "0    XC14   SPAIN       HYPER        11135          773.0   \n",
              "1    WG25  FRANCE        MINI         1402          252.0   \n",
              "2    UX72  FRANCE        MINI         1452          265.0   \n",
              "3    EE84   SPAIN       HYPER        15259          874.0   \n",
              "4    RF54  FRANCE        MINI         2497          191.0   \n",
              "..    ...     ...         ...          ...            ...   \n",
              "745  ZM74   ITALY       SUPER         5778          356.0   \n",
              "746  WW60  FRANCE       HYPER        10923          907.0   \n",
              "747  LU14   ITALY       SUPER         5742          397.0   \n",
              "748  HY57   ITALY        MINI         2495          228.0   \n",
              "749  QD17  FRANCE       SUPER         6806          516.0   \n",
              "\n",
              "     competitor_distance has_promotions  \n",
              "0                    515            YES  \n",
              "1                    522            YES  \n",
              "2                  15939            YES  \n",
              "3                    754            YES  \n",
              "4                  34007            YES  \n",
              "..                   ...            ...  \n",
              "745                 4424            YES  \n",
              "746                41359            YES  \n",
              "747                 2841            YES  \n",
              "748                 3848            YES  \n",
              "749                10468            YES  \n",
              "\n",
              "[750 rows x 7 columns]"
            ],
            "text/html": [
              "\n",
              "  <div id=\"df-37aca2dd-75d1-4e91-92c4-be94398fd6bc\" class=\"colab-df-container\">\n",
              "    <div>\n",
              "<style scoped>\n",
              "    .dataframe tbody tr th:only-of-type {\n",
              "        vertical-align: middle;\n",
              "    }\n",
              "\n",
              "    .dataframe tbody tr th {\n",
              "        vertical-align: top;\n",
              "    }\n",
              "\n",
              "    .dataframe thead th {\n",
              "        text-align: right;\n",
              "    }\n",
              "</style>\n",
              "<table border=\"1\" class=\"dataframe\">\n",
              "  <thead>\n",
              "    <tr style=\"text-align: right;\">\n",
              "      <th></th>\n",
              "      <th>id</th>\n",
              "      <th>country</th>\n",
              "      <th>market_type</th>\n",
              "      <th>square_feet</th>\n",
              "      <th>avg_customers</th>\n",
              "      <th>competitor_distance</th>\n",
              "      <th>has_promotions</th>\n",
              "    </tr>\n",
              "  </thead>\n",
              "  <tbody>\n",
              "    <tr>\n",
              "      <th>0</th>\n",
              "      <td>XC14</td>\n",
              "      <td>SPAIN</td>\n",
              "      <td>HYPER</td>\n",
              "      <td>11135</td>\n",
              "      <td>773.0</td>\n",
              "      <td>515</td>\n",
              "      <td>YES</td>\n",
              "    </tr>\n",
              "    <tr>\n",
              "      <th>1</th>\n",
              "      <td>WG25</td>\n",
              "      <td>FRANCE</td>\n",
              "      <td>MINI</td>\n",
              "      <td>1402</td>\n",
              "      <td>252.0</td>\n",
              "      <td>522</td>\n",
              "      <td>YES</td>\n",
              "    </tr>\n",
              "    <tr>\n",
              "      <th>2</th>\n",
              "      <td>UX72</td>\n",
              "      <td>FRANCE</td>\n",
              "      <td>MINI</td>\n",
              "      <td>1452</td>\n",
              "      <td>265.0</td>\n",
              "      <td>15939</td>\n",
              "      <td>YES</td>\n",
              "    </tr>\n",
              "    <tr>\n",
              "      <th>3</th>\n",
              "      <td>EE84</td>\n",
              "      <td>SPAIN</td>\n",
              "      <td>HYPER</td>\n",
              "      <td>15259</td>\n",
              "      <td>874.0</td>\n",
              "      <td>754</td>\n",
              "      <td>YES</td>\n",
              "    </tr>\n",
              "    <tr>\n",
              "      <th>4</th>\n",
              "      <td>RF54</td>\n",
              "      <td>FRANCE</td>\n",
              "      <td>MINI</td>\n",
              "      <td>2497</td>\n",
              "      <td>191.0</td>\n",
              "      <td>34007</td>\n",
              "      <td>YES</td>\n",
              "    </tr>\n",
              "    <tr>\n",
              "      <th>...</th>\n",
              "      <td>...</td>\n",
              "      <td>...</td>\n",
              "      <td>...</td>\n",
              "      <td>...</td>\n",
              "      <td>...</td>\n",
              "      <td>...</td>\n",
              "      <td>...</td>\n",
              "    </tr>\n",
              "    <tr>\n",
              "      <th>745</th>\n",
              "      <td>ZM74</td>\n",
              "      <td>ITALY</td>\n",
              "      <td>SUPER</td>\n",
              "      <td>5778</td>\n",
              "      <td>356.0</td>\n",
              "      <td>4424</td>\n",
              "      <td>YES</td>\n",
              "    </tr>\n",
              "    <tr>\n",
              "      <th>746</th>\n",
              "      <td>WW60</td>\n",
              "      <td>FRANCE</td>\n",
              "      <td>HYPER</td>\n",
              "      <td>10923</td>\n",
              "      <td>907.0</td>\n",
              "      <td>41359</td>\n",
              "      <td>YES</td>\n",
              "    </tr>\n",
              "    <tr>\n",
              "      <th>747</th>\n",
              "      <td>LU14</td>\n",
              "      <td>ITALY</td>\n",
              "      <td>SUPER</td>\n",
              "      <td>5742</td>\n",
              "      <td>397.0</td>\n",
              "      <td>2841</td>\n",
              "      <td>YES</td>\n",
              "    </tr>\n",
              "    <tr>\n",
              "      <th>748</th>\n",
              "      <td>HY57</td>\n",
              "      <td>ITALY</td>\n",
              "      <td>MINI</td>\n",
              "      <td>2495</td>\n",
              "      <td>228.0</td>\n",
              "      <td>3848</td>\n",
              "      <td>YES</td>\n",
              "    </tr>\n",
              "    <tr>\n",
              "      <th>749</th>\n",
              "      <td>QD17</td>\n",
              "      <td>FRANCE</td>\n",
              "      <td>SUPER</td>\n",
              "      <td>6806</td>\n",
              "      <td>516.0</td>\n",
              "      <td>10468</td>\n",
              "      <td>YES</td>\n",
              "    </tr>\n",
              "  </tbody>\n",
              "</table>\n",
              "<p>750 rows × 7 columns</p>\n",
              "</div>\n",
              "    <div class=\"colab-df-buttons\">\n",
              "\n",
              "  <div class=\"colab-df-container\">\n",
              "    <button class=\"colab-df-convert\" onclick=\"convertToInteractive('df-37aca2dd-75d1-4e91-92c4-be94398fd6bc')\"\n",
              "            title=\"Convert this dataframe to an interactive table.\"\n",
              "            style=\"display:none;\">\n",
              "\n",
              "  <svg xmlns=\"http://www.w3.org/2000/svg\" height=\"24px\" viewBox=\"0 -960 960 960\">\n",
              "    <path d=\"M120-120v-720h720v720H120Zm60-500h600v-160H180v160Zm220 220h160v-160H400v160Zm0 220h160v-160H400v160ZM180-400h160v-160H180v160Zm440 0h160v-160H620v160ZM180-180h160v-160H180v160Zm440 0h160v-160H620v160Z\"/>\n",
              "  </svg>\n",
              "    </button>\n",
              "\n",
              "  <style>\n",
              "    .colab-df-container {\n",
              "      display:flex;\n",
              "      gap: 12px;\n",
              "    }\n",
              "\n",
              "    .colab-df-convert {\n",
              "      background-color: #E8F0FE;\n",
              "      border: none;\n",
              "      border-radius: 50%;\n",
              "      cursor: pointer;\n",
              "      display: none;\n",
              "      fill: #1967D2;\n",
              "      height: 32px;\n",
              "      padding: 0 0 0 0;\n",
              "      width: 32px;\n",
              "    }\n",
              "\n",
              "    .colab-df-convert:hover {\n",
              "      background-color: #E2EBFA;\n",
              "      box-shadow: 0px 1px 2px rgba(60, 64, 67, 0.3), 0px 1px 3px 1px rgba(60, 64, 67, 0.15);\n",
              "      fill: #174EA6;\n",
              "    }\n",
              "\n",
              "    .colab-df-buttons div {\n",
              "      margin-bottom: 4px;\n",
              "    }\n",
              "\n",
              "    [theme=dark] .colab-df-convert {\n",
              "      background-color: #3B4455;\n",
              "      fill: #D2E3FC;\n",
              "    }\n",
              "\n",
              "    [theme=dark] .colab-df-convert:hover {\n",
              "      background-color: #434B5C;\n",
              "      box-shadow: 0px 1px 3px 1px rgba(0, 0, 0, 0.15);\n",
              "      filter: drop-shadow(0px 1px 2px rgba(0, 0, 0, 0.3));\n",
              "      fill: #FFFFFF;\n",
              "    }\n",
              "  </style>\n",
              "\n",
              "    <script>\n",
              "      const buttonEl =\n",
              "        document.querySelector('#df-37aca2dd-75d1-4e91-92c4-be94398fd6bc button.colab-df-convert');\n",
              "      buttonEl.style.display =\n",
              "        google.colab.kernel.accessAllowed ? 'block' : 'none';\n",
              "\n",
              "      async function convertToInteractive(key) {\n",
              "        const element = document.querySelector('#df-37aca2dd-75d1-4e91-92c4-be94398fd6bc');\n",
              "        const dataTable =\n",
              "          await google.colab.kernel.invokeFunction('convertToInteractive',\n",
              "                                                    [key], {});\n",
              "        if (!dataTable) return;\n",
              "\n",
              "        const docLinkHtml = 'Like what you see? Visit the ' +\n",
              "          '<a target=\"_blank\" href=https://colab.research.google.com/notebooks/data_table.ipynb>data table notebook</a>'\n",
              "          + ' to learn more about interactive tables.';\n",
              "        element.innerHTML = '';\n",
              "        dataTable['output_type'] = 'display_data';\n",
              "        await google.colab.output.renderOutput(dataTable, element);\n",
              "        const docLink = document.createElement('div');\n",
              "        docLink.innerHTML = docLinkHtml;\n",
              "        element.appendChild(docLink);\n",
              "      }\n",
              "    </script>\n",
              "  </div>\n",
              "\n",
              "\n",
              "<div id=\"df-87a4f3b1-82ec-48e6-b729-42771d354697\">\n",
              "  <button class=\"colab-df-quickchart\" onclick=\"quickchart('df-87a4f3b1-82ec-48e6-b729-42771d354697')\"\n",
              "            title=\"Suggest charts\"\n",
              "            style=\"display:none;\">\n",
              "\n",
              "<svg xmlns=\"http://www.w3.org/2000/svg\" height=\"24px\"viewBox=\"0 0 24 24\"\n",
              "     width=\"24px\">\n",
              "    <g>\n",
              "        <path d=\"M19 3H5c-1.1 0-2 .9-2 2v14c0 1.1.9 2 2 2h14c1.1 0 2-.9 2-2V5c0-1.1-.9-2-2-2zM9 17H7v-7h2v7zm4 0h-2V7h2v10zm4 0h-2v-4h2v4z\"/>\n",
              "    </g>\n",
              "</svg>\n",
              "  </button>\n",
              "\n",
              "<style>\n",
              "  .colab-df-quickchart {\n",
              "      --bg-color: #E8F0FE;\n",
              "      --fill-color: #1967D2;\n",
              "      --hover-bg-color: #E2EBFA;\n",
              "      --hover-fill-color: #174EA6;\n",
              "      --disabled-fill-color: #AAA;\n",
              "      --disabled-bg-color: #DDD;\n",
              "  }\n",
              "\n",
              "  [theme=dark] .colab-df-quickchart {\n",
              "      --bg-color: #3B4455;\n",
              "      --fill-color: #D2E3FC;\n",
              "      --hover-bg-color: #434B5C;\n",
              "      --hover-fill-color: #FFFFFF;\n",
              "      --disabled-bg-color: #3B4455;\n",
              "      --disabled-fill-color: #666;\n",
              "  }\n",
              "\n",
              "  .colab-df-quickchart {\n",
              "    background-color: var(--bg-color);\n",
              "    border: none;\n",
              "    border-radius: 50%;\n",
              "    cursor: pointer;\n",
              "    display: none;\n",
              "    fill: var(--fill-color);\n",
              "    height: 32px;\n",
              "    padding: 0;\n",
              "    width: 32px;\n",
              "  }\n",
              "\n",
              "  .colab-df-quickchart:hover {\n",
              "    background-color: var(--hover-bg-color);\n",
              "    box-shadow: 0 1px 2px rgba(60, 64, 67, 0.3), 0 1px 3px 1px rgba(60, 64, 67, 0.15);\n",
              "    fill: var(--button-hover-fill-color);\n",
              "  }\n",
              "\n",
              "  .colab-df-quickchart-complete:disabled,\n",
              "  .colab-df-quickchart-complete:disabled:hover {\n",
              "    background-color: var(--disabled-bg-color);\n",
              "    fill: var(--disabled-fill-color);\n",
              "    box-shadow: none;\n",
              "  }\n",
              "\n",
              "  .colab-df-spinner {\n",
              "    border: 2px solid var(--fill-color);\n",
              "    border-color: transparent;\n",
              "    border-bottom-color: var(--fill-color);\n",
              "    animation:\n",
              "      spin 1s steps(1) infinite;\n",
              "  }\n",
              "\n",
              "  @keyframes spin {\n",
              "    0% {\n",
              "      border-color: transparent;\n",
              "      border-bottom-color: var(--fill-color);\n",
              "      border-left-color: var(--fill-color);\n",
              "    }\n",
              "    20% {\n",
              "      border-color: transparent;\n",
              "      border-left-color: var(--fill-color);\n",
              "      border-top-color: var(--fill-color);\n",
              "    }\n",
              "    30% {\n",
              "      border-color: transparent;\n",
              "      border-left-color: var(--fill-color);\n",
              "      border-top-color: var(--fill-color);\n",
              "      border-right-color: var(--fill-color);\n",
              "    }\n",
              "    40% {\n",
              "      border-color: transparent;\n",
              "      border-right-color: var(--fill-color);\n",
              "      border-top-color: var(--fill-color);\n",
              "    }\n",
              "    60% {\n",
              "      border-color: transparent;\n",
              "      border-right-color: var(--fill-color);\n",
              "    }\n",
              "    80% {\n",
              "      border-color: transparent;\n",
              "      border-right-color: var(--fill-color);\n",
              "      border-bottom-color: var(--fill-color);\n",
              "    }\n",
              "    90% {\n",
              "      border-color: transparent;\n",
              "      border-bottom-color: var(--fill-color);\n",
              "    }\n",
              "  }\n",
              "</style>\n",
              "\n",
              "  <script>\n",
              "    async function quickchart(key) {\n",
              "      const quickchartButtonEl =\n",
              "        document.querySelector('#' + key + ' button');\n",
              "      quickchartButtonEl.disabled = true;  // To prevent multiple clicks.\n",
              "      quickchartButtonEl.classList.add('colab-df-spinner');\n",
              "      try {\n",
              "        const charts = await google.colab.kernel.invokeFunction(\n",
              "            'suggestCharts', [key], {});\n",
              "      } catch (error) {\n",
              "        console.error('Error during call to suggestCharts:', error);\n",
              "      }\n",
              "      quickchartButtonEl.classList.remove('colab-df-spinner');\n",
              "      quickchartButtonEl.classList.add('colab-df-quickchart-complete');\n",
              "    }\n",
              "    (() => {\n",
              "      let quickchartButtonEl =\n",
              "        document.querySelector('#df-87a4f3b1-82ec-48e6-b729-42771d354697 button');\n",
              "      quickchartButtonEl.style.display =\n",
              "        google.colab.kernel.accessAllowed ? 'block' : 'none';\n",
              "    })();\n",
              "  </script>\n",
              "</div>\n",
              "    </div>\n",
              "  </div>\n"
            ]
          },
          "metadata": {},
          "execution_count": 7
        }
      ]
    },
    {
      "cell_type": "markdown",
      "source": [
        "Each row corresponds to a unique  **market**\n",
        "\n",
        "The dataset contains 7 columns (aka attributes), here the descriptions:\n",
        "1. **market_id** - Each market has a unique id\n",
        "2. **country** - location of a country for market.\n",
        "3. **market_type**  it shows different type of markets.(mini-super-hyper)\n",
        "4. **square_feet** - it is square feet of size of a market.\n",
        "5. **avg_customers** - it shows daily averages of customers for each market.\n",
        "6. **compitetor_distance** - distance in meters from nearest competitor.\n",
        "7. **has_promotions** - the market has promotions during the year."
      ],
      "metadata": {
        "id": "UPHqm9hGh0ro"
      }
    },
    {
      "cell_type": "markdown",
      "source": [
        "I check whether **id** in market table are unique or not."
      ],
      "metadata": {
        "id": "QtZ9eShMiENo"
      }
    },
    {
      "cell_type": "code",
      "source": [
        "import pandas as pd\n",
        "\n",
        "\n",
        "# Check if 'id' column has any duplicates\n",
        "are_duplicates = Market['id'].duplicated().any()\n",
        "\n",
        "if are_duplicates:\n",
        "    print(\"There are duplicate market_ids in the Market table.\")\n",
        "else:\n",
        "    print(\"All market_ids in the Market table are unique.\")"
      ],
      "metadata": {
        "colab": {
          "base_uri": "https://localhost:8080/"
        },
        "id": "iCYwCvdMiNCM",
        "outputId": "048cd973-282f-4080-fe95-0051d9befe0a"
      },
      "execution_count": null,
      "outputs": [
        {
          "output_type": "stream",
          "name": "stdout",
          "text": [
            "All market_ids in the Market table are unique.\n"
          ]
        }
      ]
    },
    {
      "cell_type": "code",
      "source": [
        "# check for Nan for market table\n",
        "nan_counts = Market.isnull().sum()\n",
        "print(\"NaN counts for each column:\")\n",
        "print(nan_counts)"
      ],
      "metadata": {
        "colab": {
          "base_uri": "https://localhost:8080/"
        },
        "id": "ZjGK0mRQiabU",
        "outputId": "cff9aba1-8dfe-4eab-f8e3-d6b55c360fde"
      },
      "execution_count": null,
      "outputs": [
        {
          "output_type": "stream",
          "name": "stdout",
          "text": [
            "NaN counts for each column:\n",
            "id                     0\n",
            "country                0\n",
            "market_type            2\n",
            "square_feet            0\n",
            "avg_customers          1\n",
            "competitor_distance    0\n",
            "has_promotions         0\n",
            "dtype: int64\n"
          ]
        }
      ]
    },
    {
      "cell_type": "code",
      "source": [
        "  # how many markets is-open?\n",
        "\n",
        "n_open = sum(Sales[\"is_open\"] == \"YES\")\n",
        "n_not_open = sum(Sales[\"is_open\"] == \"NO\")\n",
        "print(f\"{n_open} market opened, while {n_not_open} closed \")"
      ],
      "metadata": {
        "colab": {
          "base_uri": "https://localhost:8080/"
        },
        "id": "rgkV0BRrif1q",
        "outputId": "b2b0bf34-7417-458a-c0d2-0472b4cc5c18"
      },
      "execution_count": null,
      "outputs": [
        {
          "output_type": "stream",
          "name": "stdout",
          "text": [
            "435323 market opened, while 88624 closed \n"
          ]
        }
      ]
    },
    {
      "cell_type": "code",
      "source": [
        "# how many markets has-promotion?\n",
        "\n",
        "n_promotion = sum(Market[\"has_promotions\"] == \"YES\")\n",
        "n_not_promotion = sum(Market[\"has_promotions\"] == \"NO\")\n",
        "print(f\"{n_promotion} market has promotions, while {n_not_promotion} has not promotions \")"
      ],
      "metadata": {
        "colab": {
          "base_uri": "https://localhost:8080/"
        },
        "id": "Jpt0OfC3i0tI",
        "outputId": "094ff3b8-c2dc-4ee7-a2bc-dc3425f8a4ad"
      },
      "execution_count": null,
      "outputs": [
        {
          "output_type": "stream",
          "name": "stdout",
          "text": [
            "746 market has promotions, while 4 has not promotions \n"
          ]
        }
      ]
    },
    {
      "cell_type": "code",
      "source": [
        "# how many Market_type has defined as hypermarket,supermarket and minimarket\n",
        "n_hyper = sum(Market[\"market_type\"] == \"HYPER\")\n",
        "n_super = sum(Market[\"market_type\"] == \"SUPER\")\n",
        "n_mini = sum(Market[\"market_type\"] == \"MINI\")\n",
        "print(f\" the company has {n_hyper}  hypermarket, {n_super}supermarket and {n_mini} minimarket\")"
      ],
      "metadata": {
        "colab": {
          "base_uri": "https://localhost:8080/"
        },
        "id": "Gs8nUvjqi7tU",
        "outputId": "9c5c74f6-4cc9-462a-8c5a-8e56c4cd7bd2"
      },
      "execution_count": null,
      "outputs": [
        {
          "output_type": "stream",
          "name": "stdout",
          "text": [
            " the company has 91  hypermarket, 250supermarket and 407 minimarket\n"
          ]
        }
      ]
    },
    {
      "cell_type": "markdown",
      "source": [
        "I check the **market_id** is unique in sales table or not. if they are repeated. I group them."
      ],
      "metadata": {
        "id": "xwKMl99SjB3y"
      }
    },
    {
      "cell_type": "code",
      "source": [
        "Sales = pd.read_csv(\"/content/drive/MyDrive/sales.csv\", index_col=None, usecols=[0, 1, 2, 3])\n",
        "# Check if 'id' column has any duplicates\n",
        "are_duplicates = Sales['market_id'].duplicated().any()\n",
        "\n",
        "if are_duplicates:\n",
        "    print(\"There are duplicate market_ids in the Sales table.\")\n",
        "else:\n",
        "    print(\"All market_ids in the Sales table are unique.\")"
      ],
      "metadata": {
        "colab": {
          "base_uri": "https://localhost:8080/"
        },
        "id": "fQcW0oaajGy3",
        "outputId": "e42e0476-4603-49bf-f871-672686446748"
      },
      "execution_count": null,
      "outputs": [
        {
          "output_type": "stream",
          "name": "stdout",
          "text": [
            "There are duplicate market_ids in the Sales table.\n"
          ]
        }
      ]
    },
    {
      "cell_type": "markdown",
      "source": [
        "After grouping **market_id**, the number of rows decreased.\n",
        "we also consider this condition that the sale is zero when a market is closed in a day and for every market_id we calculate sum of sales amount in different date."
      ],
      "metadata": {
        "id": "hcKnA56rjVm4"
      }
    },
    {
      "cell_type": "code",
      "source": [
        "import pandas as pd\n",
        "\n",
        "Sales = pd.read_csv(\"/content/drive/MyDrive/sales.csv\", index_col=None, usecols=[0, 1, 2, 3])\n",
        "\n",
        "# Filter rows where 'is_open' is 'yes' or the sale is greater than zero\n",
        "filtered_data = Sales[(Sales['is_open'] == 'YES') | (Sales['sales_amount'] > 0)]\n",
        "\n",
        "# Group by 'market_id', 'date', and 'is_open', and calculate the sum of 'amount_of_sale'\n",
        "grouped_data = filtered_data.groupby(['market_id']).agg({'sales_amount': 'sum'}).reset_index()\n",
        "\n",
        "# Display the grouped data\n",
        "print(grouped_data)"
      ],
      "metadata": {
        "colab": {
          "base_uri": "https://localhost:8080/"
        },
        "id": "veU4kiA4jbnP",
        "outputId": "2db56eeb-6518-45b8-fa09-262ca2933586"
      },
      "execution_count": null,
      "outputs": [
        {
          "output_type": "stream",
          "name": "stdout",
          "text": [
            "    market_id  sales_amount\n",
            "0        AA39    7616186.03\n",
            "1        AA82   11905068.77\n",
            "2        AB90   15805191.68\n",
            "3        AC71    5311634.28\n",
            "4        AD13    7460315.76\n",
            "..        ...           ...\n",
            "745      ZX46    7617753.00\n",
            "746      ZX76    5544110.42\n",
            "747      ZY62   15948530.19\n",
            "748      ZZ11    5606388.69\n",
            "749      ZZ13    7555845.16\n",
            "\n",
            "[750 rows x 2 columns]\n"
          ]
        }
      ]
    },
    {
      "cell_type": "code",
      "source": [
        "# check for Nan for grouped_data table\n",
        "import pandas as pd\n",
        "grouped_data = filtered_data.groupby(['market_id']).agg({'sales_amount': 'sum'}).reset_index()\n",
        "nan_counts = grouped_data.isnull().sum()\n",
        "print(\"NaN counts for each column:\")\n",
        "print(nan_counts)"
      ],
      "metadata": {
        "colab": {
          "base_uri": "https://localhost:8080/"
        },
        "id": "bgrccplikBch",
        "outputId": "9dddd276-f1a5-415c-cb71-2f4d5d13a223"
      },
      "execution_count": null,
      "outputs": [
        {
          "output_type": "stream",
          "name": "stdout",
          "text": [
            "NaN counts for each column:\n",
            "market_id       0\n",
            "sales_amount    0\n",
            "dtype: int64\n"
          ]
        }
      ]
    },
    {
      "cell_type": "markdown",
      "source": [
        " When market is **close** the amount of sale for a market will be **zero**.I check whether the daily sales_amount are **positive** nor."
      ],
      "metadata": {
        "id": "4iBQfhpElrcc"
      }
    },
    {
      "cell_type": "code",
      "source": [
        "sales_column = grouped_data['sales_amount']\n",
        "\n",
        "# Check if all values are positive\n",
        "all_positive = (sales_column > 0).all()\n",
        "\n",
        "# Check if any values are zero\n",
        "any_zero = (sales_column == 0).any()\n",
        "\n",
        "# Check if all values are negative\n",
        "all_negative = (sales_column < 0).all()\n",
        "\n",
        "# Print the results\n",
        "if all_positive:\n",
        "    print(\"All values in the 'sales_amount' column are positive.\")\n",
        "elif any_zero:\n",
        "    print(\"There are zero values in the 'sales_amount' column.\")\n",
        "elif all_negative:\n",
        "    print(\"All values in the 'sales_amount' column are negative.\")\n",
        "else:\n",
        "    print(\"Values in the 'sales_amount' column include a mix of positive, zero, and negative values.\")"
      ],
      "metadata": {
        "colab": {
          "base_uri": "https://localhost:8080/"
        },
        "id": "GAx0OE6Bl6sY",
        "outputId": "e6676f93-2de2-4722-f96f-9e3c1e19412e"
      },
      "execution_count": null,
      "outputs": [
        {
          "output_type": "stream",
          "name": "stdout",
          "text": [
            "All values in the 'sales_amount' column are positive.\n"
          ]
        }
      ]
    },
    {
      "cell_type": "markdown",
      "source": [
        "In this step, the market and sale table can merge becuase they  have same rows .( the number of rows in sales table was more than market table and they couldnot merge toghter)"
      ],
      "metadata": {
        "id": "-9MIcUjjmCBR"
      }
    },
    {
      "cell_type": "code",
      "source": [
        "import pandas as pd\n",
        "\n",
        "# Merge the two tables based on the common column 'market_id' and 'id'\n",
        "merged_df = pd.merge(grouped_data,Market, left_on='market_id', right_on='id', how='inner')\n",
        "\n",
        "# Display the merged data\n",
        "print(merged_df)"
      ],
      "metadata": {
        "colab": {
          "base_uri": "https://localhost:8080/"
        },
        "id": "q1Rysb-nmJ2x",
        "outputId": "800c5ca3-dfd7-49d8-8faf-fa942394efda"
      },
      "execution_count": null,
      "outputs": [
        {
          "output_type": "stream",
          "name": "stdout",
          "text": [
            "    market_id  sales_amount    id country market_type  square_feet  \\\n",
            "0        AA39    7616186.03  AA39  FRANCE        MINI         2437   \n",
            "1        AA82   11905068.77  AA82  FRANCE       SUPER         6403   \n",
            "2        AB90   15805191.68  AB90  FRANCE       SUPER         7544   \n",
            "3        AC71    5311634.28  AC71   SPAIN        MINI         1940   \n",
            "4        AD13    7460315.76  AD13  FRANCE        MINI         1486   \n",
            "..        ...           ...   ...     ...         ...          ...   \n",
            "745      ZX46    7617753.00  ZX46  FRANCE        MINI         1691   \n",
            "746      ZX76    5544110.42  ZX76  FRANCE        MINI         1462   \n",
            "747      ZY62   15948530.19  ZY62  FRANCE       SUPER         5946   \n",
            "748      ZZ11    5606388.69  ZZ11  FRANCE        MINI         1413   \n",
            "749      ZZ13    7555845.16  ZZ13  FRANCE        MINI         2144   \n",
            "\n",
            "     avg_customers  competitor_distance has_promotions  \n",
            "0            248.0                   58            YES  \n",
            "1            493.0                  300            YES  \n",
            "2            340.0                 1598            YES  \n",
            "3            165.0                 2068            YES  \n",
            "4            166.0                  750            YES  \n",
            "..             ...                  ...            ...  \n",
            "745          272.0                 1843            YES  \n",
            "746          159.0                  547            YES  \n",
            "747          488.0                 2743            YES  \n",
            "748          239.0                 1920            YES  \n",
            "749          188.0                 6811            YES  \n",
            "\n",
            "[750 rows x 9 columns]\n"
          ]
        }
      ]
    },
    {
      "cell_type": "markdown",
      "source": [
        "TO be sure, if that market_id from sales table and id from market table have same value or not."
      ],
      "metadata": {
        "id": "qlssHW1imT_Y"
      }
    },
    {
      "cell_type": "code",
      "source": [
        "import pandas as pd\n",
        "\n",
        "# Check if 'market_id' and 'id' columns have the same values\n",
        "have_same_values = (merged_df['market_id'] == merged_df['id']).all()\n",
        "\n",
        "if have_same_values:\n",
        "    print(\"The 'market_id' and 'id' columns have the same values.\")\n",
        "else:\n",
        "    print(\"The 'market_id' and 'id' columns have different values.\")"
      ],
      "metadata": {
        "colab": {
          "base_uri": "https://localhost:8080/"
        },
        "id": "2LORcVnCmbF3",
        "outputId": "2162fb37-ea01-49b0-b137-d29488dc0b6e"
      },
      "execution_count": null,
      "outputs": [
        {
          "output_type": "stream",
          "name": "stdout",
          "text": [
            "The 'market_id' and 'id' columns have the same values.\n"
          ]
        }
      ]
    },
    {
      "cell_type": "markdown",
      "source": [
        "I removed one of market id or id coloum because the are same. we made new table and called it **merged_df**"
      ],
      "metadata": {
        "id": "A4wx3nN7mjOS"
      }
    },
    {
      "cell_type": "code",
      "source": [
        "import pandas as pd\n",
        "merged_df = pd.merge(grouped_data, Market, left_on='market_id', right_on='id', how='inner')\n",
        "\n",
        "# Drop the redundant 'id' column\n",
        "merged_df.drop('id', axis=1, inplace=True)\n",
        "\n",
        "\n",
        "# Display the updated DataFrame\n",
        "print(merged_df)"
      ],
      "metadata": {
        "colab": {
          "base_uri": "https://localhost:8080/"
        },
        "id": "0wXbQH9Qmosr",
        "outputId": "63ad4a42-723b-42c7-ad35-311c2c392d5d"
      },
      "execution_count": null,
      "outputs": [
        {
          "output_type": "stream",
          "name": "stdout",
          "text": [
            "    market_id  sales_amount country market_type  square_feet  avg_customers  \\\n",
            "0        AA39    7616186.03  FRANCE        MINI         2437          248.0   \n",
            "1        AA82   11905068.77  FRANCE       SUPER         6403          493.0   \n",
            "2        AB90   15805191.68  FRANCE       SUPER         7544          340.0   \n",
            "3        AC71    5311634.28   SPAIN        MINI         1940          165.0   \n",
            "4        AD13    7460315.76  FRANCE        MINI         1486          166.0   \n",
            "..        ...           ...     ...         ...          ...            ...   \n",
            "745      ZX46    7617753.00  FRANCE        MINI         1691          272.0   \n",
            "746      ZX76    5544110.42  FRANCE        MINI         1462          159.0   \n",
            "747      ZY62   15948530.19  FRANCE       SUPER         5946          488.0   \n",
            "748      ZZ11    5606388.69  FRANCE        MINI         1413          239.0   \n",
            "749      ZZ13    7555845.16  FRANCE        MINI         2144          188.0   \n",
            "\n",
            "     competitor_distance has_promotions  \n",
            "0                     58            YES  \n",
            "1                    300            YES  \n",
            "2                   1598            YES  \n",
            "3                   2068            YES  \n",
            "4                    750            YES  \n",
            "..                   ...            ...  \n",
            "745                 1843            YES  \n",
            "746                  547            YES  \n",
            "747                 2743            YES  \n",
            "748                 1920            YES  \n",
            "749                 6811            YES  \n",
            "\n",
            "[750 rows x 8 columns]\n"
          ]
        }
      ]
    },
    {
      "cell_type": "markdown",
      "source": [
        "Each row corresponds to a unique  market in **merged_df** table\n",
        "\n",
        "The dataset contains 8 columns (aka attributes), here the descriptions:\n",
        "1. **market_id** - it show id of each market/(string)\n",
        "2. **sales_amount** - it contains all actual sales and it dosenot consider.(float)\n",
        "3. **country** - it shows different type of markets.(string)\n",
        "4. **market_type** - it shows different type of market(mini-super-hyper)\n",
        "5. **square_feet** - it shows size of market .\n",
        "6. **avg_customers** -  it shows avgerge of customer for each day\n",
        "7. **compitetor_distance** -distance in meters from nearest competitor.\n",
        "8. **has_promotions** - it explain wether"
      ],
      "metadata": {
        "id": "xpzL4qWgnL-v"
      }
    },
    {
      "cell_type": "code",
      "source": [
        "n_rows = merged_df.shape[0]\n",
        "n_cols= merged_df.shape[1]\n",
        "print(f\"The number of rows is {n_rows}, while the number of columns is {n_cols}\")"
      ],
      "metadata": {
        "colab": {
          "base_uri": "https://localhost:8080/"
        },
        "id": "Ta5TrEuvm74-",
        "outputId": "93eca04d-ea01-453a-915f-0f69b72c1fce"
      },
      "execution_count": null,
      "outputs": [
        {
          "output_type": "stream",
          "name": "stdout",
          "text": [
            "The number of rows is 750, while the number of columns is 8\n"
          ]
        }
      ]
    },
    {
      "cell_type": "code",
      "source": [
        "# check for Nan for merged_df table\n",
        "nan_counts = merged_df.isnull().sum()\n",
        "print(\"NaN counts for each column:\")\n",
        "print(nan_counts)"
      ],
      "metadata": {
        "colab": {
          "base_uri": "https://localhost:8080/"
        },
        "id": "tlRh6spEnZoK",
        "outputId": "1968a578-5332-4678-8a54-32b2d540b50c"
      },
      "execution_count": null,
      "outputs": [
        {
          "output_type": "stream",
          "name": "stdout",
          "text": [
            "NaN counts for each column:\n",
            "market_id              0\n",
            "sales_amount           0\n",
            "country                0\n",
            "market_type            2\n",
            "square_feet            0\n",
            "avg_customers          1\n",
            "competitor_distance    0\n",
            "has_promotions         0\n",
            "dtype: int64\n"
          ]
        }
      ]
    },
    {
      "cell_type": "code",
      "source": [
        "# Check for  negative values for numeric columns in merged_df table\n",
        "columns_to_check = ['sales_amount', 'square_feet', 'avg_customers', 'competitor_distance']\n",
        "\n",
        "negative_counts = (merged_df[columns_to_check] < 0).sum()\n",
        "print(\"\\nNegative value counts for each specified column:\")\n",
        "print(negative_counts)\n",
        "rows_with_negative_values = merged_df[merged_df['avg_customers'] < 0]\n",
        "print('Rows with negative values:')\n",
        "print(rows_with_negative_values)"
      ],
      "metadata": {
        "colab": {
          "base_uri": "https://localhost:8080/"
        },
        "id": "YLpFcI-enfly",
        "outputId": "769cf471-5b9a-4deb-b659-1d03d9a64800"
      },
      "execution_count": null,
      "outputs": [
        {
          "output_type": "stream",
          "name": "stdout",
          "text": [
            "\n",
            "Negative value counts for each specified column:\n",
            "sales_amount           0\n",
            "square_feet            0\n",
            "avg_customers          1\n",
            "competitor_distance    0\n",
            "dtype: int64\n",
            "Rows with negative values:\n",
            "    market_id  sales_amount country market_type  square_feet  avg_customers  \\\n",
            "261      IP89   37072759.28   SPAIN       HYPER        15560        -9999.0   \n",
            "\n",
            "     competitor_distance has_promotions  \n",
            "261                 6281            YES  \n"
          ]
        }
      ]
    },
    {
      "cell_type": "markdown",
      "source": [
        "#**plot**\n",
        "\n",
        "*   correlation matrix\n",
        "*   boxplot\n",
        "*   histogram\n",
        "*   outlier\n",
        "*   countbox\n",
        "\n"
      ],
      "metadata": {
        "id": "PlrQB9e89LIh"
      }
    },
    {
      "cell_type": "code",
      "source": [
        "import pandas as pd\n",
        "import seaborn as sns\n",
        "import matplotlib.pyplot as plt\n",
        "correlation_matrix = merged_df.corr()\n",
        "sns.heatmap(correlation_matrix, annot=True, cmap=\"coolwarm\", fmt=\".2f\")\n",
        "plt.title(\"Correlation Heatmap\")\n",
        "plt.show()\n",
        "\n"
      ],
      "metadata": {
        "colab": {
          "base_uri": "https://localhost:8080/"
        },
        "id": "Vv7ViRPe9bLc",
        "outputId": "6bc9d225-53f9-4c7b-bfb6-edda4df12ba5"
      },
      "execution_count": null,
      "outputs": [
        {
          "output_type": "stream",
          "name": "stderr",
          "text": [
            "<ipython-input-23-2fa81f6763a0>:4: FutureWarning: The default value of numeric_only in DataFrame.corr is deprecated. In a future version, it will default to False. Select only valid columns or specify the value of numeric_only to silence this warning.\n",
            "  correlation_matrix = merged_df.corr()\n"
          ]
        },
        {
          "output_type": "display_data",
          "data": {
            "text/plain": [
              "<Figure size 640x480 with 2 Axes>"
            ],
            "image/png": "[encoded data removed]"
          },
          "metadata": {}
        }
      ]
    },
    {
      "cell_type": "markdown",
      "source": [
        "At first, I drew a correlation matrix to see the relationship between\n",
        " numerical parameters in mereged_df table.For example sales_amount and square_feet has a strong positive correlation together.and competetior_distance has a negative and very week correlation with others.there is negative and week corrleation between square_feet and competitor_distance and also competitor_distance has week correlation with other parameters."
      ],
      "metadata": {
        "id": "KfxcFWMB_JnQ"
      }
    },
    {
      "cell_type": "markdown",
      "source": [
        " Drow plots for target and pridictors before fitting\n",
        "there is three numerical parameters and three categorical parameters.\n",
        "1.  ** boxplot and histogram** for numerical parameters and **countplot** for categorical parameters\n",
        "2.   outliers"
      ],
      "metadata": {
        "id": "tAq5tV4KolKj"
      }
    },
    {
      "cell_type": "code",
      "source": [
        "import seaborn as sns\n",
        "import matplotlib.pyplot as plt\n",
        "\n",
        "# Assuming 'sales_amount' is your target variable and the others are predictors\n",
        "predictors = ['square_feet', 'avg_customers', 'competitor_distance']\n",
        "target_variable = 'sales_amount'\n",
        "\n",
        "fig, axes = plt.subplots(ncols=3, figsize=(10, 5))\n",
        "axes = axes.flatten()\n",
        "\n",
        "for i, predictor in enumerate(predictors):\n",
        "    sns.boxplot(data=merged_df, x=target_variable, y=predictor, ax=axes[i])\n",
        "\n",
        "plt.tight_layout()\n",
        "plt.show()\n"
      ],
      "metadata": {
        "colab": {
          "base_uri": "https://localhost:8080/"
        },
        "id": "UgqO7nD0ocjs",
        "outputId": "adf76fa9-f562-42ff-8c9b-20346fc3f7ce"
      },
      "execution_count": null,
      "outputs": [
        {
          "output_type": "display_data",
          "data": {
            "text/plain": [
              "<Figure size 1000x500 with 3 Axes>"
            ],
            "image/png": "[encoded data removed]"
          },
          "metadata": {}
        }
      ]
    },
    {
      "cell_type": "markdown",
      "source": [
        "at first,I used boxplot for my numerical parameters but  because  the sales_value is too much in x-axis. we use histogram plot"
      ],
      "metadata": {
        "id": "eWxEZHS1owuu"
      }
    },
    {
      "cell_type": "code",
      "source": [
        "import seaborn as sns\n",
        "import matplotlib.pyplot as plt\n",
        "\n",
        "# Assuming 'sales_amount' is your target variable and the others are predictors\n",
        "predictors = ['square_feet', 'avg_customers', 'competitor_distance']\n",
        "\n",
        "# Plot histograms for each predictor\n",
        "fig, axes = plt.subplots(ncols=3, figsize=(10, 5))\n",
        "axes = axes.flatten()\n",
        "\n",
        "for i, predictor in enumerate(predictors):\n",
        "    sns.histplot(data=merged_df, x=predictor, bins=20, kde=True, ax=axes[i])\n",
        "    axes[i].set_ylabel('ferquancy')\n",
        "    axes[i].set_xlabel(predictor)\n",
        "\n",
        "plt.tight_layout()\n",
        "plt.show()"
      ],
      "metadata": {
        "colab": {
          "base_uri": "https://localhost:8080/"
        },
        "id": "xoNFIIRqo5qj",
        "outputId": "b3c24955-65ab-4b73-ff1c-f2f23920753e"
      },
      "execution_count": null,
      "outputs": [
        {
          "output_type": "display_data",
          "data": {
            "text/plain": [
              "<Figure size 1000x500 with 3 Axes>"
            ],
            "image/png": "[encoded data removed]"
          },
          "metadata": {}
        }
      ]
    },
    {
      "cell_type": "code",
      "source": [
        "# outliers\n",
        "import pandas as pd\n",
        "\n",
        "# Assuming 'merged_df' is your DataFrame\n",
        "# Replace 'merged_df' with the actual name of your DataFrame\n",
        "predictors = ['square_feet', 'avg_customers', 'competitor_distance']\n",
        "selected_columns = ['sales_amount'] + predictors\n",
        "selected_df = merged_df[selected_columns]\n",
        "\n",
        "for column in selected_df.columns:\n",
        "    q1 = selected_df[column].quantile(0.25)\n",
        "    q3 = selected_df[column].quantile(0.75)\n",
        "    iqr = q3 - q1\n",
        "    outliers_count = ((selected_df[column] <= q1 - 1.5 * iqr) | (selected_df[column] >= q3 + 1.5 * iqr)).sum()\n",
        "    percentage_outliers = outliers_count / len(selected_df) * 100\n",
        "    print(f\"The column {column} has {round(percentage_outliers, 2)}% outliers.\")\n"
      ],
      "metadata": {
        "colab": {
          "base_uri": "https://localhost:8080/"
        },
        "id": "xhKREhIBpJCF",
        "outputId": "5c87b883-ea23-43ce-a790-a9076ef91c35"
      },
      "execution_count": null,
      "outputs": [
        {
          "output_type": "stream",
          "name": "stdout",
          "text": [
            "The column sales_amount has 11.73% outliers.\n",
            "The column square_feet has 4.27% outliers.\n",
            "The column avg_customers has 5.33% outliers.\n",
            "The column competitor_distance has 8.8% outliers.\n"
          ]
        }
      ]
    },
    {
      "cell_type": "markdown",
      "source": [
        "  one standard approach is to compute the IQR (interquartile range) and then check values that are\n",
        "- lower than quantile(0.25) - 1.5IQR or\n",
        "- greater than quantile(0.75) + 1.5IQR\n",
        "Sales_amount  and avg_customers have the highest outlier respectively and the less is square_feet."
      ],
      "metadata": {
        "id": "sj9MGvIFpU_S"
      }
    },
    {
      "cell_type": "markdown",
      "source": [
        "Before fitting it s better we remove outlier but in this project I didnt because I didnot want to lose my information and I didnt have time. after salea_amount ,the **competitor_distance** has the most **outlier**."
      ],
      "metadata": {
        "id": "nDsThD0bZc3s"
      }
    },
    {
      "cell_type": "markdown",
      "source": [
        "For categorical parameters we use countplot.the charts show **France** has the highest number between other countries. the amount of value for having mini market is more than hyper and super market."
      ],
      "metadata": {
        "id": "2hvlPbSiphd-"
      }
    },
    {
      "cell_type": "code",
      "source": [
        "import seaborn as sns\n",
        "import matplotlib.pyplot as plt\n",
        "\n",
        "fig, axes = plt.subplots( ncols=3, figsize=(10, 5))\n",
        "\n",
        "for i, predictor in enumerate(['country', 'market_type', 'has_promotions']):\n",
        "    sns.countplot(data=merged_df, x=predictor, ax=axes[ i%3])\n",
        "\n",
        "plt.tight_layout()\n",
        "plt.show()\n"
      ],
      "metadata": {
        "colab": {
          "base_uri": "https://localhost:8080/"
        },
        "id": "_wKBHbwLpoVm",
        "outputId": "0913f990-9008-4be2-c98c-de57ce0e705e"
      },
      "execution_count": null,
      "outputs": [
        {
          "output_type": "display_data",
          "data": {
            "text/plain": [
              "<Figure size 1000x500 with 3 Axes>"
            ],
            "image/png": "[encoded data removed]"
          },
          "metadata": {}
        }
      ]
    },
    {
      "cell_type": "markdown",
      "source": [
        "# **replace**"
      ],
      "metadata": {
        "id": "fh7tsM2QCBww"
      }
    },
    {
      "cell_type": "markdown",
      "source": [
        "In this part before fitting ,for numerical parameters we replace mean instead of NaN and negative number and for categorical parameters we use mode.\n",
        "\n",
        "\n",
        "\n"
      ],
      "metadata": {
        "id": "LD6NrFaZp23M"
      }
    },
    {
      "cell_type": "code",
      "source": [
        "# replace NaN and negative value with mean for avg_customers column\n",
        "mean_avg_customers = merged_df['avg_customers'].mean()\n",
        "merged_df['avg_customers'].fillna(mean_avg_customers, inplace=True)\n",
        "\n",
        "# Replace negative values with the mean\n",
        "merged_df['avg_customers'] = merged_df['avg_customers'].apply(lambda x: mean_avg_customers if x < 0 else x)"
      ],
      "metadata": {
        "id": "xf7xJC3TqHAy"
      },
      "execution_count": null,
      "outputs": []
    },
    {
      "cell_type": "code",
      "source": [
        "# replace market_type with highest class count\n",
        "Market_type_counts = merged_df['market_type'].value_counts()\n",
        "mode_market_type = Market_type_counts.idxmax()\n",
        "merged_df['market_type'].fillna(mode_market_type, inplace=True)"
      ],
      "metadata": {
        "id": "EUviu8gnqVPb"
      },
      "execution_count": null,
      "outputs": []
    },
    {
      "cell_type": "markdown",
      "source": [
        "#**encode**"
      ],
      "metadata": {
        "id": "w9iVLbP7vk23"
      }
    },
    {
      "cell_type": "code",
      "source": [
        "# Encode categorical variables\n",
        "merged_df['has_promotions'] = merged_df['has_promotions'].map({'NO': 0, 'YES': 1})\n",
        "merged_df['country'] = merged_df['country'].map({'FRANCE': 2, 'SPAIN': 0, 'ITALY': 1})\n",
        "merged_df['market_type'] = merged_df['market_type'].map({'MINI': 0, 'SUPER': 1, 'HYPER': 2})"
      ],
      "metadata": {
        "id": "GraIIayYrADB"
      },
      "execution_count": null,
      "outputs": []
    },
    {
      "cell_type": "markdown",
      "source": [
        "# **linear regression **"
      ],
      "metadata": {
        "id": "sX7yK7L2v337"
      }
    },
    {
      "cell_type": "markdown",
      "source": [
        "Now for finding the relationship between our parameters and target we use a multilinear regression. Our target is sales_amount. we want to show for increasing in  one unit in our parameters how much the amount of our sale will change. the parameters which we consider from sale and market table.(market_type,has_promotions,avg_customers,country,square_feet,competitor_distance)some parameters including market_id,date , is_open we dont consider in our first model."
      ],
      "metadata": {
        "id": "CaO3bLtpJtUH"
      }
    },
    {
      "cell_type": "code",
      "source": [
        "import pandas as pd\n",
        "import statsmodels.api as sm\n",
        "from sklearn.model_selection import train_test_split\n",
        "from sklearn.linear_model import LinearRegression\n",
        "from sklearn.metrics import mean_squared_error, r2_score\n",
        "\n",
        "X = merged_df[['market_type', 'square_feet', 'avg_customers', 'country', 'competitor_distance', 'has_promotions']]\n",
        "y = merged_df['sales_amount']\n",
        "\n",
        "# Split the data into training and testing sets\n",
        "X_train, X_test, y_train, y_test = train_test_split(X, y, test_size=0.02, random_state=999)\n",
        "\n",
        "# Fit a linear regression model using sklearn\n",
        "linear_model = LinearRegression()\n",
        "linear_model.fit(X_train, y_train)\n",
        "\n",
        "# Get coefficient estimates\n",
        "coefficients = linear_model.coef_\n",
        "\n",
        "# Create a dataframe with all coefficients and stats of interest using statsmodels\n",
        "X_train_sm = sm.add_constant(X_train)  # add a constant term to the predictors\n",
        "model = sm.OLS(y_train, X_train_sm).fit()\n",
        "\n",
        "# Print OLS summary\n",
        "print(model.summary())\n"
      ],
      "metadata": {
        "colab": {
          "base_uri": "https://localhost:8080/"
        },
        "id": "XW8Pj6OrD8VF",
        "outputId": "0385e0d3-647a-41ba-a127-fe327151fe12"
      },
      "execution_count": null,
      "outputs": [
        {
          "output_type": "stream",
          "name": "stdout",
          "text": [
            "                            OLS Regression Results                            \n",
            "==============================================================================\n",
            "Dep. Variable:           sales_amount   R-squared:                       0.891\n",
            "Model:                            OLS   Adj. R-squared:                  0.891\n",
            "Method:                 Least Squares   F-statistic:                     996.7\n",
            "Date:                Tue, 19 Dec 2023   Prob (F-statistic):               0.00\n",
            "Time:                        14:59:27   Log-Likelihood:                -12010.\n",
            "No. Observations:                 735   AIC:                         2.403e+04\n",
            "Df Residuals:                     728   BIC:                         2.407e+04\n",
            "Df Model:                           6                                         \n",
            "Covariance Type:            nonrobust                                         \n",
            "=======================================================================================\n",
            "                          coef    std err          t      P>|t|      [0.025      0.975]\n",
            "---------------------------------------------------------------------------------------\n",
            "const                1.204e+06   1.57e+06      0.767      0.443   -1.88e+06    4.28e+06\n",
            "market_type          2.827e+06   5.65e+05      5.006      0.000    1.72e+06    3.94e+06\n",
            "square_feet          1180.6625     99.969     11.810      0.000     984.402    1376.923\n",
            "avg_customers        1.568e+04   1523.709     10.291      0.000    1.27e+04    1.87e+04\n",
            "country              3.486e+05   1.39e+05      2.507      0.012    7.57e+04    6.22e+05\n",
            "competitor_distance   -26.2264     13.588     -1.930      0.054     -52.904       0.451\n",
            "has_promotions      -9.035e+05   1.53e+06     -0.592      0.554    -3.9e+06    2.09e+06\n",
            "==============================================================================\n",
            "Omnibus:                       31.565   Durbin-Watson:                   2.097\n",
            "Prob(Omnibus):                  0.000   Jarque-Bera (JB):               90.209\n",
            "Skew:                          -0.027   Prob(JB):                     2.58e-20\n",
            "Kurtosis:                       4.715   Cond. No.                     2.01e+05\n",
            "==============================================================================\n",
            "\n",
            "Notes:\n",
            "[1] Standard Errors assume that the covariance matrix of the errors is correctly specified.\n",
            "[2] The condition number is large, 2.01e+05. This might indicate that there are\n",
            "strong multicollinearity or other numerical problems.\n"
          ]
        }
      ]
    },
    {
      "cell_type": "markdown",
      "source": [
        "\n",
        "\n",
        "**const (Intercept)**: The intercept represents the estimated sales_amount is  1,204,000 euro when all predictor variables are zero.\n",
        "\n",
        "**country ** :**For every one-unit change   between in these  countries p(France-italy,spain) , the sales_amount is estimated to increase by approximately 348,600**.\n",
        "\n",
        "**competitor_distance**: For every one-unit increase in competitor_distance, the sales_amount is estimated to decrease by approximately 26.2264.\n",
        "\n",
        "**market_type** :For every one-unit increase in market_type, the sales_amount is estimated to increase by approximately\n",
        "2,827,000.\n",
        "\n",
        "**square_feet**:For every one-unit increase in square_feet, the sales_amount is estimated to increase by approximately 1180.7.\n",
        "\n",
        "**avg_customers**:For every one-unit increase in avg_customers, the sales_amount is estimated to increase by approximately 15,680.\n",
        "\n",
        "**has_promotions**:For every one-unit increase in has_promotions, the sales_amount is estimated to decrease by approximately 903,500.\n",
        "\n",
        "\n",
        "Standard Errors (std err): These measure the variability or uncertainty in the estimated coefficients.\n",
        "\n",
        "t-Statistics (t): The t-statistic is the ratio of the estimated coefficient to its standard error.  \n",
        "\n",
        "R-squared and Adjusted R-squared: These values indicate the proportion of the variance in the dependent variable explained by the model.\n",
        "\n",
        "P-Values (P>|t|): if p-value is less than 0.05 we reject the null hypothesis which show coefficients are zero.This suggests that there is enough evidence to conclude that the coefficient is not zero, meaning there is a statistically significant relationship between the predictor and the response variable.\n",
        "\n",
        "\n",
        " **The p-value of country** is 0.012, which is less than 0.05. This shows that the  coefficent of \"country\" predictor cannot zero and there is a relationship between this pridictor and sales_amount.\n",
        "\n",
        " **The p-value  of market_type** is 0.000, which is less than 0.05. This indicates that the  coefficent of \"market_type\" predictor cannot be zero and there is a relationship between it and target.\n",
        "\n",
        " **The p-value  of has_promotions** is 0.554, which is greater than 0.05.  it means based on the sample data, there isn't enough evidence to conclude that \"has_promotions\" has a significant effect on sales_amount.\n",
        "\n",
        "   **maybe it is better we remove it from our independent variables **. it can make high variance.\n",
        "\n",
        " **The p-value of square_feet** is 0.000, which is less than 0.05. This indicates that the  coefficent of \"square_feet\" predictor cannot be zero and there is a relationship between pridictor and target.\n",
        "\n",
        "**The p-value  of avg_customers** is 0.000, which is less than 0.05. This indicates that the  coefficent of \"avg_customers\" predictor cannot be zero and there is a relationship between avg_customers and sales_amount.\n",
        "\n",
        "**The p-value of competitor_distance** is 0.054, which is less than 0.05.This indicates that the  coefficent of \"comperitor_distance\" predictor cannot zero and there is a relationship between pridictor and target.\n",
        "\n",
        "\n"
      ],
      "metadata": {
        "id": "h7J9V79REHnx"
      }
    },
    {
      "cell_type": "markdown",
      "source": [
        "now we calculate MSE and R-square of model\n",
        "\n",
        "Mean Squared Error (MSE):\n",
        "\n",
        "MSE measures the average squared difference between the predicted and actual values. A lower MSE indicates better predictive accuracy.\n",
        "\n",
        "R-squared (R2):\n",
        "\n",
        "R2 represents the proportion of variance in the response variable that is explained by the model.  \n",
        "\n"
      ],
      "metadata": {
        "id": "uUQjSjFFL1nX"
      }
    },
    {
      "cell_type": "code",
      "source": [
        "from sklearn.model_selection import train_test_split\n",
        "from sklearn.linear_model import LinearRegression\n",
        "from sklearn.metrics import mean_squared_error, r2_score\n",
        "\n",
        "# Assuming 'merged_df' is your DataFrame with predictors and target\n",
        "X = merged_df[['market_type', 'square_feet', 'avg_customers', 'country', 'competitor_distance', 'has_promotions']]  # Include selected features\n",
        "y = merged_df['sales_amount']\n",
        "\n",
        "# Split the data into training and testing sets\n",
        "X_train, X_test, y_train, y_test = train_test_split(X, y, test_size=0.02, random_state=999)\n",
        "\n",
        "# Fit a linear regression model\n",
        "linear_model = LinearRegression()\n",
        "linear_model.fit(X_train, y_train)\n",
        "\n",
        "# Predict on the test set\n",
        "y_pred = linear_model.predict(X_test)\n",
        "y_train_pred = linear_model.predict(X_train)\n",
        "\n",
        "# Calculate residuals\n",
        "residuals_test = y_test - y_pred\n",
        "residuals_train = y_train - y_train_pred\n",
        "\n",
        "# Calculate RSS\n",
        "rss_test = sum(residuals_test ** 2)\n",
        "rss_train = sum(residuals_train ** 2)\n",
        "\n",
        "# Evaluate the model\n",
        "mse_test = mean_squared_error(y_test, y_pred)\n",
        "r2_test = r2_score(y_test, y_pred)\n",
        "\n",
        "mse_train = mean_squared_error(y_train, y_train_pred)\n",
        "r2_train = r2_score(y_train, y_train_pred)\n",
        "\n",
        "# Print evaluation metrics and RSS\n",
        "print(f\"Test MSE: {mse_test}\")\n",
        "print(f\"Test R2 Score: {r2_test}\")\n",
        "print(f\"Test RSS: {rss_test}\")\n",
        "\n",
        "print(f\"Train MSE: {mse_train}\")\n",
        "print(f\"Train R2 Score: {r2_train}\")\n",
        "print(f\"Train RSS: {rss_train}\")\n"
      ],
      "metadata": {
        "colab": {
          "base_uri": "https://localhost:8080/"
        },
        "id": "vnuJAVAYsI5P",
        "outputId": "5956240d-07bb-4786-d5ba-39ea989fa52a"
      },
      "execution_count": null,
      "outputs": [
        {
          "output_type": "stream",
          "name": "stdout",
          "text": [
            "Test MSE: 3299244001802.9756\n",
            "Test R2 Score: 0.9506240071059409\n",
            "Test RSS: 49488660027044.63\n",
            "Train MSE: 9127537338107.832\n",
            "Train R2 Score: 0.8914752821316347\n",
            "Train RSS: 6708739943509254.0\n"
          ]
        }
      ]
    },
    {
      "cell_type": "markdown",
      "source": [
        " An R2 score  close to 1 indicates it shows a large proportion of\n",
        "the variability in the sale_amount is explained by the regression.maybe there is unseen data in our target"
      ],
      "metadata": {
        "id": "Nk-oAQQEfzyN"
      }
    },
    {
      "cell_type": "code",
      "source": [
        "# 1. correlation of error terms when parameters are numerical and categorical\n",
        "\n",
        "residuals_training = model.resid # notice that these are residuals from training data, not test data\n",
        "plt.plot(range(0, len(residuals_training)), residuals_training)\n",
        "plt.axhline(y=0, color=\"red\", linestyle=\"--\")\n",
        "plt.ylabel(\"Training residuals\")"
      ],
      "metadata": {
        "colab": {
          "base_uri": "https://localhost:8080/"
        },
        "id": "BLQ-qgW6GWVF",
        "outputId": "e0cf27a0-e510-4f8f-97cc-3e48f4ff2efa"
      },
      "execution_count": null,
      "outputs": [
        {
          "output_type": "execute_result",
          "data": {
            "text/plain": [
              "Text(0, 0.5, 'Training residuals')"
            ]
          },
          "metadata": {},
          "execution_count": 33
        },
        {
          "output_type": "display_data",
          "data": {
            "text/plain": [
              "<Figure size 640x480 with 1 Axes>"
            ],
            "image/png": "[encoded data removed]"
          },
          "metadata": {}
        }
      ]
    },
    {
      "cell_type": "markdown",
      "source": [
        "Looking at the chart we can visually see that it seems there is no correlation among error terms"
      ],
      "metadata": {
        "id": "u6xXYfxlGzWi"
      }
    },
    {
      "cell_type": "code",
      "source": [
        "# autocorrelation\n",
        "lagged_residuals = residuals_training.shift(1)  # Lagged residuals\n",
        "autocorrelation = (residuals_training.corr(lagged_residuals)) ** 2\n",
        "\n",
        "# durbin_watson\n",
        "durbin_watson = sm.stats.durbin_watson(residuals_training)\n",
        "\n",
        "print(f\"The autocorrelation is {round(autocorrelation, 5)} while the durbing watson statistic is {round(durbin_watson, 5)}, suggesting that error terms are not correlated\")"
      ],
      "metadata": {
        "colab": {
          "base_uri": "https://localhost:8080/"
        },
        "id": "NgV1RV3QMMBJ",
        "outputId": "cdaad6d2-c4c2-47b7-bff9-134c43decc11"
      },
      "execution_count": null,
      "outputs": [
        {
          "output_type": "stream",
          "name": "stdout",
          "text": [
            "The autocorrelation is 0.0024 while the durbing watson statistic is 2.0974, suggesting that error terms are not correlated\n"
          ]
        }
      ]
    },
    {
      "cell_type": "markdown",
      "source": [
        "\n",
        "Two option for quantify the correlation\n",
        "- compute the autocorrelation with lagged-1 residuals: this returns a number from 0 to 1, the closer to 0 the stronger is the non-correlation\n",
        "- compute Durbin-Watson: this returns a number from 0 to 4, the closer to 2 the stronger is the non-correlation"
      ],
      "metadata": {
        "id": "nxRaPRqGNAT1"
      }
    },
    {
      "cell_type": "code",
      "source": [
        "import matplotlib.pyplot as plt\n",
        "\n",
        "# Assuming 'linear_model' is your fitted Linear Regression model\n",
        "residuals_training = y_train - linear_model.predict(X_train)\n",
        "\n",
        "# Plot residuals vs fitted values for the training set\n",
        "plt.scatter(linear_model.predict(X_train), residuals_training)\n",
        "plt.xlabel(\"Fitted values\")\n",
        "plt.ylabel(\"Residuals\")\n",
        "plt.title(\"Residuals vs Fitted Values - Training Set\")\n",
        "plt.show()\n"
      ],
      "metadata": {
        "colab": {
          "base_uri": "https://localhost:8080/"
        },
        "id": "-pm9hcxRMr1W",
        "outputId": "674ff7ce-a488-4f7a-cbcc-73fe686572aa"
      },
      "execution_count": null,
      "outputs": [
        {
          "output_type": "display_data",
          "data": {
            "text/plain": [
              "<Figure size 640x480 with 1 Axes>"
            ],
            "image/png": "[encoded data removed]"
          },
          "metadata": {}
        }
      ]
    },
    {
      "cell_type": "code",
      "source": [
        "# 3. Collinearity\n",
        "from statsmodels.stats.outliers_influence import variance_inflation_factor\n",
        "\n",
        "vif = pd.DataFrame()\n",
        "vif[\"VIF Factor\"] = [variance_inflation_factor(X_train.values, i) for i in range(X_train.shape[1])]\n",
        "vif[\"Feature\"] = X_train.columns\n",
        "vif\n"
      ],
      "metadata": {
        "colab": {
          "base_uri": "https://localhost:8080/"
        },
        "id": "BL-xO32rOK6L",
        "outputId": "f77f54ba-92dc-4070-9921-0507d6022f18"
      },
      "execution_count": null,
      "outputs": [
        {
          "output_type": "execute_result",
          "data": {
            "text/plain": [
              "   VIF Factor              Feature\n",
              "0   20.055925          market_type\n",
              "1   26.454052          square_feet\n",
              "2   26.203092        avg_customers\n",
              "3    3.446282              country\n",
              "4    1.463892  competitor_distance\n",
              "5   13.658505       has_promotions"
            ],
            "text/html": [
              "\n",
              "  <div id=\"df-3028d3c8-353a-47c6-8022-53d090947612\" class=\"colab-df-container\">\n",
              "    <div>\n",
              "<style scoped>\n",
              "    .dataframe tbody tr th:only-of-type {\n",
              "        vertical-align: middle;\n",
              "    }\n",
              "\n",
              "    .dataframe tbody tr th {\n",
              "        vertical-align: top;\n",
              "    }\n",
              "\n",
              "    .dataframe thead th {\n",
              "        text-align: right;\n",
              "    }\n",
              "</style>\n",
              "<table border=\"1\" class=\"dataframe\">\n",
              "  <thead>\n",
              "    <tr style=\"text-align: right;\">\n",
              "      <th></th>\n",
              "      <th>VIF Factor</th>\n",
              "      <th>Feature</th>\n",
              "    </tr>\n",
              "  </thead>\n",
              "  <tbody>\n",
              "    <tr>\n",
              "      <th>0</th>\n",
              "      <td>20.055925</td>\n",
              "      <td>market_type</td>\n",
              "    </tr>\n",
              "    <tr>\n",
              "      <th>1</th>\n",
              "      <td>26.454052</td>\n",
              "      <td>square_feet</td>\n",
              "    </tr>\n",
              "    <tr>\n",
              "      <th>2</th>\n",
              "      <td>26.203092</td>\n",
              "      <td>avg_customers</td>\n",
              "    </tr>\n",
              "    <tr>\n",
              "      <th>3</th>\n",
              "      <td>3.446282</td>\n",
              "      <td>country</td>\n",
              "    </tr>\n",
              "    <tr>\n",
              "      <th>4</th>\n",
              "      <td>1.463892</td>\n",
              "      <td>competitor_distance</td>\n",
              "    </tr>\n",
              "    <tr>\n",
              "      <th>5</th>\n",
              "      <td>13.658505</td>\n",
              "      <td>has_promotions</td>\n",
              "    </tr>\n",
              "  </tbody>\n",
              "</table>\n",
              "</div>\n",
              "    <div class=\"colab-df-buttons\">\n",
              "\n",
              "  <div class=\"colab-df-container\">\n",
              "    <button class=\"colab-df-convert\" onclick=\"convertToInteractive('df-3028d3c8-353a-47c6-8022-53d090947612')\"\n",
              "            title=\"Convert this dataframe to an interactive table.\"\n",
              "            style=\"display:none;\">\n",
              "\n",
              "  <svg xmlns=\"http://www.w3.org/2000/svg\" height=\"24px\" viewBox=\"0 -960 960 960\">\n",
              "    <path d=\"M120-120v-720h720v720H120Zm60-500h600v-160H180v160Zm220 220h160v-160H400v160Zm0 220h160v-160H400v160ZM180-400h160v-160H180v160Zm440 0h160v-160H620v160ZM180-180h160v-160H180v160Zm440 0h160v-160H620v160Z\"/>\n",
              "  </svg>\n",
              "    </button>\n",
              "\n",
              "  <style>\n",
              "    .colab-df-container {\n",
              "      display:flex;\n",
              "      gap: 12px;\n",
              "    }\n",
              "\n",
              "    .colab-df-convert {\n",
              "      background-color: #E8F0FE;\n",
              "      border: none;\n",
              "      border-radius: 50%;\n",
              "      cursor: pointer;\n",
              "      display: none;\n",
              "      fill: #1967D2;\n",
              "      height: 32px;\n",
              "      padding: 0 0 0 0;\n",
              "      width: 32px;\n",
              "    }\n",
              "\n",
              "    .colab-df-convert:hover {\n",
              "      background-color: #E2EBFA;\n",
              "      box-shadow: 0px 1px 2px rgba(60, 64, 67, 0.3), 0px 1px 3px 1px rgba(60, 64, 67, 0.15);\n",
              "      fill: #174EA6;\n",
              "    }\n",
              "\n",
              "    .colab-df-buttons div {\n",
              "      margin-bottom: 4px;\n",
              "    }\n",
              "\n",
              "    [theme=dark] .colab-df-convert {\n",
              "      background-color: #3B4455;\n",
              "      fill: #D2E3FC;\n",
              "    }\n",
              "\n",
              "    [theme=dark] .colab-df-convert:hover {\n",
              "      background-color: #434B5C;\n",
              "      box-shadow: 0px 1px 3px 1px rgba(0, 0, 0, 0.15);\n",
              "      filter: drop-shadow(0px 1px 2px rgba(0, 0, 0, 0.3));\n",
              "      fill: #FFFFFF;\n",
              "    }\n",
              "  </style>\n",
              "\n",
              "    <script>\n",
              "      const buttonEl =\n",
              "        document.querySelector('#df-3028d3c8-353a-47c6-8022-53d090947612 button.colab-df-convert');\n",
              "      buttonEl.style.display =\n",
              "        google.colab.kernel.accessAllowed ? 'block' : 'none';\n",
              "\n",
              "      async function convertToInteractive(key) {\n",
              "        const element = document.querySelector('#df-3028d3c8-353a-47c6-8022-53d090947612');\n",
              "        const dataTable =\n",
              "          await google.colab.kernel.invokeFunction('convertToInteractive',\n",
              "                                                    [key], {});\n",
              "        if (!dataTable) return;\n",
              "\n",
              "        const docLinkHtml = 'Like what you see? Visit the ' +\n",
              "          '<a target=\"_blank\" href=https://colab.research.google.com/notebooks/data_table.ipynb>data table notebook</a>'\n",
              "          + ' to learn more about interactive tables.';\n",
              "        element.innerHTML = '';\n",
              "        dataTable['output_type'] = 'display_data';\n",
              "        await google.colab.output.renderOutput(dataTable, element);\n",
              "        const docLink = document.createElement('div');\n",
              "        docLink.innerHTML = docLinkHtml;\n",
              "        element.appendChild(docLink);\n",
              "      }\n",
              "    </script>\n",
              "  </div>\n",
              "\n",
              "\n",
              "<div id=\"df-11204117-14dd-4ee3-96d7-5a35f6a2c0ed\">\n",
              "  <button class=\"colab-df-quickchart\" onclick=\"quickchart('df-11204117-14dd-4ee3-96d7-5a35f6a2c0ed')\"\n",
              "            title=\"Suggest charts\"\n",
              "            style=\"display:none;\">\n",
              "\n",
              "<svg xmlns=\"http://www.w3.org/2000/svg\" height=\"24px\"viewBox=\"0 0 24 24\"\n",
              "     width=\"24px\">\n",
              "    <g>\n",
              "        <path d=\"M19 3H5c-1.1 0-2 .9-2 2v14c0 1.1.9 2 2 2h14c1.1 0 2-.9 2-2V5c0-1.1-.9-2-2-2zM9 17H7v-7h2v7zm4 0h-2V7h2v10zm4 0h-2v-4h2v4z\"/>\n",
              "    </g>\n",
              "</svg>\n",
              "  </button>\n",
              "\n",
              "<style>\n",
              "  .colab-df-quickchart {\n",
              "      --bg-color: #E8F0FE;\n",
              "      --fill-color: #1967D2;\n",
              "      --hover-bg-color: #E2EBFA;\n",
              "      --hover-fill-color: #174EA6;\n",
              "      --disabled-fill-color: #AAA;\n",
              "      --disabled-bg-color: #DDD;\n",
              "  }\n",
              "\n",
              "  [theme=dark] .colab-df-quickchart {\n",
              "      --bg-color: #3B4455;\n",
              "      --fill-color: #D2E3FC;\n",
              "      --hover-bg-color: #434B5C;\n",
              "      --hover-fill-color: #FFFFFF;\n",
              "      --disabled-bg-color: #3B4455;\n",
              "      --disabled-fill-color: #666;\n",
              "  }\n",
              "\n",
              "  .colab-df-quickchart {\n",
              "    background-color: var(--bg-color);\n",
              "    border: none;\n",
              "    border-radius: 50%;\n",
              "    cursor: pointer;\n",
              "    display: none;\n",
              "    fill: var(--fill-color);\n",
              "    height: 32px;\n",
              "    padding: 0;\n",
              "    width: 32px;\n",
              "  }\n",
              "\n",
              "  .colab-df-quickchart:hover {\n",
              "    background-color: var(--hover-bg-color);\n",
              "    box-shadow: 0 1px 2px rgba(60, 64, 67, 0.3), 0 1px 3px 1px rgba(60, 64, 67, 0.15);\n",
              "    fill: var(--button-hover-fill-color);\n",
              "  }\n",
              "\n",
              "  .colab-df-quickchart-complete:disabled,\n",
              "  .colab-df-quickchart-complete:disabled:hover {\n",
              "    background-color: var(--disabled-bg-color);\n",
              "    fill: var(--disabled-fill-color);\n",
              "    box-shadow: none;\n",
              "  }\n",
              "\n",
              "  .colab-df-spinner {\n",
              "    border: 2px solid var(--fill-color);\n",
              "    border-color: transparent;\n",
              "    border-bottom-color: var(--fill-color);\n",
              "    animation:\n",
              "      spin 1s steps(1) infinite;\n",
              "  }\n",
              "\n",
              "  @keyframes spin {\n",
              "    0% {\n",
              "      border-color: transparent;\n",
              "      border-bottom-color: var(--fill-color);\n",
              "      border-left-color: var(--fill-color);\n",
              "    }\n",
              "    20% {\n",
              "      border-color: transparent;\n",
              "      border-left-color: var(--fill-color);\n",
              "      border-top-color: var(--fill-color);\n",
              "    }\n",
              "    30% {\n",
              "      border-color: transparent;\n",
              "      border-left-color: var(--fill-color);\n",
              "      border-top-color: var(--fill-color);\n",
              "      border-right-color: var(--fill-color);\n",
              "    }\n",
              "    40% {\n",
              "      border-color: transparent;\n",
              "      border-right-color: var(--fill-color);\n",
              "      border-top-color: var(--fill-color);\n",
              "    }\n",
              "    60% {\n",
              "      border-color: transparent;\n",
              "      border-right-color: var(--fill-color);\n",
              "    }\n",
              "    80% {\n",
              "      border-color: transparent;\n",
              "      border-right-color: var(--fill-color);\n",
              "      border-bottom-color: var(--fill-color);\n",
              "    }\n",
              "    90% {\n",
              "      border-color: transparent;\n",
              "      border-bottom-color: var(--fill-color);\n",
              "    }\n",
              "  }\n",
              "</style>\n",
              "\n",
              "  <script>\n",
              "    async function quickchart(key) {\n",
              "      const quickchartButtonEl =\n",
              "        document.querySelector('#' + key + ' button');\n",
              "      quickchartButtonEl.disabled = true;  // To prevent multiple clicks.\n",
              "      quickchartButtonEl.classList.add('colab-df-spinner');\n",
              "      try {\n",
              "        const charts = await google.colab.kernel.invokeFunction(\n",
              "            'suggestCharts', [key], {});\n",
              "      } catch (error) {\n",
              "        console.error('Error during call to suggestCharts:', error);\n",
              "      }\n",
              "      quickchartButtonEl.classList.remove('colab-df-spinner');\n",
              "      quickchartButtonEl.classList.add('colab-df-quickchart-complete');\n",
              "    }\n",
              "    (() => {\n",
              "      let quickchartButtonEl =\n",
              "        document.querySelector('#df-11204117-14dd-4ee3-96d7-5a35f6a2c0ed button');\n",
              "      quickchartButtonEl.style.display =\n",
              "        google.colab.kernel.accessAllowed ? 'block' : 'none';\n",
              "    })();\n",
              "  </script>\n",
              "</div>\n",
              "    </div>\n",
              "  </div>\n"
            ]
          },
          "metadata": {},
          "execution_count": 36
        }
      ]
    },
    {
      "cell_type": "markdown",
      "source": [
        "Collinearity is overall quite high for most parametors because R square is close to 1, suggesting that some variables could be removed or merged into one\n",
        "\n",
        "  the lowest value for VIF is 1 and it is for competitor_distance. it shows it has less collinearity. we have a large coefficient interval and it shows there is alot unknown value."
      ],
      "metadata": {
        "id": "9yPGcEkvOXIT"
      }
    },
    {
      "cell_type": "markdown",
      "source": [
        "#**feather selection**"
      ],
      "metadata": {
        "id": "YN75qpF09V9W"
      }
    },
    {
      "cell_type": "markdown",
      "metadata": {
        "id": "ytM6a9wtua3Z"
      },
      "source": [
        "**Feather selection**\n",
        "for feather selection I use the  **best subset selection - v2**: test all possible combinations using k-fold cross-validation to see if a subset of predictors performs better than the entire set\n",
        " Including such irrelevant variables leads to unnecessary complexity\n",
        "in the model\n",
        " If these variables are removed we can obtain a model that is more\n",
        "easily interpreted\n",
        "there is three method for selection of parameters (best feather-forward stepwise selection-backward stepwise selection)-i only choose the best selection method for my data\n"
      ]
    },
    {
      "cell_type": "code",
      "execution_count": null,
      "metadata": {
        "colab": {
          "base_uri": "https://localhost:8080/"
        },
        "id": "I28ddvbdqbdk",
        "outputId": "ddf6f2e3-0d06-46c9-858d-25815bf9df77"
      },
      "outputs": [
        {
          "output_type": "stream",
          "name": "stdout",
          "text": [
            "start iteration 1 of 6\n",
            "start iteration 2 of 6\n",
            "start iteration 3 of 6\n",
            "start iteration 4 of 6\n",
            "start iteration 5 of 6\n",
            "start iteration 6 of 6\n",
            "-------------------\n",
            "Finished!\n",
            "Features with best model: ['country', 'market_type', 'has_promotions', 'square_feet', 'avg_customers']\n",
            "RSE: 2573036.2547787167\n",
            "R2: 0.8852299341375839\n",
            "MSE: 9286147917750.744\n"
          ]
        }
      ],
      "source": [
        "import itertools\n",
        "import statsmodels.api as sm\n",
        "from sklearn.model_selection import KFold\n",
        "\n",
        "# Step 1: initialize KFold object to use for model evaluation\n",
        "number_folds = 5\n",
        "kf = KFold(n_splits=number_folds, shuffle=True, random_state=999)\n",
        "\n",
        "# step 2\n",
        "\n",
        "# Select predictors and target\n",
        "X = merged_df[['country', 'market_type', 'has_promotions', 'square_feet', 'avg_customers', 'competitor_distance']]\n",
        "y = merged_df['sales_amount']\n",
        "\n",
        "# Step 3: Define a function to calculate RSE, R2, and MSE\n",
        "def calculate_metrics(y_validation, y_pred, X):\n",
        "    residuals = y_validation - y_pred\n",
        "    RSE = (sum(residuals ** 2) / (len(residuals) - X.shape[1] - 1)) ** 0.5\n",
        "    R2 = 1 - (residuals ** 2).sum() / ((y_validation - y_validation.mean()) ** 2).sum()\n",
        "    MSE = (residuals ** 2).mean()\n",
        "    return RSE, R2, MSE\n",
        "\n",
        "# Step 4: Implement best subset selection\n",
        "def best_subset_selection(X, y, target_col):\n",
        "    n_features = X.shape[1]\n",
        "    all_models = []\n",
        "    best_models = []\n",
        "    best_metrics = {\n",
        "        \"RSE\": float(\"inf\"),\n",
        "        \"R2\": -float(\"inf\"),\n",
        "        \"MSE\": float(\"inf\"),\n",
        "        }\n",
        "\n",
        "    # for each number of features\n",
        "    for k in range(1, n_features + 1):\n",
        "        print(f\"start iteration {k} of {n_features}\")\n",
        "        # for each combination of k number of features\n",
        "        for combo in itertools.combinations(X.columns, k):\n",
        "            model_features = list(combo)\n",
        "            X_subset = X[model_features]\n",
        "            # Add a constant for the intercept term\n",
        "            X_subset = sm.add_constant(X_subset)\n",
        "            # initialize empty array to store mse for each fold\n",
        "            mse_folds = []\n",
        "            # for each fold fit the model\n",
        "            for train_idx, validation_idx in kf.split(X_subset):\n",
        "                X_train, X_validation = X_subset.iloc[train_idx], X_subset.iloc[validation_idx]\n",
        "                y_train, y_validation = y.iloc[train_idx], y.iloc[validation_idx]\n",
        "                model = sm.OLS(y_train, X_train).fit()\n",
        "                y_pred = model.predict(X_validation)\n",
        "                RSE, R2, MSE = calculate_metrics(y_validation, y_pred, X[model_features])\n",
        "                mse_folds.append(MSE)\n",
        "            # estimate test error using the mean of MSE in all folds\n",
        "            test_error_estimated = sum(mse_folds) / len(mse_folds)\n",
        "            # if the estimation of the test error is reduced, save metrics and model\n",
        "            if test_error_estimated < best_metrics[\"MSE\"]:\n",
        "                best_metrics[\"RSE\"] = RSE\n",
        "                best_metrics[\"R2\"] = R2\n",
        "                best_metrics[\"MSE\"] = test_error_estimated\n",
        "                best_models = model_features\n",
        "            # save number of features and estimated test error for plotting\n",
        "            all_models.append([len(list(combo)), test_error_estimated])\n",
        "\n",
        "    return best_models, best_metrics, all_models\n",
        "\n",
        "\n",
        "# Step 5: Calculate and display statistics for each model\n",
        "best_features, best_metrics, all_models = best_subset_selection(X, y, 'sales_amount')\n",
        "\n",
        "print(\"-------------------\")\n",
        "print(\"Finished!\")\n",
        "print(\"Features with best model:\", best_features)\n",
        "print(\"RSE:\", best_metrics[\"RSE\"])\n",
        "print(\"R2:\", best_metrics[\"R2\"])\n",
        "print(\"MSE:\", best_metrics[\"MSE\"])"
      ]
    },
    {
      "cell_type": "code",
      "source": [
        "import matplotlib.pyplot as plt\n",
        "import seaborn as sns\n",
        "from scipy.stats import pearsonr\n",
        "\n",
        "# Define the variables\n",
        "competitor_distance = merged_df['competitor_distance']\n",
        "sales_amount = merged_df['sales_amount']\n",
        "\n",
        "# Visualize the relationship with a scatter plot\n",
        "plt.figure(figsize=(10, 6))\n",
        "sns.scatterplot(x=competitor_distance, y=sales_amount)\n",
        "plt.xlabel('Competitor Distance')\n",
        "plt.ylabel('Sales Amount')\n",
        "plt.title('Relationship between Competitor Distance and Sales Amount')\n",
        "plt.show()\n",
        "\n",
        "# Check correlation and p-value\n",
        "correlation, p_value = pearsonr(competitor_distance, sales_amount)\n",
        "print(f'Correlation: {correlation}')\n",
        "print(f'P-value: {p_value}')\n",
        "\n",
        "\n"
      ],
      "metadata": {
        "colab": {
          "base_uri": "https://localhost:8080/"
        },
        "id": "v5Z__K6E5eDB",
        "outputId": "e92260c9-dfb9-4da8-bcaf-cded82b611b6"
      },
      "execution_count": null,
      "outputs": [
        {
          "output_type": "display_data",
          "data": {
            "text/plain": [
              "<Figure size 1000x600 with 1 Axes>"
            ],
            "image/png": "[encoded data removed]"
          },
          "metadata": {}
        },
        {
          "output_type": "stream",
          "name": "stdout",
          "text": [
            "Correlation: -0.030666071678304027\n",
            "P-value: 0.40168178942126403\n"
          ]
        }
      ]
    },
    {
      "cell_type": "markdown",
      "metadata": {
        "id": "elAz7WESvwiS"
      },
      "source": [
        "\n",
        "1) The MSE has grown from 9127537338107.832 to 9286147917750.744.even I checked with k=10 and the accuracy and parameters didnot changed but when k=2 the accuracy increased and paramaters were 4."
      ]
    },
    {
      "cell_type": "code",
      "execution_count": null,
      "metadata": {
        "colab": {
          "base_uri": "https://localhost:8080/"
        },
        "id": "Fz_szywEwVtR",
        "outputId": "32ea2179-902a-4d17-dc2f-90cca773d89c"
      },
      "outputs": [
        {
          "output_type": "execute_result",
          "data": {
            "text/plain": [
              "<matplotlib.collections.PathCollection at 0x79bb018d9480>"
            ]
          },
          "metadata": {},
          "execution_count": 39
        },
        {
          "output_type": "display_data",
          "data": {
            "text/plain": [
              "<Figure size 640x480 with 1 Axes>"
            ],
            "image/png": "[encoded data removed]"
          },
          "metadata": {}
        }
      ],
      "source": [
        "import matplotlib.pyplot as plt\n",
        "\n",
        "fig, ax = plt.subplots(ncols=1, nrows=1)\n",
        "plt.scatter([elem[0] for elem in all_models], [elem[1] for elem in all_models])"
      ]
    },
    {
      "cell_type": "markdown",
      "source": [
        "in this plot shows after k=5 the mse will not change very much."
      ],
      "metadata": {
        "id": "dzXsORie5TaL"
      }
    },
    {
      "cell_type": "markdown",
      "source": [
        "i use best feathure method and select parameters.from six parameters this method consider only five parameter and the competitor_distance parameters will remove."
      ],
      "metadata": {
        "id": "6A-oy5Bykm1c"
      }
    },
    {
      "cell_type": "markdown",
      "source": [
        "# standarize all parameters"
      ],
      "metadata": {
        "id": "FUhqcT2lK9Sd"
      }
    },
    {
      "cell_type": "code",
      "source": [
        "from sklearn.linear_model import Ridge\n",
        "from sklearn.preprocessing import StandardScaler\n",
        "import numpy as np\n",
        "# Columns to standardize\n",
        "columns_to_standardize = ['country', 'has_promotions', 'avg_customers', 'square_feet', 'competitor_distance', 'market_type']\n",
        "\n",
        "# Extract the columns you want to standardize\n",
        "X_subset = merged_df[columns_to_standardize]\n",
        "# Standardize features by removing the mean and scaling to unit variance\n",
        "scaler = StandardScaler()\n",
        "X_scaled = scaler.fit_transform(X_subset)\n",
        "X_scaled = pd.DataFrame(X_scaled, columns=X_subset.columns)\n",
        "# check if features have been standardized\n",
        "for col in X_scaled.columns:\n",
        "    print(f\"The column {col} has mean {round(X_scaled[col].mean(), 2)} and variance {round(X_scaled[col].var(), 2)}\")"
      ],
      "metadata": {
        "colab": {
          "base_uri": "https://localhost:8080/"
        },
        "id": "dgaa7WqALwNF",
        "outputId": "90e7d1dd-c8f0-4432-c5bb-44c2fc5f996d"
      },
      "execution_count": null,
      "outputs": [
        {
          "output_type": "stream",
          "name": "stdout",
          "text": [
            "The column country has mean -0.0 and variance 1.0\n",
            "The column has_promotions has mean -0.0 and variance 1.0\n",
            "The column avg_customers has mean 0.0 and variance 1.0\n",
            "The column square_feet has mean 0.0 and variance 1.0\n",
            "The column competitor_distance has mean -0.0 and variance 1.0\n",
            "The column market_type has mean -0.0 and variance 1.0\n"
          ]
        }
      ]
    },
    {
      "cell_type": "markdown",
      "source": [
        "#**Dimension Reduction Methods**"
      ],
      "metadata": {
        "id": "njAIVOpgNckB"
      }
    },
    {
      "cell_type": "markdown",
      "source": [
        " The goal of PCA is to develop a methodology to reduce the\n",
        "dimensionality of the dataset by computing linear combinations of\n",
        "the variables.t transforms the original features into a new set of uncorrelated variables (principal components) that capture the maximum variance in the data."
      ],
      "metadata": {
        "id": "4NrA9PjRNz_7"
      }
    },
    {
      "cell_type": "code",
      "source": [
        "from sklearn.decomposition import PCA\n",
        "from sklearn.model_selection import train_test_split\n",
        "from sklearn.linear_model import LinearRegression\n",
        "from sklearn.metrics import mean_squared_error, r2_score\n",
        "import matplotlib.pyplot as plt\n",
        "\n",
        "# Assuming 'merged_df' is your DataFrame with predictors and target\n",
        "X = merged_df[['market_type', 'square_feet', 'avg_customers', 'country', 'competitor_distance', 'has_promotions']]  # Include selected features\n",
        "y = merged_df['sales_amount']\n",
        "\n",
        "# Standardize the features if needed\n",
        "# ...\n",
        "\n",
        "# Split the data into training and testing sets\n",
        "X_train, X_test, y_train, y_test = train_test_split(X, y, test_size=0.2, random_state=999)\n",
        "\n",
        "# Initialize PCA with the desired number of components\n",
        "num_components = 6  # You can choose the number of components based on your analysis goals\n",
        "pca = PCA(n_components=num_components)\n",
        "\n",
        "# Fit and transform the features using PCA\n",
        "X_train_pca = pca.fit_transform(X_train)\n",
        "X_test_pca = pca.transform(X_test)\n",
        "\n",
        "# Fit a linear regression model on the transformed features\n",
        "linear_model = LinearRegression()\n",
        "linear_model.fit(X_train_pca, y_train)\n",
        "\n",
        "# Predict on the test set\n",
        "y_pred = linear_model.predict(X_test_pca)\n",
        "y_train_pred = linear_model.predict(X_train_pca)\n",
        "\n",
        "# Calculate MSE, R2, and RSS for the test set\n",
        "mse_test = mean_squared_error(y_test, y_pred)\n",
        "r2_test = r2_score(y_test, y_pred)\n",
        "rss_test = sum((y_test - y_pred) ** 2)\n",
        "\n",
        "# Calculate MSE, R2, and RSS for the training set\n",
        "mse_train = mean_squared_error(y_train, y_train_pred)\n",
        "r2_train = r2_score(y_train, y_train_pred)\n",
        "rss_train = sum((y_train - y_train_pred) ** 2)\n",
        "\n",
        "# Print evaluation metrics\n",
        "print(f\"Test MSE: {mse_test}\")\n",
        "print(f\"Test R2 Score: {r2_test}\")\n",
        "print(f\"Test RSS: {rss_test}\")\n",
        "\n",
        "print(f\"Train MSE: {mse_train}\")\n",
        "print(f\"Train R2 Score: {r2_train}\")\n",
        "print(f\"Train RSS: {rss_train}\")\n",
        "\n",
        "# Plot the cumulative explained variance from PCA\n",
        "explained_variance_ratio = pca.explained_variance_ratio_\n",
        "cumulative_explained_variance = explained_variance_ratio.cumsum()\n",
        "\n",
        "# Plot the cumulative explained variance\n",
        "plt.plot(range(1, len(cumulative_explained_variance) + 1), cumulative_explained_variance, marker='o')\n",
        "plt.xlabel('Number of Principal Components')\n",
        "plt.ylabel('Cumulative Explained Variance')\n",
        "plt.title('Cumulative Explained Variance vs. Number of Principal Components')\n",
        "plt.show()\n"
      ],
      "metadata": {
        "colab": {
          "base_uri": "https://localhost:8080/"
        },
        "id": "gjUl3ks1vWvQ",
        "outputId": "f9cbd4ce-e0ac-4cb4-e5e5-c0fea17edc87"
      },
      "execution_count": null,
      "outputs": [
        {
          "output_type": "stream",
          "name": "stdout",
          "text": [
            "Test MSE: 8184732183891.896\n",
            "Test R2 Score: 0.8796701368116915\n",
            "Test RSS: 1227709827583785.0\n",
            "Train MSE: 9255741134562.123\n",
            "Train R2 Score: 0.8944933918526963\n",
            "Train RSS: 5553444680737280.0\n"
          ]
        },
        {
          "output_type": "display_data",
          "data": {
            "text/plain": [
              "<Figure size 640x480 with 1 Axes>"
            ],
            "image/png": "[encoded data removed]"
          },
          "metadata": {}
        }
      ]
    },
    {
      "cell_type": "markdown",
      "source": [
        "for finding which parameters are importent for me. at first i want to see cumulative variance for every component in a plot."
      ],
      "metadata": {
        "id": "MQOn6Osk9Pes"
      }
    },
    {
      "cell_type": "code",
      "source": [
        "from sklearn.decomposition import PCA\n",
        "import matplotlib.pyplot as plt\n",
        "\n",
        "# Assuming X_scaled is the standardized features from your previous code\n",
        "\n",
        "# Initialize PCA with the desired number of components\n",
        "pca = PCA(n_components=6)  # You can choose the number of components based on your analysis goals\n",
        "\n",
        "# Fit and transform the standardized features\n",
        "X_pca = pca.fit_transform(X_subset)\n",
        "\n",
        "# Check the explained variance ratio\n",
        "explained_variance_ratio = pca.explained_variance_ratio_\n",
        "cumulative_explained_variance = explained_variance_ratio.cumsum()\n",
        "\n",
        "# Print the explained variance ratios\n",
        "for i, ratio in enumerate(explained_variance_ratio):\n",
        "    print(f\"Explained Variance Ratio for PC{i + 1}: {ratio:.4f}\")\n",
        "\n",
        "# Plot the cumulative explained variance\n",
        "plt.plot(range(1, len(cumulative_explained_variance) + 1), cumulative_explained_variance, marker='o')\n",
        "plt.xlabel('Number of Principal Components')\n",
        "plt.ylabel('Cumulative Explained Variance')\n",
        "plt.title('Cumulative Explained Variance vs. Number of Principal Components')\n",
        "plt.show()\n"
      ],
      "metadata": {
        "colab": {
          "base_uri": "https://localhost:8080/"
        },
        "id": "GO6JC4VquyWk",
        "outputId": "0fa55314-f2b5-4aab-833b-ae7fa7b5745e"
      },
      "execution_count": null,
      "outputs": [
        {
          "output_type": "stream",
          "name": "stdout",
          "text": [
            "Explained Variance Ratio for PC1: 0.8467\n",
            "Explained Variance Ratio for PC2: 0.1532\n",
            "Explained Variance Ratio for PC3: 0.0001\n",
            "Explained Variance Ratio for PC4: 0.0000\n",
            "Explained Variance Ratio for PC5: 0.0000\n",
            "Explained Variance Ratio for PC6: 0.0000\n"
          ]
        },
        {
          "output_type": "display_data",
          "data": {
            "text/plain": [
              "<Figure size 640x480 with 1 Axes>"
            ],
            "image/png": "[encoded data removed]"
          },
          "metadata": {}
        }
      ]
    },
    {
      "cell_type": "markdown",
      "source": [
        "i wanted to consider the highest variance because i donot take a risk and miss my information so the best component can be 4."
      ],
      "metadata": {
        "id": "W6IT1JRJ-f_q"
      }
    },
    {
      "cell_type": "code",
      "source": [
        "# Determine the number of components to keep (e.g., keeping 95% of the variance)\n",
        "desired_variance_retained = 0.95\n",
        "num_components_to_keep = (cumulative_explained_variance < desired_variance_retained).sum() + 1\n",
        "\n",
        "# Print the selected number of components\n",
        "print(f\"Number of components selected to retain {desired_variance_retained * 100}% of the variance: {num_components_to_keep}\")\n"
      ],
      "metadata": {
        "colab": {
          "base_uri": "https://localhost:8080/"
        },
        "id": "KMKGu4-9wzsj",
        "outputId": "41994ebc-2cfa-4757-f0ae-d074a8c65093"
      },
      "execution_count": null,
      "outputs": [
        {
          "output_type": "stream",
          "name": "stdout",
          "text": [
            "Number of components selected to retain 95.0% of the variance: 2\n"
          ]
        }
      ]
    },
    {
      "cell_type": "code",
      "source": [
        "from sklearn.decomposition import PCA\n",
        "\n",
        "# Assuming X_scaled is the standardized features\n",
        "\n",
        "# Set the number of components you've selected based on your desired variance\n",
        "num_selected_components = 4\n",
        "\n",
        "# Initialize PCA with the selected number of components\n",
        "pca = PCA(n_components=num_selected_components)\n",
        "X_pca = pca.fit_transform(X_scaled)\n",
        "\n",
        "# Get the loadings of each feature on the principal components\n",
        "loadings = pca.components_\n",
        "\n",
        "# Create a DataFrame to display the loadings\n",
        "loadings_df = pd.DataFrame(loadings)\n",
        "\n",
        "# Set the column names to the feature names\n",
        "loadings_df.columns = X_scaled.columns\n",
        "\n",
        "# Print the loadings for each feature on each principal component\n",
        "for i in range(num_selected_components):\n",
        "    print(f\"Loadings for Principal Component {i + 1}:\")\n",
        "    print(loadings_df.iloc[i, :].sort_values(ascending=False))\n",
        "    print(\"\\n\")\n",
        "\n"
      ],
      "metadata": {
        "colab": {
          "base_uri": "https://localhost:8080/"
        },
        "id": "hbO_ijiRzaGX",
        "outputId": "efa6ad70-2a7d-452b-ba02-69b5601f754b"
      },
      "execution_count": null,
      "outputs": [
        {
          "output_type": "stream",
          "name": "stdout",
          "text": [
            "Loadings for Principal Component 1:\n",
            "market_type            0.577755\n",
            "square_feet            0.572807\n",
            "avg_customers          0.566196\n",
            "has_promotions         0.047915\n",
            "competitor_distance   -0.007463\n",
            "country               -0.123132\n",
            "Name: 0, dtype: float64\n",
            "\n",
            "\n",
            "Loadings for Principal Component 2:\n",
            "avg_customers         -0.016425\n",
            "square_feet           -0.017340\n",
            "market_type           -0.040870\n",
            "country               -0.522460\n",
            "has_promotions        -0.549685\n",
            "competitor_distance   -0.650108\n",
            "Name: 1, dtype: float64\n",
            "\n",
            "\n",
            "Loadings for Principal Component 3:\n",
            "competitor_distance    0.540094\n",
            "country                0.183613\n",
            "market_type            0.041484\n",
            "avg_customers          0.039187\n",
            "square_feet            0.034407\n",
            "has_promotions        -0.818624\n",
            "Name: 2, dtype: float64\n",
            "\n",
            "\n",
            "Loadings for Principal Component 4:\n",
            "competitor_distance    0.534128\n",
            "has_promotions         0.159233\n",
            "avg_customers         -0.043451\n",
            "market_type           -0.065582\n",
            "square_feet           -0.074220\n",
            "country               -0.823198\n",
            "Name: 3, dtype: float64\n",
            "\n",
            "\n"
          ]
        }
      ]
    },
    {
      "cell_type": "markdown",
      "source": [
        "In this code,  each row represents a principal component, and each column represents a feature.  Higher absolute values suggest a stronger relationship between the feature and the principal component.in the next code in every principle we choose the parameters which has the highest amount in every principle and we select the best parameters."
      ],
      "metadata": {
        "id": "JgEN_W7__kp7"
      }
    },
    {
      "cell_type": "code",
      "source": [
        "# Select the feature with the highest absolute loading for each principal component\n",
        "selected_features = []\n",
        "\n",
        "for i in range(num_selected_components):\n",
        "    feature_with_highest_loading = loadings_df.iloc[i, :].abs().idxmax()\n",
        "    selected_features.append(feature_with_highest_loading)\n",
        "\n",
        "print(\"Selected Features:\")\n",
        "print(selected_features)\n",
        "\n"
      ],
      "metadata": {
        "colab": {
          "base_uri": "https://localhost:8080/"
        },
        "id": "AqPC4oO_0DuR",
        "outputId": "579424e3-678e-49f9-8809-e972327e1397"
      },
      "execution_count": null,
      "outputs": [
        {
          "output_type": "stream",
          "name": "stdout",
          "text": [
            "Selected Features:\n",
            "['market_type', 'competitor_distance', 'has_promotions', 'country']\n"
          ]
        }
      ]
    },
    {
      "cell_type": "markdown",
      "source": [
        "#answer to last part in objective one"
      ],
      "metadata": {
        "id": "87wGUd93wv1o"
      }
    },
    {
      "cell_type": "markdown",
      "source": [
        "**training with all parametors**:\n",
        "\n",
        "Train MSE: 9127537338107.832\n",
        "\n",
        "Train R2 Score: 0.8914752821316347\n",
        "\n",
        "Train RSS: 6708739943509254.\n",
        "\n",
        "trianing with feature selection :\n",
        "\n",
        "RSE: 2573036.2547786967\n",
        "\n",
        "R2: 0.8852299341375856\n",
        "\n",
        "MSE: 9286147917750.754\n",
        "\n",
        "when we compare MSE,R SQUARE and RSE for all parameters to feature selection ( suggest to remove competitor_distance). In all predictors has a lower Train MSE and a higher R2, it implies that the model including all predictors performs better on the training data.\n",
        "\n",
        "trainging with dimension reduction methods\n",
        "\n",
        "Train MSE: 9255741134562.123\n",
        "Train R2 Score: 0.8944933918526963\n",
        "Train RSS: 5553444680737280.0\n",
        "\n",
        "Based on the training performance metrics, the model with the reduction method (PCA) seems to perform better. It has a higher R2 score and a lower RSS, suggesting better goodness of fit and a better overall fit to the training data.in this method avg_customers removed but it has high correlation with other parametrs.\n",
        "\n",
        "i want to check with reduction dimenssion method\n",
        "\n",
        "\n"
      ],
      "metadata": {
        "id": "wUu-NEOHxAY1"
      }
    },
    {
      "cell_type": "markdown",
      "source": [
        "##  **objective two**"
      ],
      "metadata": {
        "id": "AlS5Yc0N8Ndc"
      }
    },
    {
      "cell_type": "markdown",
      "source": [
        "My outcome is numerical(sales_amount). I use different model for finding the best model and then I test my value in model which I had choosed to find the best option for every type of market. Models which I like to check inclouding: linear regression,shrinking method,polynomial regression,PCAregression,Generalized addictive models,decision tree and pruning ,randomforest,Gradientboosting regression. I calulate the MSE of them and choose the model which has the less value.before useing this model I use parameters which are selected by best features technique from feature selection method then I standardize the values.and I use k-fold validation ."
      ],
      "metadata": {
        "id": "EvNzD0N6Y8r9"
      }
    },
    {
      "cell_type": "markdown",
      "source": [
        "i standarsize my selected parameters"
      ],
      "metadata": {
        "id": "Ctm9jqwgFDsM"
      }
    },
    {
      "cell_type": "markdown",
      "source": [
        "#**linear regression model**"
      ],
      "metadata": {
        "id": "IScABs0FfWcd"
      }
    },
    {
      "cell_type": "code",
      "source": [
        "import pandas as pd\n",
        "import statsmodels.api as sm\n",
        "from sklearn.model_selection import train_test_split\n",
        "from sklearn.linear_model import LinearRegression\n",
        "from sklearn.metrics import mean_squared_error, r2_score\n",
        "\n",
        "# Assuming 'merged_df' is your DataFrame with predictors and target\n",
        "X = merged_df[['market_type', 'square_feet', 'avg_customers', 'country', 'has_promotions']]  # Include selected features\n",
        "y = merged_df['sales_amount']\n",
        "\n",
        "# Split the data into training and testing sets\n",
        "X_train, X_test, y_train, y_test = train_test_split(X, y, test_size=0.02, random_state=999)\n",
        "\n",
        "# Fit a linear regression model using sklearn\n",
        "linear_model = LinearRegression()\n",
        "linear_model.fit(X_train, y_train)\n",
        "\n",
        "# Get coefficient estimates\n",
        "coefficients = linear_model.coef_\n",
        "\n",
        "# Create a dataframe with all coefficients and stats of interest using statsmodels\n",
        "X_train_sm = sm.add_constant(X_train)  # add a constant term to the predictors\n",
        "model = sm.OLS(y_train, X_train_sm).fit()\n",
        "\n",
        "# Print OLS summary\n",
        "print(model.summary())\n"
      ],
      "metadata": {
        "colab": {
          "base_uri": "https://localhost:8080/"
        },
        "id": "9KH0UoXiHtE0",
        "outputId": "ac1da4ea-2631-4b94-cece-fc0fa2d24ee8"
      },
      "execution_count": null,
      "outputs": [
        {
          "output_type": "stream",
          "name": "stdout",
          "text": [
            "                            OLS Regression Results                            \n",
            "==============================================================================\n",
            "Dep. Variable:           sales_amount   R-squared:                       0.891\n",
            "Model:                            OLS   Adj. R-squared:                  0.890\n",
            "Method:                 Least Squares   F-statistic:                     1191.\n",
            "Date:                Tue, 19 Dec 2023   Prob (F-statistic):               0.00\n",
            "Time:                        15:28:07   Log-Likelihood:                -12012.\n",
            "No. Observations:                 735   AIC:                         2.404e+04\n",
            "Df Residuals:                     729   BIC:                         2.406e+04\n",
            "Df Model:                           5                                         \n",
            "Covariance Type:            nonrobust                                         \n",
            "==================================================================================\n",
            "                     coef    std err          t      P>|t|      [0.025      0.975]\n",
            "----------------------------------------------------------------------------------\n",
            "const           1.148e+06   1.57e+06      0.730      0.465   -1.94e+06    4.23e+06\n",
            "market_type     2.764e+06   5.65e+05      4.893      0.000    1.65e+06    3.87e+06\n",
            "square_feet     1194.0181     99.915     11.950      0.000     997.863    1390.173\n",
            "avg_customers   1.567e+04   1526.547     10.266      0.000    1.27e+04    1.87e+04\n",
            "country         3.355e+05   1.39e+05      2.411      0.016    6.23e+04    6.09e+05\n",
            "has_promotions  -9.99e+05   1.53e+06     -0.653      0.514      -4e+06       2e+06\n",
            "==============================================================================\n",
            "Omnibus:                       32.505   Durbin-Watson:                   2.101\n",
            "Prob(Omnibus):                  0.000   Jarque-Bera (JB):               94.952\n",
            "Skew:                          -0.024   Prob(JB):                     2.41e-21\n",
            "Kurtosis:                       4.760   Cond. No.                     1.12e+05\n",
            "==============================================================================\n",
            "\n",
            "Notes:\n",
            "[1] Standard Errors assume that the covariance matrix of the errors is correctly specified.\n",
            "[2] The condition number is large, 1.12e+05. This might indicate that there are\n",
            "strong multicollinearity or other numerical problems.\n"
          ]
        }
      ]
    },
    {
      "cell_type": "markdown",
      "source": [
        "#ridge model"
      ],
      "metadata": {
        "id": "2V3Ctu6aipSc"
      }
    },
    {
      "cell_type": "code",
      "execution_count": null,
      "metadata": {
        "colab": {
          "base_uri": "https://localhost:8080/",
          "height": 482
        },
        "id": "VHW3YTp5ywKg",
        "outputId": "e81f4bcb-bc47-4043-be5d-75deabd8bcca"
      },
      "outputs": [
        {
          "output_type": "execute_result",
          "data": {
            "text/plain": [
              "Text(0, 9287076532542.52, 'Best OLS estimation')"
            ]
          },
          "metadata": {},
          "execution_count": 72
        },
        {
          "output_type": "display_data",
          "data": {
            "text/plain": [
              "<Figure size 640x480 with 1 Axes>"
            ],
            "image/png": "[encoded data removed]"
          },
          "metadata": {}
        }
      ],
      "source": [
        "# save test error and lambda values\n",
        "results_ridge = []\n",
        "best_lmbd_ridge = {\"MSE\": float(\"inf\"), \"lmbd\": float(\"inf\")}\n",
        "\n",
        "# iterate over different values of lambda\n",
        "for lmbd in np.linspace(0.0001, 20, 100):\n",
        "    # initialize empty array to store mse for each fold\n",
        "    mse_folds = []\n",
        "    # for each fold fit the model\n",
        "    for train_idx, validation_idx in kf.split(X_scaled):\n",
        "        X_train, X_validation = X_scaled.iloc[train_idx], X_scaled.iloc[validation_idx]\n",
        "        y_train, y_validation = y.iloc[train_idx], y.iloc[validation_idx]\n",
        "        model = Ridge(alpha=lmbd).fit(X_train, y_train)\n",
        "        y_pred = model.predict(X_validation)\n",
        "        RSE, R2, MSE = calculate_metrics(y_validation, y_pred, X_subset)\n",
        "        mse_folds.append(MSE)\n",
        "    # estimate test error using the mean of MSE in all folds\n",
        "    test_error_estimated = sum(mse_folds) / len(mse_folds)\n",
        "    # append\n",
        "    results_ridge.append([test_error_estimated, lmbd])\n",
        "    # check if model improved\n",
        "    if test_error_estimated < best_lmbd_ridge[\"MSE\"]:\n",
        "        best_lmbd_ridge[\"MSE\"] = test_error_estimated\n",
        "        best_lmbd_ridge[\"lmbd\"] = lmbd\n",
        "\n",
        "# plot estimated test MSE for each value of lambda\n",
        "fig, ax = plt.subplots(ncols=1, nrows=1)\n",
        "plt.plot([elem[1] for elem in results_ridge], [elem[0] for elem in results_ridge])\n",
        "plt.xlabel(\"Lambda\")\n",
        "plt.ylabel(\"Estimated test error MSE\")\n",
        "plt.axhline(best_metrics[\"MSE\"], color=\"red\")\n",
        "plt.text(0, best_metrics[\"MSE\"] * 1.0001, \"Best OLS estimation\", color=\"red\") # * 1.0001 is used to place the text a bit above best_metrics[\"MSE\"]"
      ]
    },
    {
      "cell_type": "markdown",
      "source": [
        "#compare ridge and ols"
      ],
      "metadata": {
        "id": "QmDTI4A1mgrj"
      }
    },
    {
      "cell_type": "code",
      "source": [
        "# compare min using Ridge and OL\n",
        "min_ridge_test_error_estimated = min([elem[0] for elem in results_ridge])\n",
        "\n",
        "print(f\"Using OLS, the best model has an estimated test MSE of {round(best_metrics['MSE'], 2)}\")\n",
        "print(f\"Using Ridge, the best model has an estimated test MSE of {round(min_ridge_test_error_estimated, 2)} using a value of lambda = {round(best_lmbd_ridge['lmbd'], 2)}\")"
      ],
      "metadata": {
        "colab": {
          "base_uri": "https://localhost:8080/"
        },
        "id": "S7VQJxn0kTVL",
        "outputId": "283479b5-e442-4626-9374-c1b65f261200"
      },
      "execution_count": null,
      "outputs": [
        {
          "output_type": "stream",
          "name": "stdout",
          "text": [
            "Using OLS, the best model has an estimated test MSE of 9286147917750.74\n",
            "Using Ridge, the best model has an estimated test MSE of 9311816857377.91 using a value of lambda = 14.75\n"
          ]
        }
      ]
    },
    {
      "cell_type": "markdown",
      "source": [
        "\n",
        "we compare  the MSE of OLS which is made by the best feathure subset to the MSE of ridge model. the mse in ridge is a bit less because we use  regularization (via Ridge)."
      ],
      "metadata": {
        "id": "LV-8FlqAvC31"
      }
    },
    {
      "cell_type": "markdown",
      "source": [
        "#**lasso model**"
      ],
      "metadata": {
        "id": "_0zb64bWlGds"
      }
    },
    {
      "cell_type": "code",
      "source": [
        "\n",
        "# Lasso\n",
        "import numpy as np\n",
        "from sklearn.linear_model import Lasso\n",
        "from sklearn.model_selection import KFold\n",
        "import matplotlib.pyplot as plt\n",
        "results_lasso = []\n",
        "best_lmbd_lasso = {\"MSE\": float(\"inf\"), \"lmbd\": float(\"inf\")}\n",
        "\n",
        "# iterate over different values of lambda for Lasso\n",
        "for lmbd in np.linspace(0.0001, 0.05, 100):\n",
        "    # initialize empty array to store mse for each fold\n",
        "    mse_folds = []\n",
        "    # for each fold fit the model\n",
        "    for train_idx, validation_idx in kf.split(X_scaled):\n",
        "        X_train, X_validation = X_scaled.iloc[train_idx], X_scaled.iloc[validation_idx]\n",
        "        y_train, y_validation = y.iloc[train_idx], y.iloc[validation_idx]\n",
        "        model = Lasso(alpha=lmbd).fit(X_train, y_train)\n",
        "        y_pred = model.predict(X_validation)\n",
        "        MSE = ((y_validation - y_pred) ** 2).mean()  # Calculate MSE\n",
        "        mse_folds.append(MSE)\n",
        "    # estimate test error using the mean of MSE in all folds\n",
        "    test_error_estimated = np.mean(mse_folds)\n",
        "    # append\n",
        "    results_lasso.append([test_error_estimated, lmbd])\n",
        "    # check if model improved\n",
        "    if test_error_estimated < best_lmbd_lasso[\"MSE\"]:\n",
        "        best_lmbd_lasso[\"MSE\"] = test_error_estimated\n",
        "        best_lmbd_lasso[\"lmbd\"] = lmbd\n",
        "\n",
        "\n",
        "min_lasso_test_error_estimated = min([elem[0] for elem in results_lasso])\n",
        "\n",
        "print(f\"Using OLS, the best model has an estimated test MSE of {round(best_metrics['MSE'], 2)}\")\n",
        "print(f\"Using Ridge, the best model has an estimated test MSE of {round(min_ridge_test_error_estimated, 2)} using a value of lambda = {round(best_lmbd_ridge['lmbd'], 2)}\")\n",
        "print(f\"Using Lasso, the best model has an estimated test MSE of {round(min_lasso_test_error_estimated, 2)} using a value of lambda = {round(best_lmbd_lasso['lmbd'], 2)}\")\n",
        "\n",
        "\n",
        "\n",
        "\n",
        "\n"
      ],
      "metadata": {
        "colab": {
          "base_uri": "https://localhost:8080/"
        },
        "id": "iFLW6mkILvmZ",
        "outputId": "8bb26329-9b88-4889-9279-db0728cea850"
      },
      "execution_count": null,
      "outputs": [
        {
          "output_type": "stream",
          "name": "stdout",
          "text": [
            "Using OLS, the best model has an estimated test MSE of 9286147917750.74\n",
            "Using Ridge, the best model has an estimated test MSE of 9311816857377.91 using a value of lambda = 14.75\n",
            "Using Lasso, the best model has an estimated test MSE of 9331169033397.9 using a value of lambda = 0.0\n"
          ]
        }
      ]
    },
    {
      "cell_type": "markdown",
      "source": [
        "#dimension reduction method"
      ],
      "metadata": {
        "id": "zyL1jciollbA"
      }
    },
    {
      "cell_type": "code",
      "source": [
        "from sklearn.decomposition import PCA\n",
        "import statsmodels.api as sm\n",
        "import pandas as pd\n",
        "import matplotlib.pyplot as plt\n",
        "\n",
        "# Assuming X_scaled, y, kf, and calculate_metrics are defined\n",
        "\n",
        "# Save test error and n_components\n",
        "results_pca = []\n",
        "best_components_pca = {\"MSE\": float(\"inf\"), \"n_components\": float(\"inf\")}\n",
        "\n",
        "# Iterate over different values of n_components\n",
        "for n_components in range(1, len(X_scaled.columns) + 1):\n",
        "    # Transform using n_components for PCA\n",
        "    pca = PCA(n_components=n_components)\n",
        "    X_pca = pca.fit_transform(X_scaled)\n",
        "    X_pca = pd.DataFrame(X_pca)\n",
        "\n",
        "    # Add a constant for the intercept term\n",
        "    X_pca = sm.add_constant(X_pca)\n",
        "\n",
        "    # Initialize empty array to store MSE for each fold\n",
        "    mse_folds = []\n",
        "\n",
        "    # For each fold, fit the model\n",
        "    for train_idx, validation_idx in kf.split(X_pca):\n",
        "        X_train, X_validation = X_pca.iloc[train_idx], X_pca.iloc[validation_idx]\n",
        "        y_train, y_validation = y.iloc[train_idx], y.iloc[validation_idx]\n",
        "        model = sm.OLS(y_train, X_train).fit()\n",
        "        y_pred = model.predict(X_validation)\n",
        "        RSE, R2, MSE = calculate_metrics(y_validation, y_pred, X_subset)\n",
        "        mse_folds.append(MSE)\n",
        "\n",
        "    # Estimate test error using the mean of MSE in all folds\n",
        "    test_error_estimated = sum(mse_folds) / len(mse_folds)\n",
        "\n",
        "    # Append to results\n",
        "    results_pca.append([test_error_estimated, n_components])\n",
        "\n",
        "    # Check if the model improved\n",
        "    if test_error_estimated < best_components_pca[\"MSE\"]:\n",
        "        best_components_pca[\"MSE\"] = test_error_estimated\n",
        "        best_components_pca[\"n_components\"] = n_components\n",
        "\n",
        "# Plot estimated test MSE for each value of n_components\n",
        "fig, ax = plt.subplots(ncols=1, nrows=1)\n",
        "plt.plot([elem[1] for elem in results_pca], [elem[0] for elem in results_pca])\n",
        "plt.xlabel(\"N. components\")\n",
        "plt.ylabel(\"Estimated test error MSE\")\n",
        "plt.axhline(best_components_pca[\"MSE\"], color=\"green\")\n",
        "plt.text(1, best_components_pca[\"MSE\"] * 1.02, \"Best estimation so far (PCA)\", color=\"green\")\n",
        "plt.show()\n"
      ],
      "metadata": {
        "colab": {
          "base_uri": "https://localhost:8080/",
          "height": 465
        },
        "id": "PvMubyQZo5kd",
        "outputId": "724c51fa-9923-4077-e857-af9cec68526a"
      },
      "execution_count": null,
      "outputs": [
        {
          "output_type": "display_data",
          "data": {
            "text/plain": [
              "<Figure size 640x480 with 1 Axes>"
            ],
            "image/png": "[encoded data removed]"
          },
          "metadata": {}
        }
      ]
    },
    {
      "cell_type": "code",
      "source": [
        "pca = PCA(n_components=len(X_scaled.columns))\n",
        "X_pca = pca.fit_transform(X_scaled)\n",
        "\n",
        "# Check the explained variance for each component\n",
        "explained_variance = pca.explained_variance_ratio_\n",
        "\n",
        "# Plot the explained variance\n",
        "plt.plot(range(1, len(explained_variance) + 1), np.cumsum(explained_variance))\n",
        "plt.xlabel('Number of Components')\n",
        "plt.ylabel('Cumulative Explained Variance')\n",
        "plt.show()\n"
      ],
      "metadata": {
        "colab": {
          "base_uri": "https://localhost:8080/",
          "height": 449
        },
        "id": "_T9BOhu_TZlA",
        "outputId": "5b185d59-340e-4393-da2b-5b34102de2ca"
      },
      "execution_count": null,
      "outputs": [
        {
          "output_type": "display_data",
          "data": {
            "text/plain": [
              "<Figure size 640x480 with 1 Axes>"
            ],
            "image/png": "[encoded data removed]"
          },
          "metadata": {}
        }
      ]
    },
    {
      "cell_type": "code",
      "source": [
        "# compare min using Lasso, Ridge and OLS\n",
        "min_pca_test_error_estimated = min([elem[0] for elem in results_lasso])\n",
        "\n",
        "print(f\"Using PCA, the best model has an estimated test MSE of {round(min_pca_test_error_estimated, 2)} using a number of components = {round(best_components_pca['n_components'], 2)}\")"
      ],
      "metadata": {
        "colab": {
          "base_uri": "https://localhost:8080/"
        },
        "id": "SFr7nMEvXZSJ",
        "outputId": "2acb7066-11e8-4aa0-c180-9c712d50417f"
      },
      "execution_count": null,
      "outputs": [
        {
          "output_type": "stream",
          "name": "stdout",
          "text": [
            "Using PCA, the best model has an estimated test MSE of 9331169033397.9 using a number of components = 4\n"
          ]
        }
      ]
    },
    {
      "cell_type": "code",
      "execution_count": null,
      "metadata": {
        "colab": {
          "base_uri": "https://localhost:8080/"
        },
        "id": "QMQrPzMKz9wF",
        "outputId": "d734770c-5ff3-4083-c059-a2f0046b7906"
      },
      "outputs": [
        {
          "output_type": "stream",
          "name": "stdout",
          "text": [
            "Test MSE with PCA: 8167645457415.312\n"
          ]
        }
      ],
      "source": [
        "from sklearn.decomposition import PCA\n",
        "\n",
        "# Perform PCA\n",
        "pca = PCA()\n",
        "X_pca = pca.fit_transform(X)\n",
        "\n",
        "# Choose the number of components (you can adjust this based on explained variance)\n",
        "n_components = 4\n",
        "X_pca_selected = X_pca[:, :n_components]\n",
        "\n",
        "# Split between X_train, X_test, y_train, y_test\n",
        "X_train_pca, X_test_pca, y_train, y_test = train_test_split(X_pca_selected, y, test_size=0.2, random_state=999)\n",
        "\n",
        "# Fit least squares on PCA-transformed data\n",
        "model_pca = sm.OLS(y_train, sm.add_constant(X_train_pca)).fit()\n",
        "\n",
        "# Predict on the test set\n",
        "y_pred_pca = model_pca.predict(sm.add_constant(X_test_pca))\n",
        "\n",
        "# Calculate the test MSE\n",
        "test_mse_pca = mean_squared_error(y_test, y_pred_pca)\n",
        "print(f'Test MSE with PCA: {test_mse_pca}')\n"
      ]
    },
    {
      "cell_type": "code",
      "source": [
        "# compare min using Lasso, Ridge and OLS\n",
        "min_pca_test_error_estimated = min([elem[0] for elem in results_lasso])\n",
        "\n",
        "print(f\"Using PCA, the best model has an estimated test MSE of {round(min_pca_test_error_estimated, 2)} using a number of components = {round(best_components_pca['n_components'], 2)}\")"
      ],
      "metadata": {
        "colab": {
          "base_uri": "https://localhost:8080/"
        },
        "id": "AKQ6PxripHJD",
        "outputId": "7bcee023-abd0-421d-93f2-54699473a727"
      },
      "execution_count": null,
      "outputs": [
        {
          "output_type": "stream",
          "name": "stdout",
          "text": [
            "Using PCA, the best model has an estimated test MSE of 9331169033397.9 using a number of components = 4\n"
          ]
        }
      ]
    },
    {
      "cell_type": "code",
      "source": [
        "# finally, let's see PLS\n",
        "from sklearn.cross_decomposition  import PLSRegression\n",
        "\n",
        "# save test error and n_components\n",
        "results_pls = []\n",
        "best_components_pls = {\"MSE\": float(\"inf\"), \"n_components\": float(\"inf\")}\n",
        "\n",
        "# iterate over different values of lambda\n",
        "for n_components in range(1, len(X_scaled.columns) + 1):\n",
        "    # transform using n_components for PLS\n",
        "    pls = PLSRegression(n_components = n_components)\n",
        "\n",
        "    # Note that for PLS the syntax is a bit different from the previous models\n",
        "\n",
        "    # initialize empty array to store mse for each fold\n",
        "    mse_folds = []\n",
        "    # for each fold fit the model\n",
        "    for train_idx, validation_idx in kf.split(X_scaled):\n",
        "        X_train, X_validation = X_scaled.iloc[train_idx], X_scaled.iloc[validation_idx]\n",
        "        y_train, y_validation = y.iloc[train_idx], y.iloc[validation_idx]\n",
        "        pls.fit(X_train, y_train)\n",
        "        y_pred = pls.predict(X_validation)\n",
        "        y_pred = pd.Series([elem[0] for elem in y_pred])\n",
        "        RSE, R2, MSE = calculate_metrics(y_validation.reset_index(drop=True), y_pred, X_subset)\n",
        "         # Note: in the above line there is a \"reset_index\". Why?\n",
        "        # Try to remove it and see what happens\n",
        "        # Make some prints to understand why we need it... it's important to understand why!\n",
        "\n",
        "        mse_folds.append(MSE)\n",
        "    # estimate test error using the mean of MSE in all folds\n",
        "    test_error_estimated = sum(mse_folds) / len(mse_folds)\n",
        "    # append\n",
        "    results_pls.append([test_error_estimated, n_components])\n",
        "    # check if model improved\n",
        "    if test_error_estimated < best_components_pls[\"MSE\"]:\n",
        "        best_components_pls[\"MSE\"] = test_error_estimated\n",
        "        best_components_pls[\"n_components\"] = n_components\n",
        "\n",
        "# plot estimated test MSE for each value of lambda\n",
        "fig, ax = plt.subplots(ncols=1, nrows=1)\n",
        "plt.plot([elem[1] for elem in results_pls], [elem[0] for elem in results_pls])\n",
        "plt.xlabel(\"N. components\")\n",
        "plt.ylabel(\"Estimated test error MSE\")\n",
        "plt.axhline(min_ridge_test_error_estimated, color=\"green\")\n",
        "plt.text(1, min_ridge_test_error_estimated * 1.02, \"Best estimation so far\", color=\"green\")"
      ],
      "metadata": {
        "colab": {
          "base_uri": "https://localhost:8080/",
          "height": 482
        },
        "id": "DlfP_80SpckB",
        "outputId": "9866f02b-37e7-48cb-bcd9-6469f4c08c19"
      },
      "execution_count": null,
      "outputs": [
        {
          "output_type": "execute_result",
          "data": {
            "text/plain": [
              "Text(1, 9498053194525.469, 'Best estimation so far')"
            ]
          },
          "metadata": {},
          "execution_count": 80
        },
        {
          "output_type": "display_data",
          "data": {
            "text/plain": [
              "<Figure size 640x480 with 1 Axes>"
            ],
            "image/png": "[encoded data removed]"
          },
          "metadata": {}
        }
      ]
    },
    {
      "cell_type": "code",
      "source": [
        "# compare min using Lasso, Ridge and OLS\n",
        "min_pls_test_error_estimated = min([elem[0] for elem in results_pls])\n",
        "\n",
        "print(f\"Using PLS, the best model has an estimated test MSE of {round(min_pls_test_error_estimated, 2)} using a number of components = {round(best_components_pls['n_components'], 2)}\")"
      ],
      "metadata": {
        "colab": {
          "base_uri": "https://localhost:8080/"
        },
        "id": "ttDwcae8p615",
        "outputId": "5f7d5f7f-dfa7-4b22-d111-25a61cab4b5b"
      },
      "execution_count": null,
      "outputs": [
        {
          "output_type": "stream",
          "name": "stdout",
          "text": [
            "Using PLS, the best model has an estimated test MSE of 9309507750724.21 using a number of components = 2\n"
          ]
        }
      ]
    },
    {
      "cell_type": "code",
      "source": [
        "print(f\"After fitting all models, the most accurate estimated test MSE is obtained by Ridge regression with a value of {round(min_ridge_test_error_estimated, 2)} (reached when lambda = {round(best_lmbd_ridge['lmbd'], 2)})\")"
      ],
      "metadata": {
        "colab": {
          "base_uri": "https://localhost:8080/"
        },
        "id": "62SS-nBSqDrB",
        "outputId": "dd2b11f5-28e1-446b-a267-a8fa7f989237"
      },
      "execution_count": null,
      "outputs": [
        {
          "output_type": "stream",
          "name": "stdout",
          "text": [
            "After fitting all models, the most accurate estimated test MSE is obtained by Ridge regression with a value of 9311816857377.91 (reached when lambda = 14.75)\n"
          ]
        }
      ]
    },
    {
      "cell_type": "markdown",
      "metadata": {
        "id": "IEwvYZFE1JTs"
      },
      "source": [
        "#**Polynomial regression**\n",
        "\n",
        "Let's start by fitting a polynomial with degree 2"
      ]
    },
    {
      "cell_type": "code",
      "source": [
        "from sklearn.preprocessing import PolynomialFeatures, StandardScaler\n",
        "from sklearn.linear_model import LinearRegression\n",
        "from sklearn.model_selection import KFold\n",
        "\n",
        "# Number of splits for k-fold cross-validation\n",
        "k = 3\n",
        "\n",
        "# Split the data into k folds manually\n",
        "kf = KFold(n_splits=k, shuffle=True, random_state=99)\n",
        "\n",
        "# Initialize an array to store MSE values for each fold\n",
        "mse_folds = []\n",
        "\n",
        "# run k-fold cv\n",
        "for train_idx, validation_idx in kf.split(X_scaled):\n",
        "    X_train, X_validation = X_scaled.iloc[train_idx], X_scaled.iloc[validation_idx]\n",
        "    y_train, y_validation = y.iloc[train_idx], y.iloc[validation_idx]\n",
        "\n",
        "    # Normalize target variable and features\n",
        "    scaler_y = StandardScaler()\n",
        "    scaler_X = StandardScaler()\n",
        "\n",
        "    y_train_normalized = scaler_y.fit_transform(y_train.values.reshape(-1, 1)).flatten()\n",
        "    X_train_normalized = scaler_X.fit_transform(X_train)\n",
        "\n",
        "    y_validation_normalized = scaler_y.transform(y_validation.values.reshape(-1, 1)).flatten()\n",
        "    X_validation_normalized = scaler_X.transform(X_validation)\n",
        "\n",
        "    # Polynomial degree 2\n",
        "    poly = PolynomialFeatures(2)\n",
        "    X_train_poly = poly.fit_transform(X_train_normalized)\n",
        "    X_validation_poly = poly.fit_transform(X_validation_normalized)\n",
        "\n",
        "    # Fit model\n",
        "    model = LinearRegression()\n",
        "    model.fit(X_train_poly, y_train_normalized)\n",
        "\n",
        "    # Get predictions\n",
        "    y_pred_normalized = model.predict(X_validation_poly)\n",
        "\n",
        "    # Inverse transform predictions to the original scale\n",
        "    y_pred = scaler_y.inverse_transform(y_pred_normalized.reshape(-1, 1)).flatten()\n",
        "\n",
        "    current_mse = ((y_validation - y_pred)**2).mean()\n",
        "    mse_folds.append(current_mse)\n",
        "\n",
        "# Calculate the mean MSE across folds\n",
        "estimated_test_error = sum(mse_folds) / len(mse_folds)\n",
        "print(f\"The estimated test MSE error is {round(estimated_test_error, 2)}\")\n"
      ],
      "metadata": {
        "colab": {
          "base_uri": "https://localhost:8080/"
        },
        "id": "26I4yCyFhenI",
        "outputId": "3ccd7034-bca6-48b9-e27e-2269f0877a57"
      },
      "execution_count": null,
      "outputs": [
        {
          "output_type": "stream",
          "name": "stdout",
          "text": [
            "The estimated test MSE error is 4410226542801.55\n"
          ]
        }
      ]
    },
    {
      "cell_type": "markdown",
      "metadata": {
        "id": "RzuKmZ4F3Ozt"
      },
      "source": [
        "Using a polynomial with degree 2 we get a reduction in the estimated test MSE\n",
        "\n",
        "This is an evidence that the true relationship between the target and predictors is not linear"
      ]
    },
    {
      "cell_type": "markdown",
      "metadata": {
        "id": "R6JbCU2g3Yef"
      },
      "source": [
        "# Generalized Additive Models\n",
        "\n",
        "Let's now move to smoothing splines: here we are going to use a Generalized Additive Model (GAM) since we have more than one predictor\n",
        "\n",
        "In particular, for each predictor we are going to fit a smoothing splines (natural cubic splines). Remember that smoothing splines have a lambda parameter to control smoothness so we'll have to test different values to see where the bias-variance trade-off leads to better performance"
      ]
    },
    {
      "cell_type": "code",
      "source": [
        "pip install pygam numpy==1.24.2\n"
      ],
      "metadata": {
        "colab": {
          "base_uri": "https://localhost:8080/",
          "height": 497
        },
        "id": "w7Gvgbvilh-O",
        "outputId": "2347d0d9-11b8-4eaa-892c-bc7a9bd80926"
      },
      "execution_count": null,
      "outputs": [
        {
          "output_type": "stream",
          "name": "stdout",
          "text": [
            "Collecting pygam\n",
            "  Downloading pygam-0.9.0-py3-none-any.whl (522 kB)\n",
            "\u001b[2K     \u001b[90m━━━━━━━━━━━━━━━━━━━━━━━━━━━━━━━━━━━━━━━━\u001b[0m \u001b[32m522.2/522.2 kB\u001b[0m \u001b[31m3.9 MB/s\u001b[0m eta \u001b[36m0:00:00\u001b[0m\n",
            "\u001b[?25hCollecting numpy==1.24.2\n",
            "  Downloading numpy-1.24.2-cp310-cp310-manylinux_2_17_x86_64.manylinux2014_x86_64.whl (17.3 MB)\n",
            "\u001b[2K     \u001b[90m━━━━━━━━━━━━━━━━━━━━━━━━━━━━━━━━━━━━━━━━\u001b[0m \u001b[32m17.3/17.3 MB\u001b[0m \u001b[31m25.3 MB/s\u001b[0m eta \u001b[36m0:00:00\u001b[0m\n",
            "\u001b[?25hRequirement already satisfied: progressbar2<5.0.0,>=4.2.0 in /usr/local/lib/python3.10/dist-packages (from pygam) (4.2.0)\n",
            "Requirement already satisfied: scipy<2.0.0,>=1.10.1 in /usr/local/lib/python3.10/dist-packages (from pygam) (1.11.4)\n",
            "Requirement already satisfied: python-utils>=3.0.0 in /usr/local/lib/python3.10/dist-packages (from progressbar2<5.0.0,>=4.2.0->pygam) (3.8.1)\n",
            "Requirement already satisfied: typing-extensions>3.10.0.2 in /usr/local/lib/python3.10/dist-packages (from python-utils>=3.0.0->progressbar2<5.0.0,>=4.2.0->pygam) (4.5.0)\n",
            "Installing collected packages: numpy, pygam\n",
            "  Attempting uninstall: numpy\n",
            "    Found existing installation: numpy 1.23.5\n",
            "    Uninstalling numpy-1.23.5:\n",
            "      Successfully uninstalled numpy-1.23.5\n",
            "\u001b[31mERROR: pip's dependency resolver does not currently take into account all the packages that are installed. This behaviour is the source of the following dependency conflicts.\n",
            "lida 0.0.10 requires fastapi, which is not installed.\n",
            "lida 0.0.10 requires kaleido, which is not installed.\n",
            "lida 0.0.10 requires python-multipart, which is not installed.\n",
            "lida 0.0.10 requires uvicorn, which is not installed.\u001b[0m\u001b[31m\n",
            "\u001b[0mSuccessfully installed numpy-1.24.2 pygam-0.9.0\n"
          ]
        },
        {
          "output_type": "display_data",
          "data": {
            "application/vnd.colab-display-data+json": {
              "pip_warning": {
                "packages": [
                  "numpy"
                ]
              }
            }
          },
          "metadata": {}
        }
      ]
    },
    {
      "cell_type": "code",
      "execution_count": null,
      "metadata": {
        "colab": {
          "base_uri": "https://localhost:8080/"
        },
        "id": "_vCCvq6n5iFU",
        "outputId": "4bbf73cb-bc53-4c31-a4f8-cf3b81b2bf90"
      },
      "outputs": [
        {
          "output_type": "stream",
          "name": "stdout",
          "text": [
            "Requirement already satisfied: pygam in /usr/local/lib/python3.10/dist-packages (0.9.0)\n",
            "Requirement already satisfied: numpy<2.0.0,>=1.24.2 in /usr/local/lib/python3.10/dist-packages (from pygam) (1.24.2)\n",
            "Requirement already satisfied: progressbar2<5.0.0,>=4.2.0 in /usr/local/lib/python3.10/dist-packages (from pygam) (4.2.0)\n",
            "Requirement already satisfied: scipy<2.0.0,>=1.10.1 in /usr/local/lib/python3.10/dist-packages (from pygam) (1.11.4)\n",
            "Requirement already satisfied: python-utils>=3.0.0 in /usr/local/lib/python3.10/dist-packages (from progressbar2<5.0.0,>=4.2.0->pygam) (3.8.1)\n",
            "Requirement already satisfied: typing-extensions>3.10.0.2 in /usr/local/lib/python3.10/dist-packages (from python-utils>=3.0.0->progressbar2<5.0.0,>=4.2.0->pygam) (4.5.0)\n"
          ]
        }
      ],
      "source": [
        "!pip install pygam"
      ]
    },
    {
      "cell_type": "code",
      "execution_count": null,
      "metadata": {
        "colab": {
          "base_uri": "https://localhost:8080/"
        },
        "id": "WZPRW0v63r9q",
        "outputId": "c1a49862-536e-45e9-d54d-75dc9ac37232"
      },
      "outputs": [
        {
          "output_type": "stream",
          "name": "stdout",
          "text": [
            "The lowest estimated test error MSE is 4137496942302.54, obtained when lambda = 1.11\n"
          ]
        }
      ],
      "source": [
        "\n",
        "\n",
        "from pygam import LinearGAM, s\n",
        "from functools import reduce\n",
        "import numpy as np\n",
        "\n",
        "# initialize MSE and lambda\n",
        "best_lmbd_gam = {\"MSE\": float(\"inf\"), \"lmbd\": float(\"inf\")}\n",
        "\n",
        "# test different values of lambda (control smoothness)\n",
        "for lmbd in np.linspace(0, 10, 10):\n",
        "\n",
        "    # Initialize an array to store MSE values for each fold\n",
        "    mse_folds = []\n",
        "\n",
        "    # run k-fold cv\n",
        "    for train_idx, validation_idx in kf.split(X_scaled):\n",
        "        X_train, X_validation = X_scaled.iloc[train_idx], X_scaled.iloc[validation_idx]\n",
        "        y_train, y_validation = y.iloc[train_idx], y.iloc[validation_idx]\n",
        "\n",
        "        # fit GAM: for each predictor add a smoothing spline (i.e. s(i)) and use lambda to control smoothness\n",
        "        s_terms = [s(i, lam=lmbd) for i in range(len(X_train.columns))]\n",
        "        gam = LinearGAM(reduce(lambda x, y: x + y, s_terms))\n",
        "        gam.fit(X_train, y_train)\n",
        "\n",
        "        # get predictions\n",
        "        y_pred = gam.predict(X_validation)\n",
        "        current_mse = ((y_validation - y_pred)**2).mean()\n",
        "        mse_folds.append(current_mse)\n",
        "\n",
        "    # Calculate the mean MSE across folds\n",
        "    estimated_test_error = sum(mse_folds) / len(mse_folds)\n",
        "    # check if the estimated_test_error has decreased\n",
        "    if estimated_test_error < best_lmbd_gam[\"MSE\"]:\n",
        "        best_lmbd_gam[\"MSE\"] = estimated_test_error\n",
        "        best_lmbd_gam[\"lmbd\"] = lmbd\n",
        "\n",
        "print(f\"The lowest estimated test error MSE is {round(best_lmbd_gam['MSE'], 2)}, obtained when lambda = {round(best_lmbd_gam['lmbd'], 2)}\")\n"
      ]
    },
    {
      "cell_type": "code",
      "execution_count": null,
      "metadata": {
        "colab": {
          "base_uri": "https://localhost:8080/"
        },
        "id": "5S9C7f-k6lYy",
        "outputId": "a12bf82d-4fca-4e0b-b6a2-56483e587959"
      },
      "outputs": [
        {
          "output_type": "stream",
          "name": "stdout",
          "text": [
            "LinearGAM                                                                                                 \n",
            "=============================================== ==========================================================\n",
            "Distribution:                        NormalDist Effective DoF:                                     21.8372\n",
            "Link Function:                     IdentityLink Log Likelihood:                                -14782.0838\n",
            "Number of Samples:                          500 AIC:                                             29609.842\n",
            "                                                AICc:                                           29612.1286\n",
            "                                                GCV:                                    2991389192147.2573\n",
            "                                                Scale:                                   2757178669179.289\n",
            "                                                Pseudo R-Squared:                                   0.9703\n",
            "==========================================================================================================\n",
            "Feature Function                  Lambda               Rank         EDoF         P > x        Sig. Code   \n",
            "================================= ==================== ============ ============ ============ ============\n",
            "s(0)                              [10.]                20           3.5          5.31e-10     ***         \n",
            "s(1)                              [10.]                20           1.8          9.88e-01                 \n",
            "s(2)                              [10.]                20           6.8          1.51e-08     ***         \n",
            "s(3)                              [10.]                20           5.5          1.11e-16     ***         \n",
            "s(4)                              [10.]                20           3.9          9.79e-01                 \n",
            "s(5)                              [10.]                20           0.4          1.11e-16     ***         \n",
            "intercept                                              1            0.0          1.11e-16     ***         \n",
            "==========================================================================================================\n",
            "Significance codes:  0 '***' 0.001 '**' 0.01 '*' 0.05 '.' 0.1 ' ' 1\n",
            "\n",
            "WARNING: Fitting splines and a linear function to a feature introduces a model identifiability problem\n",
            "         which can cause p-values to appear significant when they are not.\n",
            "\n",
            "WARNING: p-values calculated in this manner behave correctly for un-penalized models or models with\n",
            "         known smoothing parameters, but when smoothing parameters have been estimated, the p-values\n",
            "         are typically lower than they should be, meaning that the tests reject the null too readily.\n"
          ]
        },
        {
          "output_type": "stream",
          "name": "stderr",
          "text": [
            "<ipython-input-87-dec6a6acdaaa>:1: UserWarning: KNOWN BUG: p-values computed in this summary are likely much smaller than they should be. \n",
            " \n",
            "Please do not make inferences based on these values! \n",
            "\n",
            "Collaborate on a solution, and stay up to date at: \n",
            "github.com/dswah/pyGAM/issues/163 \n",
            "\n",
            "  gam.summary()\n"
          ]
        }
      ],
      "source": [
        "gam.summary()"
      ]
    },
    {
      "cell_type": "markdown",
      "metadata": {
        "id": "eOkhpz5y71-s"
      },
      "source": [
        "## Decision tree and pruning\n",
        "\n",
        "Let's move to decision trees. We'll first start with a standard decision tree with pruning (using cost complexity function) and then we'll move to the more powerful ensamble methods"
      ]
    },
    {
      "cell_type": "code",
      "execution_count": null,
      "metadata": {
        "colab": {
          "base_uri": "https://localhost:8080/"
        },
        "id": "hr7TA17q7578",
        "outputId": "2ad5c0f5-0f8b-47c0-aa3b-c8bf4c2c36aa"
      },
      "outputs": [
        {
          "output_type": "stream",
          "name": "stdout",
          "text": [
            "The lowest estimated test error MSE is 4174566876270.17, obtained when alpha = 268724527151.63\n",
            "Not a great result, right?\n"
          ]
        }
      ],
      "source": [
        "from sklearn.tree import DecisionTreeRegressor\n",
        "\n",
        "# initialize MSE and alpha\n",
        "best_alpha = {\"MSE\": float(\"inf\"), \"alpha\": float(\"inf\")}\n",
        "\n",
        "# fit a decision tree with all data to derive the alpha values (for tree pruning)\n",
        "tree = DecisionTreeRegressor(random_state=99)\n",
        "tree.fit(X_scaled, y)\n",
        "\n",
        "# get alpha values\n",
        "alphas = []\n",
        "for node in tree.cost_complexity_pruning_path(X_scaled, y).impurities:\n",
        "    alphas.append(max(0, node))\n",
        "\n",
        "# test different values of alpha (control tree complexity)\n",
        "for alpha in alphas:\n",
        "\n",
        "    # Initialize an array to store MSE values for each fold\n",
        "    mse_folds = []\n",
        "      # run k-fold cv\n",
        "    for train_idx, validation_idx in kf.split(X_scaled):\n",
        "        X_train, X_validation = X_scaled.iloc[train_idx], X_scaled.iloc[validation_idx]\n",
        "        y_train, y_validation = y.iloc[train_idx], y.iloc[validation_idx]\n",
        "\n",
        "        # fit pruned tree\n",
        "        pruned_tree = DecisionTreeRegressor(ccp_alpha=alpha, random_state=99)\n",
        "        pruned_tree.fit(X_train, y_train)\n",
        "\n",
        "        # get predictions\n",
        "        y_pred = pruned_tree.predict(X_validation)\n",
        "        current_mse = ((y_validation - y_pred)**2).mean()\n",
        "        mse_folds.append(current_mse)\n",
        "\n",
        "    # Calculate the mean MSE across folds\n",
        "    estimated_test_error = sum(mse_folds) / len(mse_folds)\n",
        "\n",
        "    # check if the estimated_test_error has decreased\n",
        "    if estimated_test_error < best_alpha[\"MSE\"]:\n",
        "        best_alpha[\"MSE\"] = estimated_test_error\n",
        "        best_alpha[\"alpha\"] = alpha\n",
        "\n",
        "print(f\"The lowest estimated test error MSE is {round(best_alpha['MSE'], 2)}, obtained when alpha = {round(best_alpha['alpha'], 2)}\")\n",
        "\n",
        "# Train the final decision tree with the best alpha value and evaluate it on the test data\n",
        "final_tree = DecisionTreeRegressor(ccp_alpha=best_alpha['alpha'], random_state=99)\n",
        "final_tree.fit(X_scaled, y)\n",
        "\n",
        "print(\"Not a great result, right?\")"
      ]
    },
    {
      "cell_type": "code",
      "source": [
        "from sklearn.tree import DecisionTreeRegressor\n",
        "from sklearn.model_selection import KFold, GridSearchCV\n",
        "\n",
        "# Number of splits for k-fold cross-validation\n",
        "k = 5\n",
        "\n",
        "# Split the data into k folds manually\n",
        "kf = KFold(n_splits=k, shuffle=True, random_state=99)\n",
        "\n",
        "# Initialize MSE and alpha\n",
        "best_alpha = {\"MSE\": float(\"inf\"), \"alpha\": float(\"inf\")}\n",
        "\n",
        "# Test different values of alpha (control tree complexity) within each fold\n",
        "for train_idx, validation_idx in kf.split(X_scaled):\n",
        "    X_train, X_validation = X_scaled.iloc[train_idx], X_scaled.iloc[validation_idx]\n",
        "    y_train, y_validation = y.iloc[train_idx], y.iloc[validation_idx]\n",
        "\n",
        "    # Fit a decision tree with all data to derive the alpha values (for tree pruning)\n",
        "    tree = DecisionTreeRegressor(random_state=99)\n",
        "    tree.fit(X_train, y_train)\n",
        "\n",
        "    # Get alpha values\n",
        "    alphas = []\n",
        "    for node in tree.cost_complexity_pruning_path(X_train, y_train).impurities:\n",
        "        alphas.append(max(0, node))\n",
        "\n",
        "    # Initialize an array to store MSE values for each alpha\n",
        "    mse_folds = []\n",
        "\n",
        "    # Test different values of alpha (control tree complexity)\n",
        "    for alpha in alphas:\n",
        "        # Fit pruned tree\n",
        "        pruned_tree = DecisionTreeRegressor(ccp_alpha=alpha, random_state=99)\n",
        "        pruned_tree.fit(X_train, y_train)\n",
        "\n",
        "        # Get predictions\n",
        "        y_pred = pruned_tree.predict(X_validation)\n",
        "        current_mse = ((y_validation - y_pred)**2).mean()\n",
        "        mse_folds.append(current_mse)\n",
        "\n",
        "    # Calculate the mean MSE across alphas for this fold\n",
        "    estimated_test_error = sum(mse_folds) / len(mse_folds)\n",
        "\n",
        "    # Check if the estimated_test_error has decreased\n",
        "    if estimated_test_error < best_alpha[\"MSE\"]:\n",
        "        best_alpha[\"MSE\"] = estimated_test_error\n",
        "        best_alpha[\"alpha\"] = alphas[np.argmin(mse_folds)]\n",
        "\n",
        "print(f\"The lowest estimated test error MSE is {round(best_alpha['MSE'], 2)}, obtained when alpha = {round(best_alpha['alpha'], 2)}\")\n",
        "\n",
        "# Train the final decision tree with the best alpha value and evaluate it on the test data\n",
        "final_tree = DecisionTreeRegressor(ccp_alpha=best_alpha['alpha'], random_state=99)\n",
        "final_tree.fit(X_scaled, y)\n",
        "\n",
        "print(\"Not a great result, right?\")\n"
      ],
      "metadata": {
        "colab": {
          "base_uri": "https://localhost:8080/"
        },
        "id": "xV_U3Gzfom9D",
        "outputId": "c692b1fc-9bef-457f-ceed-f30ad693dbfa"
      },
      "execution_count": null,
      "outputs": [
        {
          "output_type": "stream",
          "name": "stdout",
          "text": [
            "The lowest estimated test error MSE is 4136677248395.1, obtained when alpha = 214617962543.34\n",
            "Not a great result, right?\n"
          ]
        }
      ]
    },
    {
      "cell_type": "code",
      "execution_count": null,
      "metadata": {
        "colab": {
          "base_uri": "https://localhost:8080/"
        },
        "id": "gVWbGMw68kox",
        "outputId": "cec03b84-dbf7-4757-8c26-e00da07f8ced"
      },
      "outputs": [
        {
          "output_type": "stream",
          "name": "stdout",
          "text": [
            "Requirement already satisfied: graphviz in /usr/local/lib/python3.10/dist-packages (0.20.1)\n"
          ]
        }
      ],
      "source": [
        "pip install graphviz\n"
      ]
    },
    {
      "cell_type": "code",
      "execution_count": null,
      "metadata": {
        "id": "jcssvQ8580yO",
        "colab": {
          "base_uri": "https://localhost:8080/"
        },
        "outputId": "be35b942-d88e-4fde-800e-d721af6c631c"
      },
      "outputs": [
        {
          "output_type": "stream",
          "name": "stdout",
          "text": [
            "Requirement already satisfied: pydot in /usr/local/lib/python3.10/dist-packages (1.4.2)\n",
            "Requirement already satisfied: pyparsing>=2.1.4 in /usr/local/lib/python3.10/dist-packages (from pydot) (3.1.1)\n"
          ]
        }
      ],
      "source": [
        "pip install pydot\n"
      ]
    },
    {
      "cell_type": "code",
      "source": [
        "from sklearn.tree import export_text, export_graphviz\n",
        "import graphviz\n",
        "\n",
        "# Visualize the tree structure as text\n",
        "tree_rules = export_text(final_tree, feature_names=X_scaled.columns.tolist())\n",
        "print(\"Decision Tree Rules:\\n\")\n",
        "print(tree_rules)\n",
        "\n",
        "# Visualize the tree as a graph\n",
        "dot_data = export_graphviz(final_tree, out_file=None,\n",
        "                           feature_names=X_scaled.columns.tolist(),\n",
        "                           filled=True, rounded=True,\n",
        "                           special_characters=True)\n",
        "\n",
        "graph = graphviz.Source(dot_data)\n",
        "graph.render(\"final_tree\")\n",
        "graph.view(\"final_tree\")\n"
      ],
      "metadata": {
        "colab": {
          "base_uri": "https://localhost:8080/"
        },
        "id": "yKeFxY8Qp51M",
        "outputId": "045cbd9c-0881-4122-e219-a7f27ec30774"
      },
      "execution_count": null,
      "outputs": [
        {
          "output_type": "stream",
          "name": "stdout",
          "text": [
            "Decision Tree Rules:\n",
            "\n",
            "|--- square_feet <= 1.01\n",
            "|   |--- market_type <= -0.11\n",
            "|   |   |--- value: [7081078.74]\n",
            "|   |--- market_type >  -0.11\n",
            "|   |   |--- value: [14284183.52]\n",
            "|--- square_feet >  1.01\n",
            "|   |--- value: [35342035.00]\n",
            "\n"
          ]
        },
        {
          "output_type": "execute_result",
          "data": {
            "text/plain": [
              "'final_tree.pdf'"
            ],
            "application/vnd.google.colaboratory.intrinsic+json": {
              "type": "string"
            }
          },
          "metadata": {},
          "execution_count": 97
        }
      ]
    },
    {
      "cell_type": "markdown",
      "source": [
        "#**Random forest**"
      ],
      "metadata": {
        "id": "UjX0HKS0wH32"
      }
    },
    {
      "cell_type": "code",
      "execution_count": null,
      "metadata": {
        "id": "ttweAcAd-Gsy",
        "colab": {
          "base_uri": "https://localhost:8080/"
        },
        "outputId": "3175b04e-fbe2-4fd4-e8b5-d7ede93fa238"
      },
      "outputs": [
        {
          "output_type": "stream",
          "name": "stdout",
          "text": [
            "The estimated test MSE error is 3470011656043.99\n"
          ]
        }
      ],
      "source": [
        "from sklearn.ensemble import RandomForestRegressor\n",
        "\n",
        "# Initialize an array to store MSE values for each fold\n",
        "mse_folds = []\n",
        "\n",
        "# run k-fold cv\n",
        "for train_idx, validation_idx in kf.split(X_scaled):\n",
        "    X_train, X_validation = X_scaled.iloc[train_idx], X_scaled.iloc[validation_idx]\n",
        "    y_train, y_validation = y.iloc[train_idx], y.iloc[validation_idx]\n",
        "\n",
        "    # create a Random Forest\n",
        "    model = RandomForestRegressor(n_estimators=100, max_features=\"sqrt\", random_state=99)\n",
        "\n",
        "    # fit the model to the training data\n",
        "    model.fit(X_train, y_train)\n",
        "\n",
        "    # make predictions\n",
        "    y_pred = model.predict(X_validation)\n",
        "    current_mse = ((y_validation - y_pred)**2).mean()\n",
        "    mse_folds.append(current_mse)\n",
        "\n",
        "\n",
        "# Calculate the mean MSE across folds\n",
        "estimated_test_error = sum(mse_folds) / len(mse_folds)\n",
        "print(f\"The estimated test MSE error is {round(estimated_test_error, 2)}\")"
      ]
    },
    {
      "cell_type": "markdown",
      "source": [
        "#**Gradiant Boost**"
      ],
      "metadata": {
        "id": "-jAyeUhLw4v1"
      }
    },
    {
      "cell_type": "code",
      "execution_count": null,
      "metadata": {
        "id": "5Wl5vNfU-3-A",
        "colab": {
          "base_uri": "https://localhost:8080/"
        },
        "outputId": "ab8a5cc2-c417-446b-edaa-d87be43dce0d"
      },
      "outputs": [
        {
          "output_type": "stream",
          "name": "stdout",
          "text": [
            "The estimated test MSE error is 3381031150658.09\n"
          ]
        }
      ],
      "source": [
        "from sklearn.ensemble import GradientBoostingRegressor\n",
        "\n",
        "# Initialize an array to store MSE values for each fold\n",
        "mse_folds = []\n",
        "\n",
        "# run k-fold cv\n",
        "for train_idx, validation_idx in kf.split(X_scaled):\n",
        "    X_train, X_validation = X_scaled.iloc[train_idx], X_scaled.iloc[validation_idx]\n",
        "    y_train, y_validation = y.iloc[train_idx], y.iloc[validation_idx]\n",
        "\n",
        "    # create a Random Forest\n",
        "    model = GradientBoostingRegressor(n_estimators=100, learning_rate=0.1, random_state=99)\n",
        "\n",
        "    # fit the model to the training data\n",
        "    model.fit(X_train, y_train)\n",
        "\n",
        "    # make predictions\n",
        "    y_pred = model.predict(X_validation)\n",
        "    current_mse = ((y_validation - y_pred)**2).mean()\n",
        "    mse_folds.append(current_mse)\n",
        "\n",
        "\n",
        "# Calculate the mean MSE across folds\n",
        "estimated_test_error = sum(mse_folds) / len(mse_folds)\n",
        "print(f\"The estimated test MSE error is {round(estimated_test_error, 2)}\")"
      ]
    },
    {
      "cell_type": "markdown",
      "source": [
        "#**support vector machine**"
      ],
      "metadata": {
        "id": "ExZkun49xhVH"
      }
    },
    {
      "cell_type": "code",
      "execution_count": null,
      "metadata": {
        "id": "lhNR6r74_jWF",
        "colab": {
          "base_uri": "https://localhost:8080/"
        },
        "outputId": "83ffeb65-ebbb-4342-bb04-7791f882709f"
      },
      "outputs": [
        {
          "output_type": "stream",
          "name": "stdout",
          "text": [
            "Requirement already satisfied: scikit-learn in /usr/local/lib/python3.10/dist-packages (1.2.2)\n",
            "Requirement already satisfied: numpy>=1.17.3 in /usr/local/lib/python3.10/dist-packages (from scikit-learn) (1.24.2)\n",
            "Requirement already satisfied: scipy>=1.3.2 in /usr/local/lib/python3.10/dist-packages (from scikit-learn) (1.11.4)\n",
            "Requirement already satisfied: joblib>=1.1.1 in /usr/local/lib/python3.10/dist-packages (from scikit-learn) (1.3.2)\n",
            "Requirement already satisfied: threadpoolctl>=2.0.0 in /usr/local/lib/python3.10/dist-packages (from scikit-learn) (3.2.0)\n"
          ]
        }
      ],
      "source": [
        "pip install scikit-learn\n"
      ]
    },
    {
      "cell_type": "code",
      "source": [
        "from sklearn.svm import SVR\n",
        "from sklearn.model_selection import GridSearchCV\n",
        "import numpy as np\n",
        "\n",
        "# find best parameters\n",
        "parameters = {\n",
        "    'C': np.linspace(1, 100, 10).tolist(),\n",
        "    'kernel': ['rbf'], # here you can test for 'poly', 'linear', and others (check the docs!)\n",
        "    'gamma': ['scale', 'auto'] + np.linspace(0.01, 1, 10).tolist(),\n",
        "}\n",
        "\n",
        "# Create the SVM model\n",
        "svm = SVR()\n",
        "\n",
        "# Create the GridSearchCV\n",
        "grid_search = GridSearchCV(svm, parameters, cv=5)\n",
        "\n",
        "# Fit the GridSearchCV to the training data\n",
        "grid_search.fit(X, y)\n",
        "\n",
        "# Get the best parameters and the best score\n",
        "best_params = grid_search.best_params_\n",
        "\n",
        "print(best_params)"
      ],
      "metadata": {
        "colab": {
          "base_uri": "https://localhost:8080/"
        },
        "id": "SZzJeBtt3t15",
        "outputId": "7eea26a6-dd72-426f-e1d2-1c38f01a800a"
      },
      "execution_count": null,
      "outputs": [
        {
          "output_type": "stream",
          "name": "stdout",
          "text": [
            "{'C': 100.0, 'gamma': 'scale', 'kernel': 'rbf'}\n"
          ]
        }
      ]
    },
    {
      "cell_type": "code",
      "source": [
        "# Now we can run k-fold using the best parameters\n",
        "\n",
        "# Initialize an array to store MSE values for each fold\n",
        "mse_folds = []\n",
        "\n",
        "# run k-fold cv\n",
        "for train_idx, validation_idx in kf.split(X):\n",
        "    X_train, X_validation = X.iloc[train_idx], X.iloc[validation_idx]\n",
        "    y_train, y_validation = y.iloc[train_idx], y.iloc[validation_idx]\n",
        "\n",
        "    # fit model\n",
        "    model = SVR(C=best_params[\"C\"], kernel=best_params[\"kernel\"], gamma=best_params[\"gamma\"])\n",
        "    model.fit(X_train, y_train)\n",
        "\n",
        "    # get predictions\n",
        "    y_pred = model.predict(X_validation)\n",
        "    current_mse = ((y_validation - y_pred)**2).mean()\n",
        "    mse_folds.append(current_mse)\n",
        "\n",
        "# Calculate the mean MSE across folds\n",
        "estimated_test_error = sum(mse_folds) / len(mse_folds)\n",
        "print(f\"The estimated test MSE error is {round(estimated_test_error, 2)}\")"
      ],
      "metadata": {
        "colab": {
          "base_uri": "https://localhost:8080/"
        },
        "id": "lFK5U6P_yuTk",
        "outputId": "cbf6b59f-87b5-40ee-dcc6-6f5d6bb4a1eb"
      },
      "execution_count": null,
      "outputs": [
        {
          "output_type": "stream",
          "name": "stdout",
          "text": [
            "The estimated test MSE error is 111669422017775.12\n"
          ]
        }
      ]
    },
    {
      "cell_type": "markdown",
      "source": [
        "# best model"
      ],
      "metadata": {
        "id": "EUgGAmo7E-9b"
      }
    },
    {
      "cell_type": "markdown",
      "source": [
        "The MSE is in linear regression model:\n",
        "\n",
        "The OLS for best feature, the best model has an estimated test MSE of **9286147917750.74**\n",
        "\n",
        "The MSE for ridge:, the best model has an estimated test MSE of **9321510701402.94** using a value of lambda = 2.02\n",
        "\n",
        "The MSE for lasso model: the best model has an estimated test MSE of **9321510701402.94** using a value of lambda = 0.05\n",
        "\n",
        "The MSE for dimension reduction method:  **PCA**, the best model has an estimated test MSE of **9286147904430.14** using a number of components = 5\n",
        "\n",
        "The MSE for dimension reduction method:  **Pls** is **9471264158157.979**\n",
        "\n",
        "\n",
        "The MSE for polynomial regression: The estimated test MSE error is **4410226542801**\n",
        "\n",
        "\n",
        "The MSE for Generalized Addictive Models:  he lowest estimated test error MSE is **4137496942302.54**, obtained when lambda = 0.0\n",
        "\n",
        "The MSE for Dicision tree and purning: The lowest estimated test error MSE is **4174566876270.17**, obtained when alpha = 263342098182.3\n",
        "\n",
        "The MSE for Random forest is: The estimated test MSE error is **3470011656043.99**\n",
        "\n",
        "The MSE for Gradiantboost regression is: The estimated test MSE error is  **3381031150658.09**\n",
        "\n",
        "The MSE for support vector machine : The estimated test MSE error is **111721162282407.81**\n"
      ],
      "metadata": {
        "id": "kH9_n3HUtMSk"
      }
    },
    {
      "cell_type": "markdown",
      "source": [
        "The lowest MSE is for Gradiantboost regression I use this model and test my data"
      ],
      "metadata": {
        "id": "hnlHfaah0Id3"
      }
    },
    {
      "cell_type": "markdown",
      "source": [
        "# **test my model for minimarket**"
      ],
      "metadata": {
        "id": "TlUq-jT_8vi6"
      }
    },
    {
      "cell_type": "code",
      "source": [
        "import pandas as pd\n",
        "from sklearn.ensemble import GradientBoostingRegressor\n",
        "from sklearn.preprocessing import StandardScaler\n",
        "\n",
        "# Assuming you have the `calculate_metrics` function defined somewhere\n",
        "\n",
        "# Test data\n",
        "test_data = {\n",
        "    'country': [0, 2, 1],\n",
        "    'market_type': [0, 0, 0],\n",
        "    'square_feet': [1850, 2100, 1920],\n",
        "    'avg_customers': [190, 215, 220],\n",
        "    'competitor_distance': [4500, 1850, 1450],\n",
        "    'has_promotions': [1, 1, 1],\n",
        "}\n",
        "test_df = pd.DataFrame(test_data)\n",
        "\n",
        "# Columns to standardize\n",
        "columns_to_standardize = ['country', 'market_type', 'square_feet', 'avg_customers',  'competitor_distance','has_promotions']\n",
        "\n",
        "# Extract the columns you want to standardize\n",
        "X_subset_test = test_df[columns_to_standardize]\n",
        "\n",
        "# Standardize features by removing the mean and scaling to unit variance\n",
        "scaler = StandardScaler()\n",
        "X_scaled_test = scaler.fit_transform(X_subset_test)\n",
        "X_scaled_test = pd.DataFrame(X_scaled_test, columns=X_subset_test.columns)\n",
        "\n",
        "# Select features based on the best model's feature importance or selection criteria\n",
        "selected_features = ['country', 'market_type', 'has_promotions', 'square_feet', 'avg_customers', 'competitor_distance']\n",
        "\n",
        "# Select predictors and target using the selected features\n",
        "X = merged_df[selected_features]\n",
        "y = merged_df['sales_amount']\n",
        "\n",
        "# Assuming you have the best parameters from the model selection process\n",
        "best_params = {\"n_estimators\": 100, \"learning_rate\": 0.1, \"max_depth\": 3}\n",
        "\n",
        "# Fit the best model on the entire dataset\n",
        "best_model = GradientBoostingRegressor(**best_params)\n",
        "best_model.fit(X, y)\n",
        "\n",
        "# Ensure the order of features in X_scaled_test matches the order in X\n",
        "X_scaled_test = X_scaled_test[X.columns]\n",
        "\n",
        "# Make predictions on the test data using the same selected features\n",
        "test_predictions = best_model.predict(X_scaled_test)\n",
        "print(test_predictions)\n"
      ],
      "metadata": {
        "colab": {
          "base_uri": "https://localhost:8080/"
        },
        "id": "e6WYSZ2gTepo",
        "outputId": "09343e89-296d-4041-a434-49355ba99ffc"
      },
      "execution_count": null,
      "outputs": [
        {
          "output_type": "stream",
          "name": "stdout",
          "text": [
            "[6803500.88389027 6740586.63983877 6803500.88389027]\n"
          ]
        }
      ]
    },
    {
      "cell_type": "code",
      "source": [
        "# Test data\n",
        "test_data = {\n",
        "    'country': [0, 2, 1],\n",
        "    'market_type': [0, 0, 0],\n",
        "    'square_feet': [1850, 2100, 1920],\n",
        "    'avg_customers': [190, 215, 220],\n",
        "    'competitor_distance': [4500, 1850, 1450],\n",
        "    'has_promotions': [1, 1, 1],\n",
        "}\n",
        "test_df = pd.DataFrame(test_data)\n",
        "\n",
        "# Columns to standardize\n",
        "columns_to_standardize = ['country', 'market_type', 'square_feet', 'avg_customers', 'competitor_distance', 'has_promotions']\n",
        "\n",
        "# Extract the columns you want to standardize\n",
        "X_subset_test = test_df[columns_to_standardize]\n",
        "\n",
        "# Standardize features by removing the mean and scaling to unit variance\n",
        "scaler = StandardScaler()\n",
        "X_scaled_test = scaler.fit_transform(X_subset_test)\n",
        "X_scaled_test = pd.DataFrame(X_scaled_test, columns=X_subset_test.columns)\n",
        "\n",
        "# ... (rest of your code)\n",
        "\n",
        "# Ensure the order of features in X_scaled_test matches the order in X\n",
        "X_scaled_test = X_scaled_test[X.columns]\n",
        "\n",
        "# Make predictions on the test data using the same selected features\n",
        "test_predictions = best_model.predict(X_scaled_test)\n",
        "print(test_predictions)\n"
      ],
      "metadata": {
        "colab": {
          "base_uri": "https://localhost:8080/"
        },
        "id": "YVFdoraHVphb",
        "outputId": "bb1d875d-d120-45f8-a682-d5988ab04a0d"
      },
      "execution_count": null,
      "outputs": [
        {
          "output_type": "stream",
          "name": "stdout",
          "text": [
            "[6803500.88389027 6740586.63983877 6803500.88389027]\n"
          ]
        }
      ]
    },
    {
      "cell_type": "markdown",
      "source": [
        "In this model suggested that minimarket open in **France ** country which has the best sale with these options."
      ],
      "metadata": {
        "id": "_ha7fNFBVYEM"
      }
    },
    {
      "cell_type": "markdown",
      "source": [
        "# **test my model for super market**"
      ],
      "metadata": {
        "id": "zzycqYTJ8465"
      }
    },
    {
      "cell_type": "code",
      "source": [
        "import pandas as pd\n",
        "from sklearn.ensemble import GradientBoostingRegressor\n",
        "from sklearn.preprocessing import StandardScaler\n",
        "\n",
        "# Assuming you have the `calculate_metrics` function defined somewhere\n",
        "\n",
        "# Test data\n",
        "test_data = {\n",
        "    'country': [0, 2, 1],\n",
        "    'market_type': [1, 1, 1],\n",
        "    'square_feet': [5880, 5120, 4970],\n",
        "    'avg_customers': [420, 390, 410],\n",
        "    'competitor_distance': [580, 2560, 3520],\n",
        "    'has_promotions': [1, 1, 1],\n",
        "}\n",
        "test_df = pd.DataFrame(test_data)\n",
        "\n",
        "# Columns to standardize\n",
        "columns_to_standardize = ['country', 'market_type', 'square_feet', 'avg_customers', 'competitor_distance', 'has_promotions']\n",
        "\n",
        "# Extract the columns you want to standardize\n",
        "X_subset_test = test_df[columns_to_standardize]\n",
        "\n",
        "# Standardize features by removing the mean and scaling to unit variance\n",
        "scaler = StandardScaler()\n",
        "X_scaled_test = scaler.fit_transform(X_subset_test)\n",
        "X_scaled_test = pd.DataFrame(X_scaled_test, columns=X_subset_test.columns)\n",
        "\n",
        "# Select features based on the best model's feature importance or selection criteria\n",
        "selected_features = ['country', 'market_type', 'has_promotions', 'square_feet', 'avg_customers', 'competitor_distance']\n",
        "\n",
        "# Select predictors and target using the selected features\n",
        "X = merged_df[selected_features]\n",
        "y = merged_df['sales_amount']\n",
        "\n",
        "# Assuming you have the best parameters from the model selection process\n",
        "best_params = {\"n_estimators\": 100, \"learning_rate\": 0.1, \"max_depth\": 3}\n",
        "\n",
        "# Fit the best model on the entire dataset\n",
        "best_model = GradientBoostingRegressor(**best_params)\n",
        "best_model.fit(X, y)\n",
        "\n",
        "# Ensure the order of features in X_scaled_test matches the order in X\n",
        "X_scaled_test = X_scaled_test[X.columns]\n",
        "\n",
        "# Make predictions on the test data using the same selected features\n",
        "test_predictions = best_model.predict(X_scaled_test)\n",
        "print(test_predictions)\n"
      ],
      "metadata": {
        "colab": {
          "base_uri": "https://localhost:8080/"
        },
        "id": "uSj1_0ijT7su",
        "outputId": "122181c7-3ae3-4ecd-c6e3-e911707bbf7d"
      },
      "execution_count": null,
      "outputs": [
        {
          "output_type": "stream",
          "name": "stdout",
          "text": [
            "[6803500.88389027 6740586.63983877 6803500.88389027]\n"
          ]
        }
      ]
    },
    {
      "cell_type": "code",
      "source": [
        "import pandas as pd\n",
        "from sklearn.ensemble import GradientBoostingRegressor\n",
        "from sklearn.preprocessing import StandardScaler\n",
        "\n",
        "# Assuming you have the `calculate_metrics` function defined somewhere\n",
        "\n",
        "# Test data\n",
        "test_data = {\n",
        "    'country': [0, 2, 1],\n",
        "    'market_type': [1, 1, 1],\n",
        "    'square_feet': [5880, 5120, 4970],\n",
        "    'avg_customers': [420, 390, 410],\n",
        "    'competitor_distance': [580, 2560, 3520],\n",
        "    'has_promotions': [1, 1, 1],\n",
        "}\n",
        "test_df = pd.DataFrame(test_data)\n",
        "\n",
        "# Columns to standardize\n",
        "columns_to_standardize = ['country', 'market_type', 'square_feet', 'avg_customers', 'competitor_distance', 'has_promotions']\n",
        "\n",
        "# Extract the columns you want to standardize\n",
        "X_subset_test = test_df[columns_to_standardize]\n",
        "\n",
        "# Standardize features using the same scaler object as for training data\n",
        "X_scaled_test = scaler.transform(X_subset_test)  # Use the same scaler object as in training\n",
        "\n",
        "# Select features based on the best model's feature importance or selection criteria\n",
        "selected_features = ['country', 'market_type', 'has_promotions', 'square_feet', 'avg_customers', 'competitor_distance']\n",
        "\n",
        "# Select predictors and target using the selected features\n",
        "X = merged_df[selected_features]\n",
        "y = merged_df['sales_amount']\n",
        "\n",
        "# Assuming you have the best parameters from the model selection process\n",
        "best_params = {\"n_estimators\": 100, \"learning_rate\": 0.1, \"max_depth\": 3}\n",
        "\n",
        "# Fit the best model on the entire dataset\n",
        "best_model = GradientBoostingRegressor(**best_params)\n",
        "best_model.fit(X, y)\n",
        "\n",
        "# Ensure the order of features in X_scaled_test matches the order in X\n",
        "X_scaled_test = pd.DataFrame(X_scaled_test, columns=columns_to_standardize)\n",
        "X_scaled_test = X_scaled_test[selected_features]\n",
        "\n",
        "# Make predictions on the test data using the same selected features\n",
        "test_predictions = best_model.predict(X_scaled_test)\n",
        "print(test_predictions)\n"
      ],
      "metadata": {
        "colab": {
          "base_uri": "https://localhost:8080/"
        },
        "id": "1emdYKTrTsbu",
        "outputId": "e58a8cc3-c4ba-4025-8067-fd949d6de9de"
      },
      "execution_count": null,
      "outputs": [
        {
          "output_type": "stream",
          "name": "stdout",
          "text": [
            "[6803500.88389027 6740586.63983877 6803500.88389027]\n"
          ]
        }
      ]
    },
    {
      "cell_type": "code",
      "source": [
        "selected_features = ['country', 'market_type', 'has_promotions', 'square_feet', 'avg_customers', 'competitor_distance']\n",
        "X_scaled_test = X_scaled_test[selected_features]\n"
      ],
      "metadata": {
        "id": "l1MI-cJgUIwS"
      },
      "execution_count": null,
      "outputs": []
    },
    {
      "cell_type": "markdown",
      "source": [
        "In this model suggested that minimarket open in **France ** country which has the best sale with these options"
      ],
      "metadata": {
        "id": "tOY-Po8XYryg"
      }
    },
    {
      "cell_type": "markdown",
      "source": [
        "# **test my model for hyper market**"
      ],
      "metadata": {
        "id": "6aTyfylT9EoL"
      }
    },
    {
      "cell_type": "code",
      "source": [
        "import pandas as pd\n",
        "from sklearn.ensemble import GradientBoostingRegressor\n",
        "from sklearn.preprocessing import StandardScaler\n",
        "\n",
        "# Assuming you have the `calculate_metrics` function defined somewhere\n",
        "\n",
        "# Test data\n",
        "test_data = {\n",
        "    'country': [0, 2, 1],\n",
        "    'market_type': [2, 2, 2],\n",
        "    'square_feet': [10560, 12570, 11980],\n",
        "    'avg_customers': [860, 880, 790],\n",
        "    'competitor_distance': [8940, 7580, 11560],\n",
        "    'has_promotions': [1, 1, 1],\n",
        "}\n",
        "test_df = pd.DataFrame(test_data)\n",
        "\n",
        "# Columns to standardize\n",
        "columns_to_standardize = ['country', 'market_type', 'square_feet', 'avg_customers', 'competitor_distance', 'has_promotions']\n",
        "\n",
        "# Extract the columns you want to standardize\n",
        "X_subset_test = test_df[columns_to_standardize]\n",
        "\n",
        "# Standardize features by removing the mean and scaling to unit variance\n",
        "scaler = StandardScaler()\n",
        "X_scaled_test = scaler.fit_transform(X_subset_test)\n",
        "X_scaled_test = pd.DataFrame(X_scaled_test, columns=X_subset_test.columns)\n",
        "\n",
        "# Select features based on the best model's feature importance or selection criteria\n",
        "selected_features = ['country', 'market_type', 'has_promotions', 'square_feet', 'avg_customers', 'competitor_distance']\n",
        "\n",
        "# Select predictors and target using the selected features\n",
        "X = merged_df[selected_features]\n",
        "y = merged_df['sales_amount']\n",
        "\n",
        "# Assuming you have the best parameters from the model selection process\n",
        "best_params = {\"n_estimators\": 100, \"learning_rate\": 0.1, \"max_depth\": 3}\n",
        "\n",
        "# Fit the best model on the entire dataset\n",
        "best_model = GradientBoostingRegressor(**best_params)\n",
        "best_model.fit(X, y)\n",
        "\n",
        "# Ensure the order of features in X_scaled_test matches the order in X\n",
        "X_scaled_test = X_scaled_test[X.columns]\n",
        "\n",
        "# Make predictions on the test data using the same selected features\n",
        "test_predictions = best_model.predict(X_scaled_test)\n",
        "print(test_predictions)\n"
      ],
      "metadata": {
        "colab": {
          "base_uri": "https://localhost:8080/"
        },
        "id": "lCMDlgTaU11K",
        "outputId": "406a451c-20b0-4430-ef0e-9b90cef2ab54"
      },
      "execution_count": null,
      "outputs": [
        {
          "output_type": "stream",
          "name": "stdout",
          "text": [
            "[ 9881438.11113003 28175666.63521579 12601087.24705106]\n"
          ]
        }
      ]
    },
    {
      "cell_type": "markdown",
      "source": [
        "In this model suggested that minimarket open in **France ** country which has the best sale with these options"
      ],
      "metadata": {
        "id": "MWGmswZYZDHK"
      }
    }
  ],
  "metadata": {
    "colab": {
      "provenance": [],
      "collapsed_sections": [
        "3w1Wyp2ItksL",
        "PlrQB9e89LIh",
        "fh7tsM2QCBww",
        "w9iVLbP7vk23",
        "sX7yK7L2v337",
        "YN75qpF09V9W",
        "FUhqcT2lK9Sd",
        "njAIVOpgNckB",
        "IEwvYZFE1JTs",
        "eOkhpz5y71-s",
        "UjX0HKS0wH32",
        "-jAyeUhLw4v1"
      ],
      "toc_visible": true,
      "include_colab_link": true
    },
    "kernelspec": {
      "display_name": "Python 3",
      "name": "python3"
    },
    "language_info": {
      "name": "python"
    }
  },
  "nbformat": 4,
  "nbformat_minor": 0
}